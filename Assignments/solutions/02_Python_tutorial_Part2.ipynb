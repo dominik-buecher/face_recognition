{
 "cells": [
  {
   "cell_type": "markdown",
   "metadata": {},
   "source": [
    "# Introduction to Python, Part 2\n",
    "by [Nicolaj Stache](mailto:Nicolaj.Stache@hs-heilbronn.de), [Andreas Schneider](mailto:Andreas.Schneider@hs-heilbronn.de), Heilbronn University of Applied Sciences\n",
    "\n",
    "This tutorial consists of three parts: \n",
    "\n",
    "The first part is on execution control sturcturs such as if statements and loops\n",
    "\n",
    "The second part covers functions for code reusability\n",
    "\n",
    "And the third part deals with more Python-specific data structures such as \n",
    "-  lists\n",
    "-  tuples\n",
    "-  sets \n",
    "-  dictionaries\n"
   ]
  },
  {
   "cell_type": "markdown",
   "metadata": {},
   "source": [
    "## 1. Control structures\n",
    "\n",
    "This part contains examples of different control stuctures which help you to infer the underlying structure by yourself (requires a little prior knowledge of other programming languages).\n",
    "\n",
    "Please note: \n",
    "-  code is structured by indentation\n",
    "-  be aware not to forget the colon (:) after a statement\n",
    "\n",
    "\n",
    "### If - Elif - Else"
   ]
  },
  {
   "cell_type": "code",
   "execution_count": null,
   "metadata": {},
   "outputs": [],
   "source": [
    "x = int(input(\"Please enter an integer: \"))\n",
    "\n",
    "if x < 5:\n",
    "    print('x less than 5')\n",
    "    if x == 0:\n",
    "        print('Zero')\n",
    "    elif x > 0:\n",
    "         print('x is positive')\n",
    "    else:\n",
    "         print('x is negative')\n"
   ]
  },
  {
   "cell_type": "markdown",
   "metadata": {},
   "source": [
    "> ** Task: draw a flow chart of the If-Elif-Else structure in a drawing tool and insert the picture in a markdown cell below.\n",
    "    How would the chart look like without having the `else:` statement? **"
   ]
  },
  {
   "cell_type": "markdown",
   "metadata": {},
   "source": [
    "### While Loop"
   ]
  },
  {
   "cell_type": "code",
   "execution_count": null,
   "metadata": {},
   "outputs": [],
   "source": [
    "# Fibonacci series:\n",
    "# the sum of two elements defines the next\n",
    "\n",
    "# Feature: multiple assignment -> just be patient, it will become clearer in the examples on tuples below\n",
    "a, b = 0, 1 \n",
    "while b < 100:\n",
    "    print(b, end=', ') # \"end\" avoids a new line and prints a comma instead\n",
    "    a, b = b, a+b # again, this is multiple assignment via a tuple"
   ]
  },
  {
   "cell_type": "markdown",
   "metadata": {},
   "source": [
    "> ** Task: Discuss with your neighbor how the example of Fibonacci series computation works! **"
   ]
  },
  {
   "cell_type": "markdown",
   "metadata": {},
   "source": [
    "### For Loop"
   ]
  },
  {
   "cell_type": "code",
   "execution_count": null,
   "metadata": {},
   "outputs": [],
   "source": [
    "for i in range(5):\n",
    "    print(i)"
   ]
  },
  {
   "cell_type": "code",
   "execution_count": null,
   "metadata": {},
   "outputs": [],
   "source": [
    "# using range()\n",
    "a = ['Mary', 'had', 'a', 'little', 'lamb']\n",
    "for i in range(len(a)):  # Note: in the section on lists below, you find a more elegant way using enumerate for this task\n",
    "    print(i, a[i])"
   ]
  },
  {
   "cell_type": "code",
   "execution_count": null,
   "metadata": {},
   "outputs": [],
   "source": [
    "print(range(10))"
   ]
  },
  {
   "cell_type": "code",
   "execution_count": null,
   "metadata": {},
   "outputs": [],
   "source": [
    "list(range(5))"
   ]
  },
  {
   "cell_type": "code",
   "execution_count": null,
   "metadata": {},
   "outputs": [],
   "source": [
    "# Using the break statement\n",
    "for n in range(2, 100):\n",
    "    #print(\"current n:\",n)\n",
    "    found = True\n",
    "    \n",
    "    for x in range(2, n):\n",
    "        #print(\"current x:\",x)\n",
    "        if n % x == 0:\n",
    "            #print(n, 'equals', x, '*', n//x)\n",
    "            found = False\n",
    "            break\n",
    "        elif x == n-1:\n",
    "                if found == True:\n",
    "                    print(n, 'is a prime number')"
   ]
  },
  {
   "cell_type": "code",
   "execution_count": null,
   "metadata": {},
   "outputs": [],
   "source": [
    "# Using the continue statement\n",
    "\n",
    "for num in range(2, 10):\n",
    "    if num % 2 == 0:\n",
    "        print(\"Found an even number\", num)\n",
    "        continue\n",
    "    print(\"Found a number\", num)"
   ]
  },
  {
   "cell_type": "code",
   "execution_count": null,
   "metadata": {
    "collapsed": true
   },
   "outputs": [],
   "source": [
    "# use pass as a placeholder.\n",
    "if 2 == 2:\n",
    "    pass"
   ]
  },
  {
   "cell_type": "markdown",
   "metadata": {},
   "source": [
    "> ** Task: Create a new markdown cell below and describe the main differences between the different types of loops. What is the difference between `break` and `continue` **"
   ]
  },
  {
   "cell_type": "markdown",
   "metadata": {},
   "source": [
    "---\n",
    "\n",
    "## 2. Functions\n",
    "\n",
    "Wrapping code into functions has several desirable goals:\n",
    "\n",
    "_Modularity (Decomposition):_ The complexity of developing a large program can be dealt with by breaking down the program into smaller, simpler, self-contained pieces. Each smaller piece (e.g., function) can be designed, implemented, tested, and debugged independently.\n",
    "\n",
    "_Code reuse:_ A fragment of code that is used multiple times in a program—or by multiple programs—should be packaged in a function. The program ends up being shorter, with a single function call replacing a code fragment, and clearer, because the name of the function can be more descriptive of the action being performed by the code fragment. Debugging also becomes easier because a bug in the code fragment will need to be fixed only once.\n",
    "\n",
    "_Encapsulation (Abstraction):_ A function hides its implementation details from the user of the function; removing the implementation details from the developer’s radar makes her job easier.\n"
   ]
  },
  {
   "cell_type": "code",
   "execution_count": null,
   "metadata": {},
   "outputs": [],
   "source": [
    "def fib(n):    # write Fibonacci series up to n\n",
    "\n",
    "    \"\"\"Print a Fibonacci series up to n.\"\"\"\n",
    "    a, b = 0, 1\n",
    "    while a < n:\n",
    "        print(a, end=' ')\n",
    "        a, b = b, a+b\n",
    "    print()\n",
    "    \n",
    "fib(2000)"
   ]
  },
  {
   "cell_type": "code",
   "execution_count": null,
   "metadata": {},
   "outputs": [],
   "source": [
    "f = fib\n",
    "print(f(2))"
   ]
  },
  {
   "cell_type": "code",
   "execution_count": null,
   "metadata": {},
   "outputs": [],
   "source": [
    "def brake(v0, a, tvz = 1):\n",
    "    '''\n",
    "    INPUTS\n",
    "    v0 : initial velocity in m/s\n",
    "    a  : acceleration (has to be negative for braking)\n",
    "    tvz: time offset (default is 1 s of reaction time)\n",
    "    \n",
    "    OUTPUTs\n",
    "    s : distance needed to stop\n",
    "    t : time needed to stop\n",
    "    '''\n",
    "\n",
    "    s = v0 * tvz - (v0**2) / (2*a)\n",
    "    t = tvz - v0 / a\n",
    "    \n",
    "    return s, t\n",
    "\n",
    "# compute time to stop from 90 km/h, a= -10 m/s^2\n",
    "\n",
    "_, time = brake(90/3.6, -10) # the distance is not of interest here\n",
    "\n",
    "print('Time in seconds to stop from 90 km/h, a=10 m/s^2: ', time)"
   ]
  },
  {
   "cell_type": "markdown",
   "metadata": {},
   "source": [
    "\n",
    "---\n",
    "\n",
    "## 3. Python specific data structures\n",
    "\n",
    "### Lists\n",
    "\n",
    "Most similar to what other programming languages call \"array\" but with some added functionality. \n",
    "A list is an ordered collection. The elements are mutable.\n",
    "An overview on the additional features is presented here: \n",
    "\n",
    "| Usage          | Explanation                          |\n",
    "|----------------|--------------------------------------|\n",
    "| `x in lst`     | `x` is an item of `lst`              |\n",
    "| `x not in lst` | `x` is not an item of `lst`          |\n",
    "| `lstA + lstB`  | concatenation of `lstA` and `lstB`   |\n",
    "| `lst * n`      | concatenation of `n` copies of `lst` |\n",
    "| `lst[i]`       | item at index `i` of `lst`           |\n",
    "| `len(lst)`     | number of items in  `lst`            |\n",
    "| `min(lst)`     | minimum item in `lst`                |\n",
    "| `max(lst)`     | maximum item in `lst`                |\n",
    "| `sum(lst)`     | sum of items in `lst`                |\n",
    "\n",
    "\n",
    "Lists can be created as a comma-separated sequence of items enclosed within **square brackets**"
   ]
  },
  {
   "cell_type": "code",
   "execution_count": null,
   "metadata": {},
   "outputs": [],
   "source": [
    "# examples of different lists\n",
    "\n",
    "integer_list = [1, 2, 3]\n",
    "heterogeneous_list = [\"hello\", 0.1, True]\n",
    "list_of_lists = [ integer_list, heterogeneous_list, [] ]\n",
    "\n",
    "print('integer_list: ', integer_list)\n",
    "print('heterogeneous_list: ', heterogeneous_list)\n",
    "print('list_of_lists: ', list_of_lists)\n",
    "\n",
    "\n",
    "list_length = len(integer_list) # equals 3\n",
    "list_sum = sum(integer_list) # equals 6\n",
    "\n",
    "print('list_length: ', list_length)\n",
    "print('list_sum: ', list_sum)"
   ]
  },
  {
   "cell_type": "markdown",
   "metadata": {},
   "source": [
    "You can also index and slice lists (as already shown with strings):"
   ]
  },
  {
   "cell_type": "code",
   "execution_count": null,
   "metadata": {},
   "outputs": [],
   "source": [
    "squares = [1, 4, 9, 16, 25]\n",
    "\n",
    "# Indexing And Slicing \n",
    "print(squares[0])  # indexing returns the item\n",
    "print(squares[-1])\n",
    "print(squares[-3:])  # slicing returns a new list"
   ]
  },
  {
   "cell_type": "code",
   "execution_count": null,
   "metadata": {},
   "outputs": [],
   "source": [
    "# All slice operations return a new list containing the requested elements. \n",
    "# This means that the following slice returns a new (shallow) copy of the list:\n",
    "squares[:]"
   ]
  },
  {
   "cell_type": "code",
   "execution_count": null,
   "metadata": {},
   "outputs": [],
   "source": [
    "# Lists also support operations like concatenation:\n",
    "squares + [36, 49, 64, 81, 100]"
   ]
  },
  {
   "cell_type": "code",
   "execution_count": null,
   "metadata": {},
   "outputs": [],
   "source": [
    "# Lists are mutuable (unlike Strings)\n",
    "cubes = [1, 8, 27, 65, 125]  # something's wrong here\n",
    "cubes[3] = 64  # the cube of 4 is 64, not 65!\n",
    "cubes"
   ]
  },
  {
   "cell_type": "code",
   "execution_count": null,
   "metadata": {},
   "outputs": [],
   "source": [
    "letters = ['a', 'b', 'c', 'd', 'e', 'f', 'g']\n",
    "letters"
   ]
  },
  {
   "cell_type": "code",
   "execution_count": null,
   "metadata": {},
   "outputs": [],
   "source": [
    "# replace some values\n",
    "letters[2:5] = ['C', 'D', 'E']\n",
    "letters"
   ]
  },
  {
   "cell_type": "code",
   "execution_count": null,
   "metadata": {},
   "outputs": [],
   "source": [
    "# Length\n",
    "len(letters)"
   ]
  },
  {
   "cell_type": "code",
   "execution_count": null,
   "metadata": {},
   "outputs": [],
   "source": [
    "# now remove them\n",
    "letters[2:5] = []\n",
    "letters"
   ]
  },
  {
   "cell_type": "code",
   "execution_count": null,
   "metadata": {},
   "outputs": [],
   "source": [
    "# clear the list by replacing all the elements with an empty list\n",
    "letters[:] = []\n",
    "letters"
   ]
  },
  {
   "cell_type": "markdown",
   "metadata": {},
   "source": [
    "#### \"unpack\" lists"
   ]
  },
  {
   "cell_type": "code",
   "execution_count": null,
   "metadata": {
    "collapsed": true
   },
   "outputs": [],
   "source": [
    "x, y = [1, 2]  # now x is 1, y is 2 (this is only for lists where the number of elements is known)\n",
    "_, y = [1, 2]  # now y == 2, didn't care about the first element"
   ]
  },
  {
   "cell_type": "markdown",
   "metadata": {},
   "source": [
    "### List's methods\n",
    "\n",
    "len() and sum() are examples of functions that can be called with a list input argument and they can be also used with other types of input arguments\n",
    "\n",
    "However, there are also functions that are called on a list. These funnctions are called list methods. \n",
    "Example: `lst.append(8)`\n",
    "\n",
    "| Usage                 | Explanation                                           |\n",
    "|-----------------------|-------------------------------------------------------|\n",
    "| `lst.append(item)`    | adds `item` to the end of `lst`                       |\n",
    "| `lst.extend(lst2)`    | add `items` in `lst2` to the end of `lst`             |\n",
    "| `lst.count(item)`     | returns the number of tims `item` occurs in `lst`     |\n",
    "| `lst.index(item)`     | returns index of (first occurence of) `item` in `lst` |\n",
    "| `lst.pop()`           | removes and returns teh last item in `lst`            |\n",
    "| `lst.pop(i)`          | removes and returns elements at index `i`             |\n",
    "| `lst.remove(item)`    | removes (the first occurrence of) `item` from `lst`   |\n",
    "| `lst.insert(i, item)` | insert `item` at index `i`                            |\n",
    "| `lst.reverse()`       | reverses the order of items in `lst`                  |\n",
    "| `lst.sort()`          | sorts the items of `lst` in increasing order          |   "
   ]
  },
  {
   "cell_type": "markdown",
   "metadata": {},
   "source": [
    "#### Append vs. Extend"
   ]
  },
  {
   "cell_type": "code",
   "execution_count": null,
   "metadata": {},
   "outputs": [],
   "source": [
    "x = [1, 2, 3]\n",
    "x.append([4, 5])\n",
    "print (x)\n",
    "\n",
    "x = [1, 2, 3]\n",
    "x.extend([4, 5])\n",
    "print (x)"
   ]
  },
  {
   "cell_type": "markdown",
   "metadata": {},
   "source": [
    "#### Insert and Remove"
   ]
  },
  {
   "cell_type": "code",
   "execution_count": null,
   "metadata": {},
   "outputs": [],
   "source": [
    "x.insert(3,999) # Insert element with value 999 at position 3\n",
    "print(x)\n",
    "x.remove(4)  # remove the first item in the list with the given value 4\n",
    "print(x)"
   ]
  },
  {
   "cell_type": "markdown",
   "metadata": {},
   "source": [
    "#### count and index"
   ]
  },
  {
   "cell_type": "code",
   "execution_count": null,
   "metadata": {},
   "outputs": [],
   "source": [
    "fruits = ['orange', 'apple', 'pear', 'banana', 'kiwi', 'apple', 'banana']\n",
    "apple_count = fruits.count('apple')\n",
    "print(\"apples:\",apple_count)\n",
    "tangerine_count = fruits.count('tangerine')\n",
    "print(\"tangerine:\",tangerine_count)\n",
    "find_banana_index1=fruits.index('banana') # Find next banana starting from position 0\n",
    "print(\"index1:\",find_banana_index1)\n",
    "find_banana_index2 = fruits.index('banana', 4)  # Find next banana starting a position 4\n",
    "print(\"index2:\",find_banana_index2)"
   ]
  },
  {
   "cell_type": "code",
   "execution_count": null,
   "metadata": {},
   "outputs": [],
   "source": [
    "fruits.reverse()\n",
    "fruits"
   ]
  },
  {
   "cell_type": "code",
   "execution_count": null,
   "metadata": {},
   "outputs": [],
   "source": [
    "fruits.sort()\n",
    "fruits"
   ]
  },
  {
   "cell_type": "code",
   "execution_count": null,
   "metadata": {},
   "outputs": [],
   "source": [
    "fruits\n",
    "# Remove the item at the given position in the list, and return it. \n",
    "# If no index is specified, a.pop() removes and returns the last item in the list.\n",
    "fruits.pop()\n",
    "fruits"
   ]
  },
  {
   "cell_type": "markdown",
   "metadata": {},
   "source": [
    "#### Relating lists and strings"
   ]
  },
  {
   "cell_type": "code",
   "execution_count": null,
   "metadata": {},
   "outputs": [],
   "source": [
    "# convert a sting into a list using the split method (split at whitespace)\n",
    "text = 'quod erat demonstrandum'\n",
    "text_list = text.split(' ')\n",
    "print(text_list)\n",
    "\n",
    "# convert list to sting again using join method, recovering the whitespace\n",
    "text_list_string = ' '.join(text_list)\n",
    "print(text_list_string)"
   ]
  },
  {
   "cell_type": "markdown",
   "metadata": {},
   "source": [
    "### List comprehensions\n",
    "\n",
    "List comprehensions are a Pythonic way of creating and transforming lists. They are widely used. Here are some examples (source: Data Science from Scratch, O'Reilly):\n"
   ]
  },
  {
   "cell_type": "code",
   "execution_count": null,
   "metadata": {
    "collapsed": true
   },
   "outputs": [],
   "source": [
    "even_numbers = [x for x in range(5) if x % 2 == 0] # [0, 2, 4]\n",
    "squares = [x * x for x in range(5)] # [0, 1, 4, 9, 16]\n",
    "even_squares = [x * x for x in even_numbers] # [0, 4, 16]\n",
    "\n",
    "zeroes = [0 for _ in even_numbers] # has the same length as even_numbers\n",
    "\n",
    "pairs = [(x, y)\n",
    "for x in range(10)\n",
    "for y in range(10)] # 100 pairs (0,0) (0,1) ... (9,8), (9,9)"
   ]
  },
  {
   "cell_type": "markdown",
   "metadata": {},
   "source": [
    "### Iterate over lists"
   ]
  },
  {
   "cell_type": "markdown",
   "metadata": {},
   "source": [
    "Case 1: only the list entry is needed:"
   ]
  },
  {
   "cell_type": "code",
   "execution_count": null,
   "metadata": {},
   "outputs": [],
   "source": [
    "exampleList = [1, 2, 3, 5, 7, 11]\n",
    "\n",
    "for number in exampleList:\n",
    "    print(number)"
   ]
  },
  {
   "cell_type": "markdown",
   "metadata": {},
   "source": [
    "Case 2: if list entry and index is needed, use `enumerate`"
   ]
  },
  {
   "cell_type": "code",
   "execution_count": null,
   "metadata": {},
   "outputs": [],
   "source": [
    "exampleList = [1, 2, 3, 5, 7, 11]\n",
    "\n",
    "for i, number in enumerate(exampleList):\n",
    "    print('Entry position: ', i, ' value: ', number)"
   ]
  },
  {
   "cell_type": "markdown",
   "metadata": {},
   "source": [
    "Case 3: if index is needed, use `enumerate`"
   ]
  },
  {
   "cell_type": "code",
   "execution_count": null,
   "metadata": {},
   "outputs": [],
   "source": [
    "exampleList = [1, 2, 3, 5, 7, 11]\n",
    "\n",
    "for i, _ in enumerate(exampleList):\n",
    "    print(i)"
   ]
  },
  {
   "cell_type": "markdown",
   "metadata": {},
   "source": [
    "## Tuples\n",
    "\n",
    "Tuples are immutable lists. They are defined by either parentheses () or even nothing.\n",
    "Tuples are a convenient way to return multiple values from functions. "
   ]
  },
  {
   "cell_type": "code",
   "execution_count": null,
   "metadata": {},
   "outputs": [],
   "source": [
    "t = 12345, 54321, 'hello!'\n",
    "t[0]"
   ]
  },
  {
   "cell_type": "code",
   "execution_count": null,
   "metadata": {},
   "outputs": [],
   "source": [
    "t"
   ]
  },
  {
   "cell_type": "code",
   "execution_count": null,
   "metadata": {},
   "outputs": [],
   "source": [
    "u = t, (1, 2, 3, 4, 5)\n",
    "u"
   ]
  },
  {
   "cell_type": "code",
   "execution_count": null,
   "metadata": {},
   "outputs": [],
   "source": [
    "# a lists in a tuple\n",
    "v = ([1, 2, 3], [3, 2, 1])\n",
    "v"
   ]
  },
  {
   "cell_type": "code",
   "execution_count": null,
   "metadata": {},
   "outputs": [],
   "source": [
    "# now, let's try to change a value\n",
    "\n",
    "# we can change a list value\n",
    "v[0][1] = 4\n",
    "print(v)\n",
    "\n",
    "# but we cannot change the value of the tuple\n",
    "# v[1] = [2, 3, 3] # does not work"
   ]
  },
  {
   "cell_type": "code",
   "execution_count": null,
   "metadata": {
    "collapsed": true
   },
   "outputs": [],
   "source": [
    "# tuples (and lists) can be used for multiple assignment: \n",
    "\n",
    "x, y = 1, 2 # now x is 1, y is 2\n",
    "x, y = y, x # Pythonic way to swap variables; now x is 2, y is 1"
   ]
  },
  {
   "cell_type": "markdown",
   "metadata": {},
   "source": [
    "### Sets\n",
    "\n",
    "A set is a collection of distinct elements. This means it is\n",
    "-  an unordered collection of non-identical items\n",
    "-  supports operations such as set membership, set union, set intersection, set difference, etc.\n",
    "\n",
    "Example applications: \n",
    "-  Remove duplicates from a list (see below) -> Warning: The order of the list changes\n",
    "-  Used for quick membership tests\n",
    "\n",
    "A set is defined using `set()` or curly braces `{ }`\n",
    "\n",
    "Sets are mutable.\n",
    "\n",
    "Common `set` operations:\n",
    "\n",
    "| Operation     | Explanation                                                                   |\n",
    "|---------------|-------------------------------------------------------------------------------|\n",
    "| `s == t`      | `True` if sets `s`and `t` contain the same elements, `False` otherwise        |\n",
    "| `s != t`      | `True` if sets `s`and `t` do not contain the same elements, `False` otherwise |\n",
    "| `s <= t`      | `True` if every element of set `s` is in set `t`, `False` otherwise           |\n",
    "| `s < t`       | `True` if `s <= t` and `s != t`                                               |\n",
    "| <code>s &#124; t</code> | Retruns the union of sets `s`and `t`                                          |\n",
    "| `s & t`       | Retruns the intersection of sets `s`and `t`                                   |\n",
    "| `s - t`       | Retruns the difference of sets `s`and `t`                                     |\n",
    "| `s ^ t`       | Retruns the symmetric difference of sets `s`and `t`                           |\n",
    "\n",
    "\n",
    "Common `set` methods:\n",
    "\n",
    "| Operation        | Explanation                        |\n",
    "|------------------|------------------------------------|\n",
    "| `s.add(item)`    | add `item` to set `s`              |\n",
    "| `s.remove(item)` | remove `item` from  set `s`        |\n",
    "| `s.clear()`      | removes all elements from set `s`  |"
   ]
  },
  {
   "cell_type": "code",
   "execution_count": null,
   "metadata": {
    "collapsed": true
   },
   "outputs": [],
   "source": [
    "a = set(\"abracadabra\")\n",
    "b = set('alacazam')"
   ]
  },
  {
   "cell_type": "code",
   "execution_count": null,
   "metadata": {},
   "outputs": [],
   "source": [
    "a"
   ]
  },
  {
   "cell_type": "code",
   "execution_count": null,
   "metadata": {},
   "outputs": [],
   "source": [
    "b"
   ]
  },
  {
   "cell_type": "code",
   "execution_count": null,
   "metadata": {},
   "outputs": [],
   "source": [
    "print(a - b) # letters in a but not in b)\n",
    "\n",
    "print(a | b) # letters in a or b or both\n",
    "\n",
    "print(a & b) # letters in both a and b\n",
    "\n",
    "print(a ^ b) # letters in a or b but not both"
   ]
  },
  {
   "cell_type": "markdown",
   "metadata": {},
   "source": [
    "> ** Task: Figure out, what the difference between `s - t` and `s ^ t` is. **"
   ]
  },
  {
   "cell_type": "markdown",
   "metadata": {},
   "source": [
    "### Dictionaries\n",
    "\n",
    "Dictionaries are a data structure, which associates _values_ with _keys_ and allows you to quickly retrieve the value corresponding to a given key. \n",
    "\n",
    "In a dictionary, the values are mutable, the keys are not mutable. \n",
    "\n",
    "A dictionary is created in the form:\n",
    "\n",
    "`dict = {'key1': valuea, 'key2': valueb ...}`\n",
    "\n",
    "An empty dictionary is `{ }`\n",
    "\n",
    "Common dictionary operators: \n",
    "\n",
    "| Usage            | Explanation                          |\n",
    "|------------------|--------------------------------------|\n",
    "| `x in dic`       | `x` is a key in `dic`                |\n",
    "| `x not in dic`   | `x` is not a key in `dic`            |\n",
    "| `dic[x]`         | Item with key `x`                    |\n",
    "| `len(dic)`       | Number of items in `dic`             |\n",
    "| `min(dic)`       | Minimum key in `dic`                 |\n",
    "| `max(dic)`       | Maximum key in  `dic`                |\n",
    "| `dic[x]=v`       | Replace or add new value with key `x`|\n",
    " \n",
    "Note: dict does not support all the operators that class list supports  (e.g. +, * are not supported)\n",
    "\n",
    "Common dictionary methods: \n",
    "\n",
    "| Operation      | Explanation                                                           |\n",
    "|----------------|-----------------------------------------------------------------------|\n",
    "| `d.items()`    | returns a list of the key, value pairs in `d`                         |\n",
    "| `d.keys()`     | returns a list of the keys of `d`                                     |\n",
    "| `d.pop(key)`   | removes the key, value pair with `key` from `d` and returns the value |\n",
    "| `d.update(d2)` | adds the key value pairs of dictionary `d2` to `d`                    |\n",
    "| `d.values()`   | returns a list of the values of `d`                                   |\n"
   ]
  },
  {
   "cell_type": "code",
   "execution_count": null,
   "metadata": {},
   "outputs": [],
   "source": [
    "tel = {'simon': 4563,'jack': 4098, 'sape': 4139}\n",
    "tel['guido'] = 4127\n",
    "tel"
   ]
  },
  {
   "cell_type": "code",
   "execution_count": null,
   "metadata": {},
   "outputs": [],
   "source": [
    "tel['jack']\n",
    "tel.pop('sape')\n",
    "tel['irv'] = 4127\n",
    "tel"
   ]
  },
  {
   "cell_type": "code",
   "execution_count": null,
   "metadata": {},
   "outputs": [],
   "source": [
    "print(list(tel.keys()))\n",
    "print(sorted(tel.keys()))"
   ]
  },
  {
   "cell_type": "code",
   "execution_count": null,
   "metadata": {},
   "outputs": [],
   "source": [
    "'guido' in tel"
   ]
  },
  {
   "cell_type": "code",
   "execution_count": null,
   "metadata": {},
   "outputs": [],
   "source": [
    "'jack' not in tel"
   ]
  },
  {
   "cell_type": "markdown",
   "metadata": {},
   "source": [
    "List comprehensions can also be used with dictionaries or sets:"
   ]
  },
  {
   "cell_type": "code",
   "execution_count": null,
   "metadata": {
    "collapsed": true
   },
   "outputs": [],
   "source": [
    "square_dict = { x : x * x for x in range(5) } # { 0:0, 1:1, 2:4, 3:9, 4:16 }\n",
    "\n",
    "square_set = { x * x for x in [1, -1] } # { 1 }"
   ]
  },
  {
   "cell_type": "markdown",
   "metadata": {},
   "source": [
    "> ** Task: Explain the properties and differences of lists, tuples, sets and dictionaries to your neighbor **"
   ]
  },
  {
   "cell_type": "markdown",
   "metadata": {},
   "source": [
    "> ** Task:   1) write a function which reads a user input and counts the number of words.    2) output also the number of different words    3) output for each word the number of occurrences in a dictionary **"
   ]
  }
 ],
 "metadata": {
  "kernelspec": {
   "display_name": "Python 3",
   "language": "python",
   "name": "python3"
  },
  "language_info": {
   "codemirror_mode": {
    "name": "ipython",
    "version": 3
   },
   "file_extension": ".py",
   "mimetype": "text/x-python",
   "name": "python",
   "nbconvert_exporter": "python",
   "pygments_lexer": "ipython3",
   "version": "3.5.3"
  }
 },
 "nbformat": 4,
 "nbformat_minor": 2
}
