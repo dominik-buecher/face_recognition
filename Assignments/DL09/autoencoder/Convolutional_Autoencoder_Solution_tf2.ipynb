{
 "cells": [
  {
   "cell_type": "markdown",
   "metadata": {},
   "source": [
    "# Convolutional Autoencoder\n",
    "\n",
    "Sticking with the MNIST dataset, let's improve our autoencoder's performance using convolutional layers. Again, loading modules and the data."
   ]
  },
  {
   "cell_type": "code",
   "execution_count": 40,
   "metadata": {},
   "outputs": [],
   "source": [
    "%matplotlib inline\n",
    "\n",
    "import numpy as np\n",
    "import tensorflow as tf\n",
    "from tensorflow.keras import Sequential\n",
    "from tensorflow.keras.layers import Dense, Flatten, Conv2D, MaxPooling2D, UpSampling2D, Lambda\n",
    "import matplotlib.pyplot as plt"
   ]
  },
  {
   "cell_type": "code",
   "execution_count": 2,
   "metadata": {},
   "outputs": [],
   "source": [
    "import tensorflow.keras.datasets.mnist as input_data\n",
    "(x_train, _), (x_test, y_test) = input_data.load_data()\n",
    "\n",
    "x_train = x_train.reshape(x_train.shape[0], 28, 28, 1)\n",
    "x_test = x_test.reshape(x_test.shape[0], 28, 28, 1)"
   ]
  },
  {
   "cell_type": "code",
   "execution_count": 3,
   "metadata": {},
   "outputs": [
    {
     "data": {
      "text/plain": [
       "<matplotlib.image.AxesImage at 0x213391b2cc8>"
      ]
     },
     "execution_count": 3,
     "metadata": {},
     "output_type": "execute_result"
    },
    {
     "data": {
      "image/png": "[encoded data removed]",
      "text/plain": [
       "<Figure size 432x288 with 1 Axes>"
      ]
     },
     "metadata": {
      "needs_background": "light"
     },
     "output_type": "display_data"
    }
   ],
   "source": [
    "img = x_train[2]\n",
    "plt.imshow(img.reshape((28, 28)), cmap='Greys_r')"
   ]
  },
  {
   "cell_type": "code",
   "execution_count": 7,
   "metadata": {},
   "outputs": [],
   "source": [
    "#Normalize the images\n",
    "x_train = x_train/255.\n",
    "x_test = x_test/255."
   ]
  },
  {
   "cell_type": "markdown",
   "metadata": {},
   "source": [
    "## Network Architecture\n",
    "\n",
    "The encoder part of the network will be a typical convolutional pyramid. Each convolutional layer will be followed by a max-pooling layer to reduce the dimensions of the layers. The decoder though might be something new to you. The decoder needs to convert from a narrow representation to a wide reconstructed image. For example, the representation could be a 4x4x8 max-pool layer. This is the output of the encoder, but also the input to the decoder. We want to get a 28x28x1 image out from the decoder so we need to work our way back up from the narrow decoder input layer. A schematic of the network is shown below.\n",
    "\n",
    "<img src='assets/convolutional_autoencoder.png' width=500px>\n",
    "\n",
    "Here our final encoder layer has size 4x4x8 = 128. The original images have size 28x28 = 784, so the encoded vector is roughly 16% the size of the original image. These are just suggested sizes for each of the layers. Feel free to change the depths and sizes, but remember our goal here is to find a small representation of the input data.\n",
    "\n",
    "### What's going on with the decoder\n",
    "\n",
    "Okay, so the decoder has these \"Upsample\" layers that you might not have seen before. First off, I'll discuss a bit what these layers *aren't*. Usually, you'll see **transposed convolution** layers used to increase the width and height of the layers. They work almost exactly the same as convolutional layers, but in reverse. A stride in the input layer results in a larger stride in the transposed convolution layer. For example, if you have a 3x3 kernel, a 3x3 patch in the input layer will be reduced to one unit in a convolutional layer. Comparatively, one unit in the input layer will be expanded to a 3x3 path in a transposed convolution layer. The TensorFlow API provides us with an easy way to create the layers, [`tf.nn.conv2d_transpose`](https://www.tensorflow.org/api_docs/python/tf/nn/conv2d_transpose). \n",
    "\n",
    "However, transposed convolution layers can lead to artifacts in the final images, such as checkerboard patterns. This is due to overlap in the kernels which can be avoided by setting the stride and kernel size equal. In [this Distill article](http://distill.pub/2016/deconv-checkerboard/) from Augustus Odena, *et al*, the authors show that these checkerboard artifacts can be avoided by resizing the layers using nearest neighbor or bilinear interpolation (upsampling) followed by a convolutional layer. \n",
    "In TensorFlow, this is easily done with [`UpSampling2D`](https://www.tensorflow.org/api_docs/python/tf/keras/layers/UpSampling2D) layer, followed by a convolution. Be sure to read the Distill article to get a better understanding of deconvolutional layers and why we're using upsampling. The `UpSampling2D` layer allways generates an even shape. To recreate the network in the image the first upsampling of the decoder needs to be a special layer called [`Lambda`](https://www.tensorflow.org/api_docs/python/tf/keras/layers/Lambda). With this Layer it is possible to call tensorflow functions within a sequential model. To resize the image from 4x4x8 to 7x7x8 we will call the [`tf.image.resize_images`](https://www.tensorflow.org/api_docs/python/tf/image/resize) function\n",
    "\n",
    "> **Exercise:** Build the network shown above. Remember that a convolutional layer with strides of 1 and 'same' padding won't reduce the height and width. That is, if the input is 28x28 and the convolution layer has stride = 1 and 'same' padding, the convolutional layer will also be 28x28. The max-pool layers are used the reduce the width and height. A stride of 2 will reduce the size by a factor of 2. Odena *et al* claim that nearest neighbor interpolation works best for the upsampling, this is the default value of the `UpSampling2D` layer and doesn't need to be specified. For convolutional layers, use [`Conv2D`](https://www.tensorflow.org/api_docs/python/tf/keras/layers/Conv2D). For example, you would write `model.add(Conv2D(32, (5,5), padding='same', activation='relu'))` for a layer with a depth of 32, a 5x5 kernel, stride of (1,1), padding is 'same', and a ReLU activation. Similarly, for the max-pool layers, use [`MaxPooling2D`](https://www.tensorflow.org/api_docs/python/tf/keras/layers/MaxPooling2D)."
   ]
  },
  {
   "cell_type": "code",
   "execution_count": 41,
   "metadata": {},
   "outputs": [
    {
     "name": "stdout",
     "output_type": "stream",
     "text": [
      "Model: \"sequential_17\"\n",
      "_________________________________________________________________\n",
      "Layer (type)                 Output Shape              Param #   \n",
      "=================================================================\n",
      "conv2d_103 (Conv2D)          (None, 28, 28, 16)        160       \n",
      "_________________________________________________________________\n",
      "max_pooling2d_51 (MaxPooling (None, 14, 14, 16)        0         \n",
      "_________________________________________________________________\n",
      "conv2d_104 (Conv2D)          (None, 14, 14, 8)         1160      \n",
      "_________________________________________________________________\n",
      "max_pooling2d_52 (MaxPooling (None, 7, 7, 8)           0         \n",
      "_________________________________________________________________\n",
      "conv2d_105 (Conv2D)          (None, 7, 7, 8)           584       \n",
      "_________________________________________________________________\n",
      "max_pooling2d_53 (MaxPooling (None, 4, 4, 8)           0         \n",
      "_________________________________________________________________\n",
      "lambda_1 (Lambda)            (None, 7, 7, 8)           0         \n",
      "_________________________________________________________________\n",
      "conv2d_106 (Conv2D)          (None, 7, 7, 8)           584       \n",
      "_________________________________________________________________\n",
      "up_sampling2d_31 (UpSampling (None, 14, 14, 8)         0         \n",
      "_________________________________________________________________\n",
      "conv2d_107 (Conv2D)          (None, 14, 14, 8)         584       \n",
      "_________________________________________________________________\n",
      "up_sampling2d_32 (UpSampling (None, 28, 28, 8)         0         \n",
      "_________________________________________________________________\n",
      "conv2d_108 (Conv2D)          (None, 28, 28, 16)        1168      \n",
      "_________________________________________________________________\n",
      "conv2d_109 (Conv2D)          (None, 28, 28, 1)         145       \n",
      "=================================================================\n",
      "Total params: 4,385\n",
      "Trainable params: 4,385\n",
      "Non-trainable params: 0\n",
      "_________________________________________________________________\n"
     ]
    }
   ],
   "source": [
    "model = Sequential()\n",
    "### Encoder\n",
    "model.add(Conv2D(16, (3,3), padding='same', activation='relu', input_shape=(28,28,1)))\n",
    "# Now 28x28x16\n",
    "model.add(MaxPooling2D((2,2), (2,2), padding='same'))\n",
    "# Now 14x14x16\n",
    "model.add(Conv2D(8, (3,3), padding='same', activation='relu'))\n",
    "# Now 14x14x8\n",
    "model.add(MaxPooling2D((2,2), (2,2), padding='same'))\n",
    "# Now 7x7x8\n",
    "model.add(Conv2D(8, (3,3), padding='same', activation='relu'))\n",
    "# Now 7x7x8\n",
    "model.add(MaxPooling2D((2,2), (2,2), padding='same'))\n",
    "# Now 4x4x8\n",
    "\n",
    "### Decoder\n",
    "model.add(Lambda( lambda image: tf.image.resize(image, [7,7], method='nearest')))\n",
    "# Now 7x7x8\n",
    "model.add(Conv2D(8, (3,3), padding='same', activation='relu'))\n",
    "# Now 7x7x8\n",
    "model.add(UpSampling2D((2, 2)))\n",
    "# Now 14x14x8\n",
    "model.add(Conv2D(8, (3,3), padding='same', activation='relu'))\n",
    "# Now 14x14x8\n",
    "model.add(UpSampling2D((2, 2)))\n",
    "#Now 28x28x8\n",
    "model.add(Conv2D(16, (3,3), padding='same', activation='relu'))\n",
    "#Now 28x28x16\n",
    "model.add(Conv2D(1, (3,3), padding='same', activation='sigmoid'))\n",
    "#Now 28x28x1\n",
    "\n",
    "model.summary()"
   ]
  },
  {
   "cell_type": "code",
   "execution_count": 42,
   "metadata": {},
   "outputs": [],
   "source": [
    "from tensorflow.keras.optimizers import Adam\n",
    "\n",
    "# compile the model\n",
    "model.compile(optimizer=\"adam\", loss='binary_crossentropy')"
   ]
  },
  {
   "cell_type": "markdown",
   "metadata": {},
   "source": [
    "## Training\n",
    "\n",
    "As before, here wi'll train the network. Instead of flattening the images though, we can pass them in as 28x28x1 arrays."
   ]
  },
  {
   "cell_type": "code",
   "execution_count": 43,
   "metadata": {
    "scrolled": true
   },
   "outputs": [
    {
     "name": "stdout",
     "output_type": "stream",
     "text": [
      "Train on 60000 samples\n",
      "Epoch 1/20\n",
      "60000/60000 [==============================] - 3s 47us/sample - loss: 0.2249\n",
      "Epoch 2/20\n",
      "60000/60000 [==============================] - 2s 38us/sample - loss: 0.1367\n",
      "Epoch 3/20\n",
      "60000/60000 [==============================] - 2s 38us/sample - loss: 0.1251\n",
      "Epoch 4/20\n",
      "60000/60000 [==============================] - 2s 39us/sample - loss: 0.1193\n",
      "Epoch 5/20\n",
      "60000/60000 [==============================] - 2s 39us/sample - loss: 0.1156\n",
      "Epoch 6/20\n",
      "60000/60000 [==============================] - 2s 39us/sample - loss: 0.1127\n",
      "Epoch 7/20\n",
      "60000/60000 [==============================] - 2s 38us/sample - loss: 0.1104\n",
      "Epoch 8/20\n",
      "60000/60000 [==============================] - 2s 38us/sample - loss: 0.1085\n",
      "Epoch 9/20\n",
      "60000/60000 [==============================] - 2s 39us/sample - loss: 0.1069\n",
      "Epoch 10/20\n",
      "60000/60000 [==============================] - 2s 38us/sample - loss: 0.1054\n",
      "Epoch 11/20\n",
      "60000/60000 [==============================] - 2s 38us/sample - loss: 0.1041\n",
      "Epoch 12/20\n",
      "60000/60000 [==============================] - 2s 38us/sample - loss: 0.1030\n",
      "Epoch 13/20\n",
      "60000/60000 [==============================] - 2s 39us/sample - loss: 0.1022\n",
      "Epoch 14/20\n",
      "60000/60000 [==============================] - 2s 38us/sample - loss: 0.1013\n",
      "Epoch 15/20\n",
      "60000/60000 [==============================] - 2s 38us/sample - loss: 0.1006\n",
      "Epoch 16/20\n",
      "60000/60000 [==============================] - 2s 38us/sample - loss: 0.1001\n",
      "Epoch 17/20\n",
      "60000/60000 [==============================] - 2s 38us/sample - loss: 0.0994\n",
      "Epoch 18/20\n",
      "60000/60000 [==============================] - 2s 38us/sample - loss: 0.0990\n",
      "Epoch 19/20\n",
      "60000/60000 [==============================] - 2s 39us/sample - loss: 0.0985\n",
      "Epoch 20/20\n",
      "60000/60000 [==============================] - 2s 39us/sample - loss: 0.0981\n"
     ]
    },
    {
     "data": {
      "text/plain": [
       "<tensorflow.python.keras.callbacks.History at 0x214e91aef48>"
      ]
     },
     "execution_count": 43,
     "metadata": {},
     "output_type": "execute_result"
    }
   ],
   "source": [
    "epochs = 20\n",
    "batch_size = 200\n",
    "\n",
    "model.fit(x_train, x_train,\n",
    "        epochs=epochs,\n",
    "        batch_size=batch_size,\n",
    "        shuffle=True)"
   ]
  },
  {
   "cell_type": "code",
   "execution_count": 31,
   "metadata": {},
   "outputs": [
    {
     "data": {
      "image/png": "[encoded data removed]",
      "text/plain": [
       "<Figure size 1440x288 with 20 Axes>"
      ]
     },
     "metadata": {
      "needs_background": "light"
     },
     "output_type": "display_data"
    }
   ],
   "source": [
    "fig, axes = plt.subplots(nrows=2, ncols=10, sharex=True, sharey=True, figsize=(20,4))\n",
    "in_imgs = x_test[:10]\n",
    "reconstructed = model.predict(in_imgs)\n",
    "for images, row in zip([in_imgs, reconstructed], axes):\n",
    "    for img, ax in zip(images, row):\n",
    "        ax.imshow(img.reshape((28, 28)), cmap='Greys_r')\n",
    "        ax.get_xaxis().set_visible(False)\n",
    "        ax.get_yaxis().set_visible(False)\n",
    "\n",
    "fig.tight_layout(pad=0.1)"
   ]
  },
  {
   "cell_type": "markdown",
   "metadata": {},
   "source": [
    "## Denoising\n",
    "\n",
    "As I've mentioned before, autoencoders like the ones you've built so far aren't too useful in practive. However, they can be used to denoise images quite successfully just by training the network on noisy images. We can create the noisy images ourselves by adding Gaussian noise to the training images, then clipping the values to be between 0 and 1. We'll use noisy images as input and the original, clean images as targets. Here's an example of the noisy images I generated and the denoised images.\n",
    "\n",
    "![Denoising autoencoder](assets/denoising.png)\n",
    "\n",
    "\n",
    "Since this is a harder problem for the network, we'll want to use deeper convolutional layers here, more feature maps. I suggest something like 32-32-16 for the depths of the convolutional layers in the encoder, and the same depths going backward through the decoder. Otherwise the architecture is the same as before.\n",
    "\n",
    "> **Exercise:** Build the network for the denoising autoencoder. It's the same as before, but with deeper layers. I suggest 32-32-16 for the depths, but you can play with these numbers, or add more layers."
   ]
  },
  {
   "cell_type": "code",
   "execution_count": 45,
   "metadata": {},
   "outputs": [
    {
     "name": "stdout",
     "output_type": "stream",
     "text": [
      "Model: \"sequential_20\"\n",
      "_________________________________________________________________\n",
      "Layer (type)                 Output Shape              Param #   \n",
      "=================================================================\n",
      "conv2d_124 (Conv2D)          (None, 28, 28, 32)        320       \n",
      "_________________________________________________________________\n",
      "max_pooling2d_60 (MaxPooling (None, 14, 14, 32)        0         \n",
      "_________________________________________________________________\n",
      "conv2d_125 (Conv2D)          (None, 14, 14, 32)        9248      \n",
      "_________________________________________________________________\n",
      "max_pooling2d_61 (MaxPooling (None, 7, 7, 32)          0         \n",
      "_________________________________________________________________\n",
      "conv2d_126 (Conv2D)          (None, 7, 7, 16)          4624      \n",
      "_________________________________________________________________\n",
      "max_pooling2d_62 (MaxPooling (None, 4, 4, 16)          0         \n",
      "_________________________________________________________________\n",
      "lambda_2 (Lambda)            (None, 7, 7, 16)          0         \n",
      "_________________________________________________________________\n",
      "conv2d_127 (Conv2D)          (None, 7, 7, 16)          2320      \n",
      "_________________________________________________________________\n",
      "up_sampling2d_39 (UpSampling (None, 14, 14, 16)        0         \n",
      "_________________________________________________________________\n",
      "conv2d_128 (Conv2D)          (None, 14, 14, 32)        4640      \n",
      "_________________________________________________________________\n",
      "up_sampling2d_40 (UpSampling (None, 28, 28, 32)        0         \n",
      "_________________________________________________________________\n",
      "conv2d_129 (Conv2D)          (None, 28, 28, 32)        9248      \n",
      "_________________________________________________________________\n",
      "conv2d_130 (Conv2D)          (None, 28, 28, 1)         289       \n",
      "=================================================================\n",
      "Total params: 30,689\n",
      "Trainable params: 30,689\n",
      "Non-trainable params: 0\n",
      "_________________________________________________________________\n"
     ]
    }
   ],
   "source": [
    "model = Sequential()\n",
    "### Encoder\n",
    "model.add(Conv2D(32, (3,3), padding='same', activation='relu', input_shape=(28,28,1)))\n",
    "# Now 28x28x32\n",
    "model.add(MaxPooling2D((2,2), (2,2), padding='same'))\n",
    "# Now 14x14x32\n",
    "model.add(Conv2D(32, (3,3), padding='same', activation='relu'))\n",
    "# Now 14x14x32\n",
    "model.add(MaxPooling2D((2,2), (2,2), padding='same'))\n",
    "# Now 7x7x32\n",
    "model.add(Conv2D(16, (3,3), padding='same', activation='relu'))\n",
    "# Now 7x7x16\n",
    "model.add(MaxPooling2D((2,2), (2,2), padding='same'))\n",
    "# Now 4x4x16\n",
    "\n",
    "### Decoder\n",
    "model.add(Lambda( lambda image: tf.image.resize(image, [7,7], method='nearest')))\n",
    "# Now 7x7x16\n",
    "model.add(Conv2D(16, (3,3), padding='same', activation='relu'))\n",
    "# Now 7x7x16\n",
    "model.add(UpSampling2D((2, 2)))\n",
    "# Now 14x14x16\n",
    "model.add(Conv2D(32, (3,3), padding='same', activation='relu'))\n",
    "# Now 14x14x32\n",
    "model.add(UpSampling2D((2, 2)))\n",
    "#Now 28x28x32\n",
    "model.add(Conv2D(32, (3,3), padding='same', activation='relu'))\n",
    "#Now 28x28x32\n",
    "model.add(Conv2D(1, (3,3), padding='same', activation='sigmoid'))\n",
    "#Now 28x28x1\n",
    "\n",
    "model.summary()"
   ]
  },
  {
   "cell_type": "code",
   "execution_count": 46,
   "metadata": {},
   "outputs": [],
   "source": [
    "# compile the model\n",
    "model.compile(optimizer=\"adam\", loss='binary_crossentropy')"
   ]
  },
  {
   "cell_type": "code",
   "execution_count": 47,
   "metadata": {},
   "outputs": [
    {
     "name": "stdout",
     "output_type": "stream",
     "text": [
      "Train on 60000 samples\n",
      "Epoch 1/100\n",
      "60000/60000 [==============================] - 4s 71us/sample - loss: 0.2271\n",
      "Epoch 2/100\n",
      "60000/60000 [==============================] - 4s 60us/sample - loss: 0.1562\n",
      "Epoch 3/100\n",
      "60000/60000 [==============================] - 4s 60us/sample - loss: 0.1420\n",
      "Epoch 4/100\n",
      "60000/60000 [==============================] - 4s 60us/sample - loss: 0.1342\n",
      "Epoch 5/100\n",
      "60000/60000 [==============================] - 4s 61us/sample - loss: 0.1291\n",
      "Epoch 6/100\n",
      "60000/60000 [==============================] - 4s 60us/sample - loss: 0.1253\n",
      "Epoch 7/100\n",
      "60000/60000 [==============================] - 4s 60us/sample - loss: 0.1224\n",
      "Epoch 8/100\n",
      "60000/60000 [==============================] - 4s 60us/sample - loss: 0.1202\n",
      "Epoch 9/100\n",
      "60000/60000 [==============================] - 4s 60us/sample - loss: 0.1184\n",
      "Epoch 10/100\n",
      "60000/60000 [==============================] - 4s 61us/sample - loss: 0.1170\n",
      "Epoch 11/100\n",
      "60000/60000 [==============================] - 4s 61us/sample - loss: 0.1159\n",
      "Epoch 12/100\n",
      "60000/60000 [==============================] - 4s 61us/sample - loss: 0.1147\n",
      "Epoch 13/100\n",
      "60000/60000 [==============================] - 4s 61us/sample - loss: 0.1138\n",
      "Epoch 14/100\n",
      "60000/60000 [==============================] - 4s 61us/sample - loss: 0.11300s - loss: 0.1\n",
      "Epoch 15/100\n",
      "60000/60000 [==============================] - 4s 61us/sample - loss: 0.1124\n",
      "Epoch 16/100\n",
      "60000/60000 [==============================] - 4s 61us/sample - loss: 0.1115\n",
      "Epoch 17/100\n",
      "60000/60000 [==============================] - 4s 61us/sample - loss: 0.1110\n",
      "Epoch 18/100\n",
      "60000/60000 [==============================] - 4s 61us/sample - loss: 0.1103\n",
      "Epoch 19/100\n",
      "60000/60000 [==============================] - 4s 60us/sample - loss: 0.1099\n",
      "Epoch 20/100\n",
      "60000/60000 [==============================] - 4s 60us/sample - loss: 0.1093\n",
      "Epoch 21/100\n",
      "60000/60000 [==============================] - 4s 61us/sample - loss: 0.1088\n",
      "Epoch 22/100\n",
      "60000/60000 [==============================] - 4s 61us/sample - loss: 0.1082\n",
      "Epoch 23/100\n",
      "60000/60000 [==============================] - 4s 61us/sample - loss: 0.1079\n",
      "Epoch 24/100\n",
      "60000/60000 [==============================] - 4s 61us/sample - loss: 0.1074\n",
      "Epoch 25/100\n",
      "60000/60000 [==============================] - 4s 61us/sample - loss: 0.1071\n",
      "Epoch 26/100\n",
      "60000/60000 [==============================] - 4s 61us/sample - loss: 0.1068\n",
      "Epoch 27/100\n",
      "60000/60000 [==============================] - 4s 61us/sample - loss: 0.1063\n",
      "Epoch 28/100\n",
      "60000/60000 [==============================] - 4s 61us/sample - loss: 0.1061\n",
      "Epoch 29/100\n",
      "60000/60000 [==============================] - 4s 61us/sample - loss: 0.1058\n",
      "Epoch 30/100\n",
      "60000/60000 [==============================] - 4s 61us/sample - loss: 0.1056\n",
      "Epoch 31/100\n",
      "60000/60000 [==============================] - 4s 61us/sample - loss: 0.1053\n",
      "Epoch 32/100\n",
      "60000/60000 [==============================] - 4s 61us/sample - loss: 0.1051\n",
      "Epoch 33/100\n",
      "60000/60000 [==============================] - 4s 61us/sample - loss: 0.1049\n",
      "Epoch 34/100\n",
      "60000/60000 [==============================] - 4s 61us/sample - loss: 0.1046\n",
      "Epoch 35/100\n",
      "60000/60000 [==============================] - 4s 61us/sample - loss: 0.1045\n",
      "Epoch 36/100\n",
      "60000/60000 [==============================] - 4s 60us/sample - loss: 0.1043\n",
      "Epoch 37/100\n",
      "60000/60000 [==============================] - 4s 61us/sample - loss: 0.1040\n",
      "Epoch 38/100\n",
      "60000/60000 [==============================] - 4s 61us/sample - loss: 0.1039\n",
      "Epoch 39/100\n",
      "60000/60000 [==============================] - 4s 61us/sample - loss: 0.1038\n",
      "Epoch 40/100\n",
      "60000/60000 [==============================] - 4s 61us/sample - loss: 0.1036\n",
      "Epoch 41/100\n",
      "60000/60000 [==============================] - 4s 60us/sample - loss: 0.1034\n",
      "Epoch 42/100\n",
      "60000/60000 [==============================] - 4s 61us/sample - loss: 0.1033\n",
      "Epoch 43/100\n",
      "60000/60000 [==============================] - 4s 61us/sample - loss: 0.1031\n",
      "Epoch 44/100\n",
      "60000/60000 [==============================] - 4s 61us/sample - loss: 0.1029\n",
      "Epoch 45/100\n",
      "60000/60000 [==============================] - 4s 61us/sample - loss: 0.1030\n",
      "Epoch 46/100\n",
      "60000/60000 [==============================] - 4s 61us/sample - loss: 0.1028\n",
      "Epoch 47/100\n",
      "60000/60000 [==============================] - 4s 61us/sample - loss: 0.1026\n",
      "Epoch 48/100\n",
      "60000/60000 [==============================] - 4s 61us/sample - loss: 0.1025\n",
      "Epoch 49/100\n",
      "60000/60000 [==============================] - 4s 61us/sample - loss: 0.1024\n",
      "Epoch 50/100\n",
      "60000/60000 [==============================] - 4s 61us/sample - loss: 0.1024\n",
      "Epoch 51/100\n",
      "60000/60000 [==============================] - 4s 61us/sample - loss: 0.1022\n",
      "Epoch 52/100\n",
      "60000/60000 [==============================] - 4s 61us/sample - loss: 0.1021\n",
      "Epoch 53/100\n",
      "60000/60000 [==============================] - 4s 61us/sample - loss: 0.1020\n",
      "Epoch 54/100\n",
      "60000/60000 [==============================] - 4s 61us/sample - loss: 0.1019\n",
      "Epoch 55/100\n",
      "60000/60000 [==============================] - 4s 61us/sample - loss: 0.1019\n",
      "Epoch 56/100\n",
      "60000/60000 [==============================] - 4s 61us/sample - loss: 0.1018\n",
      "Epoch 57/100\n",
      "60000/60000 [==============================] - 4s 61us/sample - loss: 0.1017\n",
      "Epoch 58/100\n",
      "60000/60000 [==============================] - 4s 61us/sample - loss: 0.1017\n",
      "Epoch 59/100\n",
      "60000/60000 [==============================] - 4s 61us/sample - loss: 0.1015\n",
      "Epoch 60/100\n",
      "60000/60000 [==============================] - 4s 61us/sample - loss: 0.1015\n",
      "Epoch 61/100\n",
      "60000/60000 [==============================] - 4s 61us/sample - loss: 0.1013\n",
      "Epoch 62/100\n",
      "60000/60000 [==============================] - 4s 61us/sample - loss: 0.1013\n",
      "Epoch 63/100\n",
      "60000/60000 [==============================] - 4s 61us/sample - loss: 0.1013\n",
      "Epoch 64/100\n",
      "60000/60000 [==============================] - 4s 61us/sample - loss: 0.1012\n",
      "Epoch 65/100\n",
      "60000/60000 [==============================] - 4s 61us/sample - loss: 0.1011\n",
      "Epoch 66/100\n",
      "60000/60000 [==============================] - 4s 61us/sample - loss: 0.1011\n",
      "Epoch 67/100\n",
      "60000/60000 [==============================] - 4s 61us/sample - loss: 0.1009\n",
      "Epoch 68/100\n",
      "60000/60000 [==============================] - 4s 61us/sample - loss: 0.1009\n",
      "Epoch 69/100\n",
      "60000/60000 [==============================] - 4s 61us/sample - loss: 0.1008\n",
      "Epoch 70/100\n",
      "60000/60000 [==============================] - 4s 61us/sample - loss: 0.1008\n",
      "Epoch 71/100\n",
      "60000/60000 [==============================] - 4s 61us/sample - loss: 0.1007\n",
      "Epoch 72/100\n",
      "60000/60000 [==============================] - 4s 61us/sample - loss: 0.1007\n",
      "Epoch 73/100\n",
      "60000/60000 [==============================] - 4s 61us/sample - loss: 0.1006\n",
      "Epoch 74/100\n",
      "60000/60000 [==============================] - 4s 61us/sample - loss: 0.1005\n",
      "Epoch 75/100\n",
      "60000/60000 [==============================] - 4s 61us/sample - loss: 0.1004\n",
      "Epoch 76/100\n",
      "60000/60000 [==============================] - 4s 61us/sample - loss: 0.10040s - loss: \n",
      "Epoch 77/100\n",
      "60000/60000 [==============================] - 4s 61us/sample - loss: 0.1004\n",
      "Epoch 78/100\n",
      "60000/60000 [==============================] - 4s 61us/sample - loss: 0.1002\n",
      "Epoch 79/100\n",
      "60000/60000 [==============================] - 4s 61us/sample - loss: 0.1003\n",
      "Epoch 80/100\n",
      "60000/60000 [==============================] - 4s 61us/sample - loss: 0.1002\n",
      "Epoch 81/100\n",
      "60000/60000 [==============================] - 4s 61us/sample - loss: 0.1002\n",
      "Epoch 82/100\n",
      "60000/60000 [==============================] - 4s 61us/sample - loss: 0.1001\n",
      "Epoch 83/100\n",
      "60000/60000 [==============================] - 4s 61us/sample - loss: 0.1000\n",
      "Epoch 84/100\n",
      "60000/60000 [==============================] - 4s 61us/sample - loss: 0.1000\n",
      "Epoch 85/100\n",
      "60000/60000 [==============================] - 4s 61us/sample - loss: 0.0999\n",
      "Epoch 86/100\n",
      "60000/60000 [==============================] - 4s 61us/sample - loss: 0.0999\n",
      "Epoch 87/100\n",
      "60000/60000 [==============================] - 4s 61us/sample - loss: 0.1000\n",
      "Epoch 88/100\n",
      "60000/60000 [==============================] - 4s 61us/sample - loss: 0.0998\n",
      "Epoch 89/100\n",
      "60000/60000 [==============================] - 4s 61us/sample - loss: 0.0998\n",
      "Epoch 90/100\n",
      "60000/60000 [==============================] - 4s 61us/sample - loss: 0.0998\n",
      "Epoch 91/100\n"
     ]
    },
    {
     "name": "stdout",
     "output_type": "stream",
     "text": [
      "60000/60000 [==============================] - 4s 61us/sample - loss: 0.0998\n",
      "Epoch 92/100\n",
      "60000/60000 [==============================] - 4s 61us/sample - loss: 0.0997\n",
      "Epoch 93/100\n",
      "60000/60000 [==============================] - 4s 59us/sample - loss: 0.0997\n",
      "Epoch 94/100\n",
      "60000/60000 [==============================] - 4s 61us/sample - loss: 0.0997\n",
      "Epoch 95/100\n",
      "60000/60000 [==============================] - 4s 61us/sample - loss: 0.0995\n",
      "Epoch 96/100\n",
      "60000/60000 [==============================] - 4s 61us/sample - loss: 0.0996\n",
      "Epoch 97/100\n",
      "60000/60000 [==============================] - 4s 61us/sample - loss: 0.0994\n",
      "Epoch 98/100\n",
      "60000/60000 [==============================] - 4s 61us/sample - loss: 0.0995\n",
      "Epoch 99/100\n",
      "60000/60000 [==============================] - 4s 61us/sample - loss: 0.0994\n",
      "Epoch 100/100\n",
      "60000/60000 [==============================] - 4s 61us/sample - loss: 0.0995\n"
     ]
    },
    {
     "data": {
      "text/plain": [
       "<tensorflow.python.keras.callbacks.History at 0x214e54f4ec8>"
      ]
     },
     "execution_count": 47,
     "metadata": {},
     "output_type": "execute_result"
    }
   ],
   "source": [
    "epochs = 100\n",
    "batch_size = 200\n",
    "# Set's how much noise we're adding to the MNIST images\n",
    "noise_factor = 0.5\n",
    "\n",
    "# Add random noise to the input images\n",
    "noisy_imgs = x_train + noise_factor * np.random.randn(*x_train.shape)\n",
    "# Clip the images to be between 0 and 1\n",
    "noisy_imgs = np.clip(noisy_imgs, 0., 1.)\n",
    "\n",
    "model.fit(noisy_imgs, x_train,\n",
    "        epochs=epochs,\n",
    "        batch_size=batch_size,\n",
    "        shuffle=True)"
   ]
  },
  {
   "cell_type": "markdown",
   "metadata": {},
   "source": [
    "## Checking out the performance\n",
    "\n",
    "Here I'm adding noise to the test images and passing them through the autoencoder. It does a suprising great job of removing the noise, even though it's sometimes difficult to tell what the original number is."
   ]
  },
  {
   "cell_type": "code",
   "execution_count": 49,
   "metadata": {},
   "outputs": [
    {
     "data": {
      "image/png": "[encoded data removed]",
      "text/plain": [
       "<Figure size 1440x288 with 20 Axes>"
      ]
     },
     "metadata": {
      "needs_background": "light"
     },
     "output_type": "display_data"
    }
   ],
   "source": [
    "fig, axes = plt.subplots(nrows=2, ncols=10, sharex=True, sharey=True, figsize=(20,4))\n",
    "in_imgs = x_test[:10]\n",
    "noisy_imgs = x_test + noise_factor * np.random.randn(*x_test.shape)\n",
    "noisy_imgs = np.clip(noisy_imgs, 0., 1.)\n",
    "\n",
    "reconstructed = model.predict(in_imgs)\n",
    "\n",
    "for images, row in zip([noisy_imgs, reconstructed], axes):\n",
    "    for img, ax in zip(images, row):\n",
    "        ax.imshow(img.reshape((28, 28)), cmap='Greys_r')\n",
    "        ax.get_xaxis().set_visible(False)\n",
    "        ax.get_yaxis().set_visible(False)\n",
    "\n",
    "fig.tight_layout(pad=0.1)"
   ]
  },
  {
   "cell_type": "code",
   "execution_count": null,
   "metadata": {},
   "outputs": [],
   "source": []
  }
 ],
 "metadata": {
  "kernelspec": {
   "display_name": "Python 3",
   "language": "python",
   "name": "python3"
  },
  "language_info": {
   "codemirror_mode": {
    "name": "ipython",
    "version": 3
   },
   "file_extension": ".py",
   "mimetype": "text/x-python",
   "name": "python",
   "nbconvert_exporter": "python",
   "pygments_lexer": "ipython3",
   "version": "3.7.7"
  }
 },
 "nbformat": 4,
 "nbformat_minor": 2
}
