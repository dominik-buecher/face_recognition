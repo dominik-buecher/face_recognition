{
 "cells": [
  {
   "cell_type": "code",
   "execution_count": 23,
   "metadata": {},
   "outputs": [
    {
     "name": "stdout",
     "output_type": "stream",
     "text": [
      "Requirement already satisfied: pillow in c:\\users\\dominik\\anaconda3\\envs\\tensorflow\\lib\\site-packages (8.4.0)\n",
      "Note: you may need to restart the kernel to use updated packages.\n"
     ]
    },
    {
     "name": "stderr",
     "output_type": "stream",
     "text": [
      "WARNING: Ignoring invalid distribution -rotobuf (c:\\users\\dominik\\anaconda3\\envs\\tensorflow\\lib\\site-packages)\n",
      "WARNING: Ignoring invalid distribution -rotobuf (c:\\users\\dominik\\anaconda3\\envs\\tensorflow\\lib\\site-packages)\n",
      "WARNING: Ignoring invalid distribution -rotobuf (c:\\users\\dominik\\anaconda3\\envs\\tensorflow\\lib\\site-packages)\n",
      "WARNING: Ignoring invalid distribution -rotobuf (c:\\users\\dominik\\anaconda3\\envs\\tensorflow\\lib\\site-packages)\n",
      "WARNING: Ignoring invalid distribution -rotobuf (c:\\users\\dominik\\anaconda3\\envs\\tensorflow\\lib\\site-packages)\n",
      "WARNING: Ignoring invalid distribution -rotobuf (c:\\users\\dominik\\anaconda3\\envs\\tensorflow\\lib\\site-packages)\n"
     ]
    }
   ],
   "source": [
    "pip install pillow\n"
   ]
  },
  {
   "cell_type": "code",
   "execution_count": 1,
   "metadata": {},
   "outputs": [],
   "source": [
    "# import the necessary packages\n",
    "import os\n",
    "import zipfile\n",
    "import glob\n"
   ]
  },
  {
   "cell_type": "code",
   "execution_count": 2,
   "metadata": {},
   "outputs": [],
   "source": [
    "from PIL import Image\n",
    "\n",
    "def compress_image(input_path, output_path, quality):\n",
    "    image = Image.open(input_path)\n",
    "    image.save(output_path, \"JPEG\", quality=quality)"
   ]
  },
  {
   "cell_type": "code",
   "execution_count": 5,
   "metadata": {},
   "outputs": [
    {
     "name": "stdout",
     "output_type": "stream",
     "text": [
      "unzipping data/Datensatz2.zip\n",
      "300\n",
      "150\n"
     ]
    }
   ],
   "source": [
    "################ Unzip the dataset in the Colab runtime #################\n",
    "zip_file_path = 'data/Datensatz2.zip'\n",
    "pathToZip = os.path.join(zip_file_path)\n",
    "print(\"unzipping {}\".format(pathToZip))\n",
    "\n",
    "pathToData = \"/tmp\"\n",
    "with zipfile.ZipFile(pathToZip, 'r') as zip_ref:\n",
    "    zip_ref.extractall(pathToData)\n",
    "\n",
    "\n",
    "# images\n",
    "data_dominik    = glob.glob(os.path.join(pathToData, \"Datensatz2/Dominik/\" + \"*.jpeg\"))\n",
    "data_unknown    = glob.glob(os.path.join(pathToData, \"Datensatz2/Unknown/\" + \"*.jpg\"))\n",
    "\n",
    "print(len(data_dominik))\n",
    "print(len(data_unknown))"
   ]
  },
  {
   "cell_type": "code",
   "execution_count": 6,
   "metadata": {},
   "outputs": [],
   "source": [
    "for i in range(len(data_dominik)):\n",
    "    input_image = data_dominik[i]\n",
    "    output_image = \"data/dataset_compress/Dominik/image_\" +str(i)+\".jpeg\"\n",
    "    compression_quality = 45  # Anpassen der Qualität nach Bedarf (0-100)\n",
    "    compress_image(input_image, output_image, compression_quality)\n"
   ]
  },
  {
   "cell_type": "code",
   "execution_count": 7,
   "metadata": {},
   "outputs": [],
   "source": [
    "for i in range(len(data_unknown)):\n",
    "    input_image = data_unknown[i]\n",
    "    output_image = \"data/dataset_compress/Unknown/image_\" +str(i)+\".jpeg\"\n",
    "    compression_quality = 45  # Anpassen der Qualität nach Bedarf (0-100)\n",
    "    compress_image(input_image, output_image, compression_quality)"
   ]
  }
 ],
 "metadata": {
  "kernelspec": {
   "display_name": "tensorflow",
   "language": "python",
   "name": "python3"
  },
  "language_info": {
   "codemirror_mode": {
    "name": "ipython",
    "version": 3
   },
   "file_extension": ".py",
   "mimetype": "text/x-python",
   "name": "python",
   "nbconvert_exporter": "python",
   "pygments_lexer": "ipython3",
   "version": "3.8.12"
  },
  "orig_nbformat": 4
 },
 "nbformat": 4,
 "nbformat_minor": 2
}
