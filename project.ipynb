{
 "cells": [
  {
   "attachments": {},
   "cell_type": "markdown",
   "metadata": {},
   "source": [
    "# Deep Learning project: Face Recognition\n",
    "\n",
    "The following notebook is about training a face recognition model with deep learning methods. For this purpose, an own dataset with face images is to be created. With these images different models should be trained and finally compared. The project is part of the [Deep Learning](https://ilias.hs-heilbronn.de/ilias.php?ref_id=20660&cmdClass=ilrepositorygui&cmdNode=xo&baseClass=ilrepositorygui) course at the University of Heilbronn and serves educational purposes.\n",
    "\n",
    "---\n",
    "\n",
    "**Author:**\n",
    "\n",
    "Dominik Bücher, Hochschuhle Heilbronn, Automotive System Engineering Master\n",
    "\n",
    "dbuecher@stud.hs-heilbronn.de\n",
    "\n",
    "\n",
    "**Professor**\n",
    "\n",
    "Prof. Dr.-Ing. Nicolaj Stache \n",
    "\n",
    "nicolaj.stache@hs-heilbronn.de \n",
    "\n",
    "---\n",
    "\n"
   ]
  },
  {
   "cell_type": "code",
   "execution_count": 2,
   "metadata": {},
   "outputs": [
    {
     "name": "stdout",
     "output_type": "stream",
     "text": [
      "Collecting fast_ml\n",
      "  Using cached fast_ml-3.68-py3-none-any.whl (42 kB)\n",
      "Installing collected packages: fast-ml\n",
      "Successfully installed fast-ml-3.68\n",
      "Note: you may need to restart the kernel to use updated packages.\n",
      "Collecting efficientnet\n",
      "  Using cached efficientnet-1.1.1-py3-none-any.whl (18 kB)\n",
      "Collecting scikit-image\n",
      "  Downloading scikit_image-0.21.0-cp39-cp39-win_amd64.whl (22.9 MB)\n",
      "Collecting keras-applications<=1.0.8,>=1.0.7\n",
      "  Using cached Keras_Applications-1.0.8-py3-none-any.whl (50 kB)\n",
      "Requirement already satisfied: numpy>=1.9.1 in c:\\users\\dominik\\anaconda3\\envs\\tensorflow1\\lib\\site-packages (from keras-applications<=1.0.8,>=1.0.7->efficientnet) (1.23.3)\n",
      "Requirement already satisfied: h5py in c:\\users\\dominik\\anaconda3\\envs\\tensorflow1\\lib\\site-packages (from keras-applications<=1.0.8,>=1.0.7->efficientnet) (3.6.0)\n",
      "Requirement already satisfied: pillow>=9.0.1 in c:\\users\\dominik\\anaconda3\\envs\\tensorflow1\\lib\\site-packages (from scikit-image->efficientnet) (9.3.0)\n",
      "Collecting imageio>=2.27\n",
      "  Downloading imageio-2.30.0-py3-none-any.whl (312 kB)\n",
      "Requirement already satisfied: scipy>=1.8 in c:\\users\\dominik\\anaconda3\\envs\\tensorflow1\\lib\\site-packages (from scikit-image->efficientnet) (1.10.1)\n",
      "Collecting lazy_loader>=0.2\n",
      "  Using cached lazy_loader-0.2-py3-none-any.whl (8.6 kB)\n",
      "Collecting networkx>=2.8\n",
      "  Using cached networkx-3.1-py3-none-any.whl (2.1 MB)\n",
      "Collecting tifffile>=2022.8.12\n",
      "  Using cached tifffile-2023.4.12-py3-none-any.whl (219 kB)\n",
      "Collecting PyWavelets>=1.1.1\n",
      "  Using cached PyWavelets-1.4.1-cp39-cp39-win_amd64.whl (4.2 MB)\n",
      "Requirement already satisfied: packaging>=21 in c:\\users\\dominik\\anaconda3\\envs\\tensorflow1\\lib\\site-packages (from scikit-image->efficientnet) (21.3)\n",
      "Requirement already satisfied: pyparsing!=3.0.5,>=2.0.2 in c:\\users\\dominik\\anaconda3\\envs\\tensorflow1\\lib\\site-packages (from packaging>=21->scikit-image->efficientnet) (3.0.9)\n",
      "Installing collected packages: tifffile, PyWavelets, networkx, lazy-loader, imageio, scikit-image, keras-applications, efficientnet\n",
      "Successfully installed PyWavelets-1.4.1 efficientnet-1.1.1 imageio-2.30.0 keras-applications-1.0.8 lazy-loader-0.2 networkx-3.1 scikit-image-0.21.0 tifffile-2023.4.12\n",
      "Note: you may need to restart the kernel to use updated packages.\n",
      "Note: you may need to restart the kernel to use updated packages.\n"
     ]
    },
    {
     "name": "stderr",
     "output_type": "stream",
     "text": [
      "ERROR: Could not find a version that satisfies the requirement cv2 (from versions: none)\n",
      "ERROR: No matching distribution found for cv2\n"
     ]
    }
   ],
   "source": [
    "%pip install fast_ml\n",
    "%pip install -U efficientnet\n",
    "%pip install cv2"
   ]
  },
  {
   "cell_type": "code",
   "execution_count": 3,
   "metadata": {},
   "outputs": [],
   "source": [
    "# import the necessary packages\n",
    "import os\n",
    "import zipfile\n",
    "# import matplotlib as plt\n",
    "import matplotlib.pyplot as plt\n",
    "import cv2\n",
    "import glob\n",
    "import tensorflow as tf\n",
    "\n",
    "# from pyimagesearch.resnet import ResNet\n",
    "from sklearn.preprocessing import LabelEncoder\n",
    "from sklearn.model_selection import train_test_split\n",
    "from sklearn.metrics import classification_report\n",
    "from tensorflow.keras.preprocessing.image import ImageDataGenerator\n",
    "from tensorflow.keras.optimizers import SGD\n",
    "from tensorflow.keras import layers, Model\n",
    "from tensorflow.keras.layers import Dropout, Flatten, Dense\n",
    "#from keras import optimizers\n",
    "from tensorflow.keras import optimizers\n",
    "\n",
    "from numpy import expand_dims\n",
    "from keras.preprocessing.image import load_img\n",
    "from keras.preprocessing.image import img_to_array, array_to_img\n",
    "from matplotlib import pyplot\n",
    "import efficientnet.keras as efn\n",
    "\n",
    "from tensorflow.keras.applications.vgg16 import VGG16\n",
    "from tensorflow.keras.applications import ResNet50, ResNet101, InceptionV3\n",
    "\n",
    "import PIL\n",
    "import numpy as np\n",
    "from keras.preprocessing import image\n",
    "import pandas as pd\n",
    "from PIL import Image\n",
    "from PIL import Image, ImageOps\n",
    "\n",
    "\n"
   ]
  },
  {
   "cell_type": "code",
   "execution_count": 4,
   "metadata": {},
   "outputs": [
    {
     "name": "stdout",
     "output_type": "stream",
     "text": [
      "unzipping data/dataset.zip\n",
      "Dominik : 500 image paths\n",
      "Unknown : 300 image paths\n"
     ]
    }
   ],
   "source": [
    "################ Unzip the dataset in the Colab runtime #################\n",
    "zip_file_path = 'data/dataset.zip'\n",
    "pathToZip = os.path.join(zip_file_path)\n",
    "print(\"unzipping {}\".format(pathToZip))\n",
    "\n",
    "pathToData = \"/tmp\"\n",
    "with zipfile.ZipFile(pathToZip, 'r') as zip_ref:\n",
    "    zip_ref.extractall(pathToData)\n",
    "\n",
    "\n",
    "# images\n",
    "data_dominik    = glob.glob(os.path.join(pathToData, \"dataset/Dominik/\" + \"*.jpeg\"))\n",
    "data_unknown    = glob.glob(os.path.join(pathToData, \"dataset/Unknown/\" + \"*.jpg\"))\n",
    "\n",
    "print(\"Dominik : {} image paths\".format(len(data_dominik)))\n",
    "print(\"Unknown : {} image paths\".format(len(data_unknown)))"
   ]
  },
  {
   "cell_type": "code",
   "execution_count": 5,
   "metadata": {},
   "outputs": [
    {
     "data": {
      "image/png": "[encoded data removed]",
      "text/plain": [
       "<Figure size 648x216 with 1 Axes>"
      ]
     },
     "metadata": {
      "needs_background": "light"
     },
     "output_type": "display_data"
    }
   ],
   "source": [
    "names = ['Dominik', 'unknown']\n",
    "values = [len(data_dominik), len(data_unknown)]\n",
    "\n",
    "plt.figure(figsize=(9, 3))\n",
    "plt.bar(names, values, color='blue',edgecolor='black')\n",
    "plt.ylabel('Number Images')\n",
    "plt.title('Data comparison of the two classes')\n",
    "plt.show()"
   ]
  },
  {
   "cell_type": "code",
   "execution_count": 6,
   "metadata": {},
   "outputs": [
    {
     "name": "stdout",
     "output_type": "stream",
     "text": [
      "list:  500\n",
      "<PIL.Image.Image image mode=RGB size=224x224 at 0x2332DFF4940>\n",
      "list:  300\n",
      "<PIL.Image.Image image mode=RGB size=224x224 at 0x2332E10D130>\n"
     ]
    }
   ],
   "source": [
    "images_dominik = []\n",
    "for filename in glob.glob(\"/tmp/dataset/Dominik/\" + \"*.jpeg\"): #assuming gif\n",
    "    im=Image.open(filename)\n",
    "    im = ImageOps.exif_transpose(im)\n",
    "    images_dominik.append(im.resize([224,224]))\n",
    "\n",
    "print(\"list: \", len(images_dominik))\n",
    "print(images_dominik[0])\n",
    "\n",
    "\n",
    "images_unknown = []\n",
    "for filename in glob.glob(\"/tmp/dataset/Unknown/\" + \"*.jpg\"): #assuming gif\n",
    "    im=Image.open(filename)\n",
    "    im = ImageOps.exif_transpose(im)\n",
    "    images_unknown.append(im.resize([224,224]))\n",
    "\n",
    "print(\"list: \", len(images_unknown))\n",
    "print(images_unknown[0])\n"
   ]
  },
  {
   "cell_type": "code",
   "execution_count": 9,
   "metadata": {},
   "outputs": [],
   "source": [
    "images_dominik_norm = []\n",
    "for i in range(len(images_dominik)):\n",
    "        temp_data = img_to_array(images_dominik[i])\n",
    "        img_norm = cv2.normalize(temp_data, None, alpha=0, beta=1, norm_type=cv2.NORM_MINMAX, dtype=cv2.CV_32F)\n",
    "        images_dominik_norm.append(array_to_img(img_norm))\n",
    "\n",
    "\n",
    "images_unknown_norm = []\n",
    "for i in range(len(images_unknown)):\n",
    "        temp_data = img_to_array(images_unknown[i])\n",
    "        img_norm = cv2.normalize(temp_data, None, alpha=0, beta=1, norm_type=cv2.NORM_MINMAX, dtype=cv2.CV_32F)\n",
    "        images_unknown_norm.append(array_to_img(img_norm))"
   ]
  },
  {
   "cell_type": "code",
   "execution_count": 10,
   "metadata": {},
   "outputs": [],
   "source": [
    "# Let's say we want to split the data in 80:10:10 for train:valid:test dataset\n",
    "y_unknown = []\n",
    "for i in range(len(images_unknown_norm)):\n",
    "    y_unknown.append('unknown')\n",
    "\n",
    "y_dominik = []\n",
    "for i in range(len(images_dominik_norm)):\n",
    "    y_dominik.append('Dominik')\n",
    "\n",
    "# In the first step we will split the data in training and remaining dataset\n",
    "X_train_unknown, X_rem_unknown, y_train_unknown, y_rem_unknown = train_test_split(images_unknown_norm,y_unknown, train_size=0.7)\n",
    "X_train_dominik, X_rem_dominik, y_train_dominik, y_rem_dominik = train_test_split(images_dominik_norm,y_dominik, train_size=0.7)\n",
    "\n",
    "# Now since we want the valid and test size to be equal (10% each of overall data). \n",
    "# we have to define valid_size=0.5 (that is 50% of remaining data)\n",
    "X_valid_unknown, X_test_unknown, y_valid_unknown, y_test_unknown = train_test_split(X_rem_unknown,y_rem_unknown, test_size=0.3)\n",
    "X_valid_dominik, X_test_dominik, y_valid__dominik, y_test__dominik = train_test_split(X_rem_dominik,y_rem_dominik, test_size=0.3)"
   ]
  },
  {
   "cell_type": "code",
   "execution_count": 11,
   "metadata": {},
   "outputs": [
    {
     "data": {
      "image/png": "[encoded data removed]",
      "text/plain": [
       "<Figure size 432x288 with 1 Axes>"
      ]
     },
     "metadata": {
      "needs_background": "light"
     },
     "output_type": "display_data"
    }
   ],
   "source": [
    "split=['train', 'validation', 'test']\n",
    "data_origin=['Dominik','unknown']\n",
    "pos = np.arange(len(split))\n",
    "vales_dominik = [len(X_train_dominik), len(X_valid_dominik), len(X_test_dominik)]\n",
    "values_unknown = [len(X_train_unknown), len(X_valid_unknown), len(X_test_unknown)]\n",
    "\n",
    "plt.bar(pos,vales_dominik,color='blue',edgecolor='black')\n",
    "plt.bar(pos,values_unknown,color='orange',edgecolor='black',bottom=vales_dominik)\n",
    "plt.xticks(pos, split)\n",
    "plt.ylabel('Number of Images', fontsize=16)\n",
    "plt.title('Splitted dataset',fontsize=18)\n",
    "plt.legend(data_origin)\n",
    "plt.show()"
   ]
  },
  {
   "cell_type": "code",
   "execution_count": 13,
   "metadata": {},
   "outputs": [],
   "source": [
    "for i in range(len(X_train_unknown)):\n",
    "    X_train_unknown[i].save(r'data\\train\\unknown\\image_' +str(i) +'.jpg', 'JPEG')\n",
    "for i in range(len(X_valid_unknown)):\n",
    "    X_valid_unknown[i].save(r'data\\validation\\unknown\\image_' +str(i) +'.jpg', 'JPEG')\n",
    "for i in range(len(X_test_unknown)):\n",
    "    X_test_unknown[i].save(r'data\\test\\unknown\\image_' +str(i) +'.jpg', 'JPEG')"
   ]
  },
  {
   "cell_type": "code",
   "execution_count": 14,
   "metadata": {},
   "outputs": [],
   "source": [
    "for i in range(len(X_train_dominik)):\n",
    "    X_train_dominik[i].save(r'data\\train\\Dominik\\image_' +str(i) +'.jpg', 'JPEG')\n",
    "for i in range(len(X_valid_dominik)):\n",
    "    X_valid_dominik[i].save(r'data\\validation\\Dominik\\image_' +str(i) +'.jpg', 'JPEG')\n",
    "for i in range(len(X_test_dominik)):\n",
    "    X_test_dominik[i].save(r'data\\test\\Dominik\\image_' +str(i) +'.jpg', 'JPEG')"
   ]
  },
  {
   "cell_type": "code",
   "execution_count": 15,
   "metadata": {},
   "outputs": [],
   "source": [
    "train_unknown_array = []\n",
    "for i in range(len(X_train_unknown)):\n",
    "    train_unknown_array.append(np.expand_dims(img_to_array(X_train_unknown[i]),axis=0))\n",
    "\n",
    "valid_unknown_array = []\n",
    "for i in range(len(X_valid_unknown)):\n",
    "    valid_unknown_array.append(np.expand_dims(img_to_array(X_valid_unknown[i]), axis=0))\n",
    "\n",
    "train_dominik_array = []\n",
    "for i in range(len(X_train_dominik)):\n",
    "    train_dominik_array.append(np.expand_dims(img_to_array(X_train_dominik[i]), axis=0))\n",
    "\n",
    "valid_dominik_array = []\n",
    "for i in range(len(X_valid_dominik)):\n",
    "    valid_dominik_array.append(np.expand_dims(img_to_array(X_valid_dominik[i]), axis=0))"
   ]
  },
  {
   "cell_type": "code",
   "execution_count": 16,
   "metadata": {},
   "outputs": [],
   "source": [
    "train_unknown_datagen = ImageDataGenerator(width_shift_range = 0.1, height_shift_range = 0.1, horizontal_flip = True ,rotation_range=30, brightness_range=[0.4,1.2], zoom_range=[0.6,1.0], fill_mode='reflect')\n",
    "validation_unknown_datagen = ImageDataGenerator(width_shift_range = 0.1, height_shift_range = 0.1, horizontal_flip = True ,rotation_range=30, brightness_range=[0.4,1.2], zoom_range=[0.6,1.0], fill_mode='reflect')\n",
    "train_dominik_datagen = ImageDataGenerator(width_shift_range = 0.1, height_shift_range = 0.1, horizontal_flip = True ,rotation_range=30, brightness_range=[0.4,1.2], zoom_range=[0.6,1.0], fill_mode='reflect')\n",
    "validation_dominik_datagen = ImageDataGenerator(width_shift_range = 0.1, height_shift_range = 0.1, horizontal_flip = True ,rotation_range=30, brightness_range=[0.4,1.2], zoom_range=[0.6,1.0], fill_mode='reflect')\n",
    "\n",
    "\n",
    "for i in range(len(train_unknown_array)):\n",
    "    train_generator_unknown = train_unknown_datagen.flow(train_unknown_array[i], batch_size = 1)\n",
    "    # generate batch of images\n",
    "    batch = train_generator_unknown.next()\n",
    "    img_norm = cv2.normalize(batch[0], None, alpha=0, beta=1, norm_type=cv2.NORM_MINMAX, dtype=cv2.CV_32F)\n",
    "    im = array_to_img(img_norm) \n",
    "    im.save(r'data\\train\\unknown\\augmented_image_'+ str(i)+ '.jpg')\n",
    "\n",
    "for i in range(len(valid_unknown_array)):\n",
    "    valid_generator_unknown = validation_unknown_datagen.flow(valid_unknown_array[i], batch_size = 1)\n",
    "    # generate batch of images\n",
    "    batch = valid_generator_unknown.next()\n",
    "    img_norm = cv2.normalize(batch[0], None, alpha=0, beta=1, norm_type=cv2.NORM_MINMAX, dtype=cv2.CV_32F)\n",
    "    im = array_to_img(img_norm) \n",
    "    im.save(r'data\\validation\\unknown\\augmented_image_'+ str(i)+ '.jpg')\n",
    "\n",
    "for i in range(len(train_dominik_array)):\n",
    "    train_generator_dominik = train_dominik_datagen.flow(train_dominik_array[i], batch_size = 1)\n",
    "    # generate batch of images\n",
    "    batch = train_generator_dominik.next()\n",
    "    img_norm = cv2.normalize(batch[0], None, alpha=0, beta=1, norm_type=cv2.NORM_MINMAX, dtype=cv2.CV_32F)\n",
    "    im = array_to_img(img_norm) \n",
    "    im.save(r'data\\train\\Dominik\\augmented_image_'+ str(i)+ '.jpg')\n",
    "\n",
    "for i in range(len(valid_dominik_array)):\n",
    "    valid_generator_dominik = validation_dominik_datagen.flow(valid_dominik_array[i], batch_size = 1)\n",
    "    # generate batch of images\n",
    "    batch = valid_generator_dominik.next()\n",
    "    img_norm = cv2.normalize(batch[0], None, alpha=0, beta=1, norm_type=cv2.NORM_MINMAX, dtype=cv2.CV_32F)\n",
    "    im = array_to_img(img_norm) \n",
    "    im.save(r'data\\validation\\Dominik\\augmented_image_'+ str(i)+ '.jpg')"
   ]
  },
  {
   "cell_type": "code",
   "execution_count": 17,
   "metadata": {},
   "outputs": [
    {
     "data": {
      "image/png": "[encoded data removed]",
      "text/plain": [
       "<Figure size 432x288 with 1 Axes>"
      ]
     },
     "metadata": {
      "needs_background": "light"
     },
     "output_type": "display_data"
    }
   ],
   "source": [
    "split=['train', 'validation']\n",
    "data_origin=['Dominik','unknown']\n",
    "pos = np.arange(len(split))\n",
    "vales_train = [len(train_dominik_array), len(valid_dominik_array)]\n",
    "values_valid = [len(train_unknown_array), len(valid_unknown_array)]\n",
    "\n",
    "plt.bar(pos,vales_train,color='blue',edgecolor='black')\n",
    "plt.bar(pos,values_valid,color='orange',edgecolor='black',bottom=vales_train)\n",
    "plt.xticks(pos, split)\n",
    "plt.ylabel('Number of Images', fontsize=16)\n",
    "plt.title('Number of augmented images',fontsize=18)\n",
    "plt.legend(data_origin)\n",
    "plt.show()"
   ]
  },
  {
   "cell_type": "code",
   "execution_count": 18,
   "metadata": {},
   "outputs": [
    {
     "data": {
      "image/png": "[encoded data removed]",
      "text/plain": [
       "<Figure size 432x288 with 1 Axes>"
      ]
     },
     "metadata": {
      "needs_background": "light"
     },
     "output_type": "display_data"
    }
   ],
   "source": [
    "split=['train', 'validation', 'test']\n",
    "data_origin=['Original data','Augmented data']\n",
    "pos = np.arange(len(split))\n",
    "vales_og = [len(train_dominik_array+train_unknown_array), len(valid_dominik_array+valid_unknown_array), len(X_test_unknown+X_test_dominik)]\n",
    "values_augmented = [len(train_dominik_array+train_unknown_array), len(valid_dominik_array+valid_unknown_array), 0]\n",
    "\n",
    "plt.bar(pos,vales_og,color='blue',edgecolor='black')\n",
    "plt.bar(pos,values_augmented,color='orange',edgecolor='black',bottom=vales_og)\n",
    "plt.xticks(pos, split)\n",
    "plt.ylabel('Number of Images', fontsize=16)\n",
    "plt.title('Dataset with augmented data',fontsize=18)\n",
    "plt.legend(data_origin)\n",
    "plt.show()"
   ]
  },
  {
   "cell_type": "code",
   "execution_count": 19,
   "metadata": {},
   "outputs": [],
   "source": [
    "# Bild-Daten-Generator für Data Augmentation\n",
    "train_datagen = ImageDataGenerator(\n",
    "    # rotation_range=20,\n",
    "    # width_shift_range=0.2,\n",
    "    # height_shift_range=0.2,\n",
    "    # shear_range=0.2,\n",
    "    # zoom_range=0.2,\n",
    "    # horizontal_flip=True\n",
    ")\n",
    "\n",
    "validation_datagen = ImageDataGenerator()"
   ]
  },
  {
   "cell_type": "code",
   "execution_count": 20,
   "metadata": {},
   "outputs": [
    {
     "name": "stdout",
     "output_type": "stream",
     "text": [
      "Found 1120 images belonging to 2 classes.\n",
      "Found 336 images belonging to 2 classes.\n"
     ]
    }
   ],
   "source": [
    "# Daten-Generatoren für Trainings- und Validierungsdaten erstellen\n",
    "batch_size = 16\n",
    "train_dir = \"data/train/\"\n",
    "val_dir = \"data/validation/\"\n",
    "train_generator = train_datagen.flow_from_directory(\n",
    "    train_dir,\n",
    "    target_size=(224, 224),\n",
    "    batch_size=batch_size,\n",
    "    class_mode='categorical'\n",
    ")\n",
    "\n",
    "validation_generator = validation_datagen.flow_from_directory(\n",
    "    val_dir,\n",
    "    target_size=(224, 224),\n",
    "    batch_size=batch_size,\n",
    "    class_mode='categorical'\n",
    ")"
   ]
  },
  {
   "attachments": {},
   "cell_type": "markdown",
   "metadata": {},
   "source": [
    "**Models**"
   ]
  },
  {
   "cell_type": "code",
   "execution_count": 21,
   "metadata": {},
   "outputs": [],
   "source": [
    "ResNet50_base_model = ResNet50(weights='imagenet', include_top=False, input_shape=(224, 224, 3))\n",
    "# Again, let us freeze the layers:\n",
    "for layer in ResNet50_base_model.layers:\n",
    "    layer.trainable = False\n",
    "    \n",
    "# Füge einen Klassifikationskopf hinzu\n",
    "ResNet50_model = tf.keras.Sequential([\n",
    "    ResNet50_base_model,\n",
    "    tf.keras.layers.GlobalAveragePooling2D(),\n",
    "    tf.keras.layers.Dense(2, activation='softmax')\n",
    "])"
   ]
  },
  {
   "cell_type": "code",
   "execution_count": 22,
   "metadata": {},
   "outputs": [],
   "source": [
    "# Erstelle das ResNet101-Modell\n",
    "ResNet101_base_model = ResNet101(include_top=False, input_shape=(224, 224, 3))\n",
    "# Again, let us freeze the layers:\n",
    "for layer in ResNet101_base_model.layers:\n",
    "    layer.trainable = False\n",
    "    \n",
    "# Füge einen Klassifikationskopf hinzu\n",
    "ResNet101_model = tf.keras.Sequential([\n",
    "    ResNet101_base_model,\n",
    "    tf.keras.layers.GlobalAveragePooling2D(),\n",
    "    tf.keras.layers.Dense(2, activation='softmax')\n",
    "])"
   ]
  },
  {
   "cell_type": "code",
   "execution_count": 23,
   "metadata": {},
   "outputs": [],
   "source": [
    "# Erstelle das EfficientNetB0-Modell\n",
    "EfficientNetB0_base_model = efn.EfficientNetB0(include_top=False, input_shape=(224, 224, 3), weights = 'imagenet')\n",
    "# Again, let us freeze the layers:\n",
    "for layer in EfficientNetB0_base_model.layers:\n",
    "    layer.trainable = False\n",
    "\n",
    "# Füge einen Klassifikationskopf hinzu\n",
    "EfficientNetB0_model = tf.keras.Sequential([\n",
    "    EfficientNetB0_base_model,\n",
    "    tf.keras.layers.GlobalAveragePooling2D(),\n",
    "    tf.keras.layers.Dense(2, activation='softmax')\n",
    "])"
   ]
  },
  {
   "cell_type": "code",
   "execution_count": 24,
   "metadata": {},
   "outputs": [],
   "source": [
    "# Erstelle das VGG16-Modell\n",
    "VGG16_base_model = VGG16(include_top=False, input_shape=(224, 224, 3))\n",
    "# Again, let us freeze the layers:\n",
    "for layer in VGG16_base_model.layers:\n",
    "    layer.trainable = False\n",
    "    \n",
    "# Füge einen Klassifikationskopf hinzu\n",
    "VGG16_model = tf.keras.Sequential([\n",
    "    VGG16_base_model,\n",
    "    tf.keras.layers.GlobalAveragePooling2D(),\n",
    "    tf.keras.layers.Dense(2, activation='softmax')\n",
    "])"
   ]
  },
  {
   "cell_type": "code",
   "execution_count": 25,
   "metadata": {},
   "outputs": [],
   "source": [
    "# Erstelle das InceptionNetV3-Modell\n",
    "InceptionV3_base_model = InceptionV3(include_top=False, input_shape=(224, 224, 3))\n",
    "# Again, let us freeze the layers:\n",
    "for layer in InceptionV3_base_model.layers:\n",
    "    layer.trainable = True\n",
    "\n",
    "# Füge einen Klassifikationskopf hinzu\n",
    "InceptionV3_model = tf.keras.Sequential([\n",
    "    InceptionV3_base_model,\n",
    "    tf.keras.layers.GlobalAveragePooling2D(),\n",
    "    tf.keras.layers.Dense(2, activation='softmax')\n",
    "])\n"
   ]
  },
  {
   "cell_type": "code",
   "execution_count": 26,
   "metadata": {},
   "outputs": [],
   "source": [
    "# Modell kompilieren\n",
    "VGG16_model.compile(optimizer='adam', loss='categorical_crossentropy', metrics=['accuracy'])\n",
    "ResNet50_model.compile(optimizer='adam', loss='categorical_crossentropy', metrics=['accuracy'])\n",
    "ResNet101_model.compile(optimizer='adam', loss='categorical_crossentropy', metrics=['accuracy'])\n",
    "EfficientNetB0_model.compile(optimizer='adam', loss='categorical_crossentropy', metrics=['accuracy'])\n",
    "InceptionV3_model.compile(optimizer='adam', loss='categorical_crossentropy', metrics=['accuracy'])\n"
   ]
  },
  {
   "cell_type": "code",
   "execution_count": 27,
   "metadata": {},
   "outputs": [
    {
     "name": "stdout",
     "output_type": "stream",
     "text": [
      "VGG16:\n",
      "Epoch 1/10\n",
      "20/20 [==============================] - 20s 358ms/step - loss: 2.0335 - accuracy: 0.6344 - val_loss: 0.6978 - val_accuracy: 0.7619\n",
      "Epoch 2/10\n",
      "20/20 [==============================] - 8s 401ms/step - loss: 0.6067 - accuracy: 0.8188 - val_loss: 0.3224 - val_accuracy: 0.8661\n",
      "Epoch 3/10\n",
      "20/20 [==============================] - 9s 473ms/step - loss: 0.3603 - accuracy: 0.8906 - val_loss: 0.1827 - val_accuracy: 0.9375\n",
      "Epoch 4/10\n",
      "20/20 [==============================] - 9s 445ms/step - loss: 0.2511 - accuracy: 0.9281 - val_loss: 0.1395 - val_accuracy: 0.9435\n",
      "Epoch 5/10\n",
      "20/20 [==============================] - 8s 414ms/step - loss: 0.1918 - accuracy: 0.9250 - val_loss: 0.1142 - val_accuracy: 0.9613\n",
      "Epoch 6/10\n",
      "20/20 [==============================] - 9s 466ms/step - loss: 0.1549 - accuracy: 0.9312 - val_loss: 0.0973 - val_accuracy: 0.9613\n",
      "Epoch 7/10\n",
      "20/20 [==============================] - 9s 451ms/step - loss: 0.0655 - accuracy: 0.9719 - val_loss: 0.0693 - val_accuracy: 0.9643\n",
      "Epoch 8/10\n",
      "20/20 [==============================] - 9s 453ms/step - loss: 0.0467 - accuracy: 0.9844 - val_loss: 0.0596 - val_accuracy: 0.9673\n",
      "Epoch 9/10\n",
      "20/20 [==============================] - 10s 526ms/step - loss: 0.0631 - accuracy: 0.9812 - val_loss: 0.0508 - val_accuracy: 0.9732\n",
      "Epoch 10/10\n",
      "20/20 [==============================] - 10s 481ms/step - loss: 0.0421 - accuracy: 0.9844 - val_loss: 0.0425 - val_accuracy: 0.9821\n",
      "ResNet50:\n",
      "Epoch 1/10\n",
      "20/20 [==============================] - 23s 823ms/step - loss: 0.3637 - accuracy: 0.8500 - val_loss: 0.1297 - val_accuracy: 0.9673\n",
      "Epoch 2/10\n",
      "20/20 [==============================] - 9s 463ms/step - loss: 0.0760 - accuracy: 0.9875 - val_loss: 0.0847 - val_accuracy: 0.9762\n",
      "Epoch 3/10\n",
      "20/20 [==============================] - 9s 481ms/step - loss: 0.0533 - accuracy: 0.9906 - val_loss: 0.0454 - val_accuracy: 0.9911\n",
      "Epoch 4/10\n",
      "20/20 [==============================] - 10s 502ms/step - loss: 0.0389 - accuracy: 0.9906 - val_loss: 0.0353 - val_accuracy: 0.9911\n",
      "Epoch 5/10\n",
      "20/20 [==============================] - 9s 449ms/step - loss: 0.0299 - accuracy: 0.9969 - val_loss: 0.0267 - val_accuracy: 0.9940\n",
      "Epoch 6/10\n",
      "20/20 [==============================] - 9s 452ms/step - loss: 0.0169 - accuracy: 1.0000 - val_loss: 0.0253 - val_accuracy: 0.9970\n",
      "Epoch 7/10\n",
      "20/20 [==============================] - 10s 497ms/step - loss: 0.0172 - accuracy: 0.9969 - val_loss: 0.0220 - val_accuracy: 0.9940\n",
      "Epoch 8/10\n",
      "20/20 [==============================] - 10s 515ms/step - loss: 0.0188 - accuracy: 0.9969 - val_loss: 0.0183 - val_accuracy: 0.9940\n",
      "Epoch 9/10\n",
      "20/20 [==============================] - 10s 514ms/step - loss: 0.0226 - accuracy: 0.9969 - val_loss: 0.0190 - val_accuracy: 1.0000\n",
      "Epoch 10/10\n",
      "20/20 [==============================] - 11s 579ms/step - loss: 0.0087 - accuracy: 1.0000 - val_loss: 0.0138 - val_accuracy: 1.0000\n",
      "ResNet101:\n",
      "Epoch 1/10\n",
      "20/20 [==============================] - 58s 1s/step - loss: 0.2942 - accuracy: 0.8875 - val_loss: 0.1512 - val_accuracy: 0.9524\n",
      "Epoch 2/10\n",
      "20/20 [==============================] - 15s 744ms/step - loss: 0.0965 - accuracy: 0.9781 - val_loss: 0.0806 - val_accuracy: 0.9762\n",
      "Epoch 3/10\n",
      "20/20 [==============================] - 14s 743ms/step - loss: 0.0720 - accuracy: 0.9781 - val_loss: 0.0475 - val_accuracy: 0.9851\n",
      "Epoch 4/10\n",
      "20/20 [==============================] - 15s 748ms/step - loss: 0.0487 - accuracy: 0.9906 - val_loss: 0.0361 - val_accuracy: 0.9940\n",
      "Epoch 5/10\n",
      "20/20 [==============================] - 15s 745ms/step - loss: 0.0311 - accuracy: 0.9937 - val_loss: 0.0467 - val_accuracy: 0.9851\n",
      "Epoch 6/10\n",
      "20/20 [==============================] - 15s 749ms/step - loss: 0.0319 - accuracy: 0.9937 - val_loss: 0.0243 - val_accuracy: 0.9970\n",
      "Epoch 7/10\n",
      "20/20 [==============================] - 17s 858ms/step - loss: 0.0240 - accuracy: 0.9937 - val_loss: 0.0240 - val_accuracy: 1.0000\n",
      "Epoch 8/10\n",
      "20/20 [==============================] - 17s 877ms/step - loss: 0.0262 - accuracy: 0.9969 - val_loss: 0.0277 - val_accuracy: 0.9940\n",
      "Epoch 9/10\n",
      "20/20 [==============================] - 17s 859ms/step - loss: 0.0153 - accuracy: 1.0000 - val_loss: 0.0158 - val_accuracy: 1.0000\n",
      "Epoch 10/10\n",
      "20/20 [==============================] - 17s 885ms/step - loss: 0.0126 - accuracy: 1.0000 - val_loss: 0.0143 - val_accuracy: 1.0000\n",
      "EfficientNetB0:\n",
      "Epoch 1/10\n",
      "20/20 [==============================] - 45s 719ms/step - loss: 181.3550 - accuracy: 0.5969 - val_loss: 85.4398 - val_accuracy: 0.6190\n",
      "Epoch 2/10\n",
      "20/20 [==============================] - 7s 335ms/step - loss: 141.9895 - accuracy: 0.5344 - val_loss: 73.0564 - val_accuracy: 0.6250\n",
      "Epoch 3/10\n",
      "20/20 [==============================] - 4s 219ms/step - loss: 80.6399 - accuracy: 0.6313 - val_loss: 63.5849 - val_accuracy: 0.6101\n",
      "Epoch 4/10\n",
      "20/20 [==============================] - 5s 230ms/step - loss: 105.9788 - accuracy: 0.5781 - val_loss: 81.1592 - val_accuracy: 0.6042\n",
      "Epoch 5/10\n",
      "20/20 [==============================] - 5s 254ms/step - loss: 88.0111 - accuracy: 0.6344 - val_loss: 54.9115 - val_accuracy: 0.6667\n",
      "Epoch 6/10\n",
      "20/20 [==============================] - 5s 230ms/step - loss: 75.5034 - accuracy: 0.6219 - val_loss: 58.0836 - val_accuracy: 0.7113\n",
      "Epoch 7/10\n",
      "20/20 [==============================] - 4s 229ms/step - loss: 59.1573 - accuracy: 0.6938 - val_loss: 82.7400 - val_accuracy: 0.7083\n",
      "Epoch 8/10\n",
      "20/20 [==============================] - 5s 237ms/step - loss: 70.2124 - accuracy: 0.6781 - val_loss: 85.8210 - val_accuracy: 0.6518\n",
      "Epoch 9/10\n",
      "20/20 [==============================] - 5s 229ms/step - loss: 58.9073 - accuracy: 0.6938 - val_loss: 51.0562 - val_accuracy: 0.6815\n",
      "Epoch 10/10\n",
      "20/20 [==============================] - 4s 229ms/step - loss: 79.7859 - accuracy: 0.6156 - val_loss: 48.9216 - val_accuracy: 0.6220\n",
      "InceptionV3:\n",
      "Epoch 1/10\n",
      "20/20 [==============================] - 59s 788ms/step - loss: 0.4422 - accuracy: 0.8469 - val_loss: 11578.4922 - val_accuracy: 0.3750\n",
      "Epoch 2/10\n",
      "20/20 [==============================] - 10s 531ms/step - loss: 0.1948 - accuracy: 0.9344 - val_loss: 881.4181 - val_accuracy: 0.4881\n",
      "Epoch 3/10\n",
      "20/20 [==============================] - 12s 614ms/step - loss: 0.0903 - accuracy: 0.9625 - val_loss: 22.6826 - val_accuracy: 0.7530\n",
      "Epoch 4/10\n",
      "20/20 [==============================] - 11s 553ms/step - loss: 0.1147 - accuracy: 0.9563 - val_loss: 4.3792 - val_accuracy: 0.8333\n",
      "Epoch 5/10\n",
      "20/20 [==============================] - 13s 655ms/step - loss: 0.1104 - accuracy: 0.9563 - val_loss: 2.6043 - val_accuracy: 0.6399\n",
      "Epoch 6/10\n",
      "20/20 [==============================] - 16s 793ms/step - loss: 0.0519 - accuracy: 0.9844 - val_loss: 7.8518 - val_accuracy: 0.6250\n",
      "Epoch 7/10\n",
      "20/20 [==============================] - 15s 737ms/step - loss: 0.0238 - accuracy: 0.9844 - val_loss: 6.4602 - val_accuracy: 0.3929\n",
      "Epoch 8/10\n",
      "20/20 [==============================] - 15s 777ms/step - loss: 0.0201 - accuracy: 0.9937 - val_loss: 0.1198 - val_accuracy: 0.9792\n",
      "Epoch 9/10\n",
      "20/20 [==============================] - 15s 779ms/step - loss: 0.0405 - accuracy: 0.9906 - val_loss: 0.0949 - val_accuracy: 0.9702\n",
      "Epoch 10/10\n",
      "20/20 [==============================] - 15s 747ms/step - loss: 0.0482 - accuracy: 0.9906 - val_loss: 0.2279 - val_accuracy: 0.9554\n"
     ]
    }
   ],
   "source": [
    "# Modell trainieren\n",
    "total_val = 2*len(valid_dominik_array+valid_unknown_array)\n",
    "epochs = 10\n",
    "steps_per_epoch = 20\n",
    "print('VGG16:')\n",
    "history_VGG16 = VGG16_model.fit(train_generator, steps_per_epoch=steps_per_epoch, epochs=epochs, validation_data=validation_generator, validation_steps=total_val // batch_size)\n",
    "print('ResNet50:')\n",
    "history_ResNet50 = ResNet50_model.fit(train_generator, epochs=epochs, steps_per_epoch= steps_per_epoch, validation_data=validation_generator, validation_steps=total_val // batch_size)\n",
    "print('ResNet101:')\n",
    "history_ResNet101 = ResNet101_model.fit(train_generator, epochs=epochs, steps_per_epoch= steps_per_epoch, validation_data=validation_generator, validation_steps=total_val // batch_size)\n",
    "print('EfficientNetB0:')\n",
    "history_EfficientNetB0 = EfficientNetB0_model.fit(train_generator, steps_per_epoch=steps_per_epoch, epochs=epochs, validation_data=validation_generator, validation_steps=total_val // batch_size)\n",
    "print('InceptionV3:')\n",
    "history_InceptionV3 = InceptionV3_model.fit(train_generator, steps_per_epoch=steps_per_epoch, epochs=epochs, validation_data=validation_generator, validation_steps=total_val // batch_size)\n"
   ]
  },
  {
   "cell_type": "code",
   "execution_count": 28,
   "metadata": {},
   "outputs": [
    {
     "name": "stderr",
     "output_type": "stream",
     "text": [
      "c:\\Users\\domin\\anaconda3\\envs\\tensorflow1\\lib\\site-packages\\tensorflow\\python\\keras\\utils\\generic_utils.py:494: CustomMaskWarning: Custom mask layers require a config and must override get_config. When loading, the custom mask layer must be passed to the custom_objects argument.\n",
      "  warnings.warn('Custom mask layers require a config and must override '\n"
     ]
    }
   ],
   "source": [
    "# # Speichere die Gewichte des trainierten Modells\n",
    "# VGG16_model.save_weights('models/VGG16_model_weights.h5')\n",
    "# ResNet50_model.save_weights('models/ResNet50_model_weights.h5')\n",
    "# ResNet101_model.save_weights('models/ResNet101_model_weights.h5')\n",
    "# EfficientNetB0_model.save_weights('models/EfficientNetB0_model_weights.h5')\n",
    "# InceptionV3_model.save_weights('models/InceptionV3_model_weights.h5')\n",
    "\n",
    "# Speichere das gesamte trainierte Modell\n",
    "VGG16_model.save('models/VGG16_model.h5')\n",
    "ResNet50_model.save('models/ResNet50_model.h5')\n",
    "ResNet101_model.save('models/ResNet101_model.h5')\n",
    "EfficientNetB0_model.save('models/EfficientNetB0_model.h5')\n",
    "InceptionV3_model.save('models/InceptionV3_model.h5')\n",
    "\n",
    "\n",
    "# # Speichere das gesamte trainierte Modell\n",
    "# VGG16_model.save('models/VGG16_model.h')\n",
    "# ResNet50_model.save('models/ResNet50_model.h')\n",
    "# ResNet101_model.save('models/ResNet101_model.h')\n",
    "# EfficientNetB0_model.save('models/EfficientNetB0_model.h')\n",
    "# InceptionV3_model.save('models/InceptionV3_model.h')"
   ]
  },
  {
   "cell_type": "code",
   "execution_count": 23,
   "metadata": {},
   "outputs": [
    {
     "name": "stdout",
     "output_type": "stream",
     "text": [
      "dict_keys(['loss', 'accuracy', 'val_loss', 'val_accuracy'])\n"
     ]
    },
    {
     "data": {
      "image/png": "[encoded data removed]",
      "text/plain": [
       "<Figure size 432x288 with 1 Axes>"
      ]
     },
     "metadata": {
      "needs_background": "light"
     },
     "output_type": "display_data"
    },
    {
     "data": {
      "image/png": "[encoded data removed]",
      "text/plain": [
       "<Figure size 432x288 with 1 Axes>"
      ]
     },
     "metadata": {
      "needs_background": "light"
     },
     "output_type": "display_data"
    }
   ],
   "source": [
    "# Plot training & validation accuracy values of VGG16\n",
    "print(history_VGG16.history.keys())\n",
    "#  \"Accuracy\"\n",
    "plt.plot(history_VGG16.history['accuracy'])\n",
    "plt.plot(history_VGG16.history['val_accuracy'])\n",
    "plt.title('model accuracy')\n",
    "plt.ylabel('accuracy')\n",
    "plt.xlabel('epoch')\n",
    "plt.legend(['train', 'validation'], loc='upper left')\n",
    "plt.show()\n",
    "# \"Loss\"\n",
    "plt.plot(history_VGG16.history['loss'])\n",
    "plt.plot(history_VGG16.history['val_loss'])\n",
    "plt.title('model loss')\n",
    "plt.ylabel('loss')\n",
    "plt.xlabel('epoch')\n",
    "plt.legend(['train', 'validation'], loc='upper left')\n",
    "plt.show()"
   ]
  },
  {
   "cell_type": "code",
   "execution_count": 29,
   "metadata": {},
   "outputs": [
    {
     "name": "stdout",
     "output_type": "stream",
     "text": [
      "dict_keys(['loss', 'accuracy', 'val_loss', 'val_accuracy'])\n"
     ]
    },
    {
     "data": {
      "image/png": "[encoded data removed]",
      "text/plain": [
       "<Figure size 432x288 with 1 Axes>"
      ]
     },
     "metadata": {
      "needs_background": "light"
     },
     "output_type": "display_data"
    },
    {
     "data": {
      "image/png": "[encoded data removed]",
      "text/plain": [
       "<Figure size 432x288 with 1 Axes>"
      ]
     },
     "metadata": {
      "needs_background": "light"
     },
     "output_type": "display_data"
    },
    {
     "data": {
      "image/png": "[encoded data removed]",
      "text/plain": [
       "<Figure size 432x288 with 1 Axes>"
      ]
     },
     "metadata": {
      "needs_background": "light"
     },
     "output_type": "display_data"
    },
    {
     "data": {
      "image/png": "[encoded data removed]",
      "text/plain": [
       "<Figure size 432x288 with 1 Axes>"
      ]
     },
     "metadata": {
      "needs_background": "light"
     },
     "output_type": "display_data"
    }
   ],
   "source": [
    "# Plot training & validation accuracy values of VGG16\n",
    "print(history_VGG16.history.keys())\n",
    "#  \"Accuracy\"\n",
    "plt.plot(history_VGG16.history['accuracy'], label = \"VGG16\")\n",
    "plt.plot(history_ResNet50.history['accuracy'], label = \"ResNet50\")\n",
    "plt.plot(history_ResNet101.history['accuracy'], label = \"ResNet101\")\n",
    "plt.plot(history_EfficientNetB0.history['accuracy'], label = \"EfficientNetB0\")\n",
    "plt.plot(history_InceptionV3.history['accuracy'], label = \"InceptionV3\")\n",
    "plt.title('model accuracy')\n",
    "plt.ylabel('accuracy')\n",
    "plt.xlabel('epoch')\n",
    "plt.legend(['VGG16', 'ResNet50', 'ResNet101', 'EfficientNetB0', 'InceptionV3'], loc='upper left')\n",
    "plt.show()\n",
    "\n",
    "#  \"val_accuracy\"\n",
    "plt.plot(history_VGG16.history['val_accuracy'], label = \"VGG16\")\n",
    "plt.plot(history_ResNet50.history['val_accuracy'], label = \"ResNet50\")\n",
    "plt.plot(history_ResNet101.history['val_accuracy'], label = \"ResNet101\")\n",
    "plt.plot(history_EfficientNetB0.history['val_accuracy'], label = \"EfficientNetB0\")\n",
    "plt.plot(history_InceptionV3.history['val_accuracy'], label = \"InceptionV3\")\n",
    "plt.title('model accuracy')\n",
    "plt.ylabel('accuracy')\n",
    "plt.xlabel('epoch')\n",
    "plt.legend(['VGG16', 'ResNet50', 'ResNet101', 'EfficientNetB0', 'InceptionV3'], loc='upper left')\n",
    "plt.show()\n",
    "\n",
    "\n",
    "# \"Loss\"\n",
    "plt.plot(history_VGG16.history['loss'], label = \"VGG16\")\n",
    "plt.plot(history_ResNet50.history['loss'], label = \"ResNet50\")\n",
    "plt.plot(history_ResNet101.history['loss'], label = \"ResNet101\")\n",
    "plt.plot(history_EfficientNetB0.history['loss'], label = \"EfficientNetB0\")\n",
    "plt.plot(history_InceptionV3.history['loss'], label = \"InceptionV3\")\n",
    "plt.title('model loss')\n",
    "plt.ylabel('loss')\n",
    "plt.xlabel('epoch')\n",
    "plt.legend(['VGG16', 'ResNet50', 'ResNet101', 'EfficientNetB0', 'InceptionV3'], loc='upper left')\n",
    "plt.show()\n",
    "\n",
    "# \"val_loss\"\n",
    "plt.plot(history_VGG16.history['val_loss'], label = \"VGG16\")\n",
    "plt.plot(history_ResNet50.history['val_loss'], label = \"ResNet50\")\n",
    "plt.plot(history_ResNet101.history['val_loss'], label = \"ResNet101\")\n",
    "plt.plot(history_EfficientNetB0.history['val_loss'], label = \"EfficientNetB0\")\n",
    "plt.plot(history_InceptionV3.history['val_loss'], label = \"InceptionV3\")\n",
    "plt.title('model loss')\n",
    "plt.ylabel('loss')\n",
    "plt.xlabel('epoch')\n",
    "plt.legend(['VGG16', 'ResNet50', 'ResNet101', 'EfficientNetB0', 'InceptionV3'], loc='upper left')\n",
    "plt.show()"
   ]
  },
  {
   "cell_type": "code",
   "execution_count": null,
   "metadata": {},
   "outputs": [],
   "source": [
    "\n",
    "# Trainiere das Modell\n",
    "history = model.fit(\n",
    "    train_generator,\n",
    "    steps_per_epoch=10,\n",
    "    epochs=10,\n",
    "    validation_data=valid_generator,\n",
    "    validation_steps=num_valid // batch_size\n",
    ")\n",
    "\n",
    "# Zeige den Verlauf des Trainings an\n",
    "plt.plot(history.history['accuracy'])\n",
    "plt.plot(history.history['val_accuracy'])\n",
    "plt.title('Modellgenauigkeit')\n",
    "plt.xlabel('Epochen')\n",
    "plt.ylabel('Genauigkeit')\n",
    "plt.legend(['Training', 'Validierung'], loc='upper left')\n",
    "plt.show()\n",
    "\n",
    "# Speichere die Gewichte des trainierten Modells\n",
    "model.save_weights('trained_model_weights.h5')\n",
    "\n",
    "# Speichere das gesamte trainierte Modell\n",
    "model.save('trained_model.h"
   ]
  },
  {
   "cell_type": "code",
   "execution_count": 40,
   "metadata": {},
   "outputs": [],
   "source": [
    "import numpy as np\n",
    "from PIL import Image\n",
    "from keras.models import load_model\n",
    "\n",
    "# Laden des .h5-Modells\n",
    "model_path = 'models/ResNet101_model.h5'\n",
    "model = load_model(model_path)\n",
    "\n",
    "# Laden und Vorbereiten der Testbilder\n",
    "test_path_dominik = 'data/test/Dominik'\n",
    "test_path_unknown = 'data/test/unknown'\n",
    "\n",
    "def getImages(test_image_folder):\n",
    "    test_images = []\n",
    "    for image_path in os.listdir(test_image_folder):\n",
    "        image = Image.open(os.path.join(test_image_folder, image_path))\n",
    "        image = image.resize((224, 224))  # Passe die Bildgröße an deine Anforderungen an\n",
    "        image = np.array(image) / 255.0  # Normalisiere die Bildpixel auf den Bereich 0-1\n",
    "        test_images.append(image)\n",
    "\n",
    "    # Konvertiere die Liste der Bilder in ein Numpy-Array\n",
    "    test_images = np.array(test_images)\n",
    "    return test_images\n",
    "\n",
    "test_images_dominik = getImages(test_path_dominik)\n",
    "test_images_unknown = getImages(test_path_unknown)\n",
    "# Anwenden des Modells auf den Testdatensatz\n",
    "predictions_dominik = model.predict(test_images_dominik)\n",
    "predictions_unknown = model.predict(test_images_unknown)\n",
    "\n",
    "# Hier kannst du weitere Schritte zur Bewertung der Vorhersagen durchführen, basierend auf deinem Anwendungsfall\n",
    "\n",
    "\n"
   ]
  },
  {
   "cell_type": "code",
   "execution_count": 41,
   "metadata": {},
   "outputs": [
    {
     "name": "stdout",
     "output_type": "stream",
     "text": [
      "predictions_dominik: \n",
      "[[0.4790415  0.52095854]\n",
      " [0.4715098  0.5284902 ]\n",
      " [0.42444107 0.57555896]\n",
      " [0.45389736 0.5461027 ]\n",
      " [0.46739373 0.53260624]\n",
      " [0.45117366 0.5488264 ]\n",
      " [0.4574366  0.5425634 ]\n",
      " [0.47264308 0.5273569 ]\n",
      " [0.47453052 0.52546954]\n",
      " [0.42516887 0.5748311 ]\n",
      " [0.44070342 0.55929655]\n",
      " [0.48209187 0.5179081 ]\n",
      " [0.48814344 0.51185656]\n",
      " [0.4198677  0.58013237]\n",
      " [0.4637965  0.5362035 ]\n",
      " [0.48480794 0.5151921 ]\n",
      " [0.4457177  0.5542823 ]\n",
      " [0.46402648 0.53597355]\n",
      " [0.46202287 0.53797716]\n",
      " [0.4121644  0.5878356 ]\n",
      " [0.49438676 0.50561327]\n",
      " [0.451354   0.54864603]\n",
      " [0.44126853 0.5587315 ]\n",
      " [0.45226285 0.5477372 ]\n",
      " [0.50991505 0.49008498]\n",
      " [0.478811   0.52118903]\n",
      " [0.41235706 0.58764297]\n",
      " [0.50537574 0.49462426]\n",
      " [0.48815805 0.51184195]\n",
      " [0.4655365  0.5344635 ]\n",
      " [0.41893637 0.5810636 ]\n",
      " [0.43243277 0.5675673 ]\n",
      " [0.47274703 0.527253  ]\n",
      " [0.45698923 0.5430107 ]\n",
      " [0.4844186  0.5155814 ]\n",
      " [0.4308503  0.56914973]\n",
      " [0.49087313 0.50912684]\n",
      " [0.46890688 0.5310931 ]\n",
      " [0.49632168 0.5036783 ]\n",
      " [0.46884888 0.53115106]\n",
      " [0.45288655 0.5471134 ]\n",
      " [0.4403367  0.55966324]\n",
      " [0.45482683 0.54517317]\n",
      " [0.46054873 0.5394513 ]\n",
      " [0.47444683 0.52555317]]\n",
      "#########################################\n",
      "predictions_unknown: \n",
      "[[0.45345473 0.5465453 ]\n",
      " [0.27684107 0.72315896]\n",
      " [0.5034941  0.49650595]\n",
      " [0.47246248 0.5275375 ]\n",
      " [0.44723096 0.55276906]\n",
      " [0.47122574 0.52877426]\n",
      " [0.46737194 0.5326281 ]\n",
      " [0.43448415 0.5655158 ]\n",
      " [0.49300474 0.5069952 ]\n",
      " [0.47313988 0.5268601 ]\n",
      " [0.39035186 0.60964817]\n",
      " [0.45364815 0.5463518 ]\n",
      " [0.44604906 0.5539509 ]\n",
      " [0.43525505 0.5647449 ]\n",
      " [0.4897265  0.5102735 ]\n",
      " [0.4143932  0.5856068 ]\n",
      " [0.46260247 0.53739756]\n",
      " [0.45377517 0.5462249 ]\n",
      " [0.4165959  0.58340406]\n",
      " [0.5199325  0.48006752]\n",
      " [0.4812944  0.51870555]\n",
      " [0.40532023 0.5946798 ]\n",
      " [0.35327634 0.6467236 ]\n",
      " [0.40820494 0.591795  ]\n",
      " [0.48710713 0.51289284]\n",
      " [0.4070318  0.59296817]\n",
      " [0.45950747 0.54049253]]\n"
     ]
    }
   ],
   "source": [
    "print('predictions_dominik: ')\n",
    "print(predictions_dominik)\n",
    "print('#########################################')\n",
    "print('predictions_unknown: ')\n",
    "print(predictions_unknown)"
   ]
  }
 ],
 "metadata": {
  "kernelspec": {
   "display_name": "tensorflow",
   "language": "python",
   "name": "python3"
  },
  "language_info": {
   "codemirror_mode": {
    "name": "ipython",
    "version": 3
   },
   "file_extension": ".py",
   "mimetype": "text/x-python",
   "name": "python",
   "nbconvert_exporter": "python",
   "pygments_lexer": "ipython3",
   "version": "3.9.12"
  },
  "orig_nbformat": 4
 },
 "nbformat": 4,
 "nbformat_minor": 2
}
