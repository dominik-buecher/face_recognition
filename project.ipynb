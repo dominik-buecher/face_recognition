{
 "cells": [
  {
   "attachments": {},
   "cell_type": "markdown",
   "metadata": {},
   "source": [
    "# Deep Learning project: Face Recognition\n",
    "\n",
    "The following notebook is about training a face recognition model with deep learning methods. For this purpose, an own dataset with face images is to be created. With these images different models should be trained and finally compared. The project is part of the [Deep Learning](https://ilias.hs-heilbronn.de/ilias.php?ref_id=20660&cmdClass=ilrepositorygui&cmdNode=xo&baseClass=ilrepositorygui) course at the University of Heilbronn and serves educational purposes.\n",
    "\n",
    "---\n",
    "\n",
    "**Author:**\n",
    "\n",
    "Dominik Bücher, Hochschuhle Heilbronn, Automotive System Engineering Master\n",
    "\n",
    "dbuecher@stud.hs-heilbronn.de\n",
    "\n",
    "\n",
    "**Professor**\n",
    "\n",
    "Prof. Dr.-Ing. Nicolaj Stache \n",
    "\n",
    "nicolaj.stache@hs-heilbronn.de \n",
    "\n",
    "---\n",
    "\n"
   ]
  },
  {
   "cell_type": "code",
   "execution_count": 1,
   "metadata": {},
   "outputs": [
    {
     "name": "stdout",
     "output_type": "stream",
     "text": [
      "Requirement already satisfied: fast_ml in c:\\users\\dominik\\anaconda3\\envs\\tensorflow\\lib\\site-packages (3.68)\n",
      "Note: you may need to restart the kernel to use updated packages.\n",
      "Requirement already satisfied: efficientnet in c:\\users\\dominik\\anaconda3\\envs\\tensorflow\\lib\\site-packages (1.1.1)Note: you may need to restart the kernel to use updated packages.\n",
      "\n",
      "Requirement already satisfied: keras-applications<=1.0.8,>=1.0.7 in c:\\users\\dominik\\anaconda3\\envs\\tensorflow\\lib\\site-packages (from efficientnet) (1.0.8)\n",
      "Requirement already satisfied: scikit-image in c:\\users\\dominik\\anaconda3\\envs\\tensorflow\\lib\\site-packages (from efficientnet) (0.18.3)\n",
      "Requirement already satisfied: h5py in c:\\users\\dominik\\anaconda3\\envs\\tensorflow\\lib\\site-packages (from keras-applications<=1.0.8,>=1.0.7->efficientnet) (2.10.0)\n",
      "Requirement already satisfied: numpy>=1.9.1 in c:\\users\\dominik\\anaconda3\\envs\\tensorflow\\lib\\site-packages (from keras-applications<=1.0.8,>=1.0.7->efficientnet) (1.19.2)\n",
      "Requirement already satisfied: six in c:\\users\\dominik\\anaconda3\\envs\\tensorflow\\lib\\site-packages (from h5py->keras-applications<=1.0.8,>=1.0.7->efficientnet) (1.16.0)\n",
      "Requirement already satisfied: scipy>=1.0.1 in c:\\users\\dominik\\anaconda3\\envs\\tensorflow\\lib\\site-packages (from scikit-image->efficientnet) (1.6.2)\n",
      "Requirement already satisfied: matplotlib!=3.0.0,>=2.0.0 in c:\\users\\dominik\\anaconda3\\envs\\tensorflow\\lib\\site-packages (from scikit-image->efficientnet) (3.5.1)\n",
      "Requirement already satisfied: networkx>=2.0 in c:\\users\\dominik\\anaconda3\\envs\\tensorflow\\lib\\site-packages (from scikit-image->efficientnet) (2.6.3)\n",
      "Requirement already satisfied: pillow!=7.1.0,!=7.1.1,>=4.3.0 in c:\\users\\dominik\\anaconda3\\envs\\tensorflow\\lib\\site-packages (from scikit-image->efficientnet) (8.4.0)\n",
      "Requirement already satisfied: imageio>=2.3.0 in c:\\users\\dominik\\anaconda3\\envs\\tensorflow\\lib\\site-packages (from scikit-image->efficientnet) (2.9.0)\n",
      "Requirement already satisfied: tifffile>=2019.7.26 in c:\\users\\dominik\\anaconda3\\envs\\tensorflow\\lib\\site-packages (from scikit-image->efficientnet) (2021.7.2)\n",
      "Requirement already satisfied: PyWavelets>=1.1.1 in c:\\users\\dominik\\anaconda3\\envs\\tensorflow\\lib\\site-packages (from scikit-image->efficientnet) (1.1.1)\n",
      "Requirement already satisfied: fonttools>=4.22.0 in c:\\users\\dominik\\anaconda3\\envs\\tensorflow\\lib\\site-packages (from matplotlib!=3.0.0,>=2.0.0->scikit-image->efficientnet) (4.25.0)\n",
      "Requirement already satisfied: cycler>=0.10 in c:\\users\\dominik\\anaconda3\\envs\\tensorflow\\lib\\site-packages (from matplotlib!=3.0.0,>=2.0.0->scikit-image->efficientnet) (0.11.0)\n",
      "Requirement already satisfied: kiwisolver>=1.0.1 in c:\\users\\dominik\\anaconda3\\envs\\tensorflow\\lib\\site-packages (from matplotlib!=3.0.0,>=2.0.0->scikit-image->efficientnet) (1.3.2)\n",
      "Requirement already satisfied: pyparsing>=2.2.1 in c:\\users\\dominik\\anaconda3\\envs\\tensorflow\\lib\\site-packages (from matplotlib!=3.0.0,>=2.0.0->scikit-image->efficientnet) (3.0.4)\n",
      "Requirement already satisfied: python-dateutil>=2.7 in c:\\users\\dominik\\anaconda3\\envs\\tensorflow\\lib\\site-packages (from matplotlib!=3.0.0,>=2.0.0->scikit-image->efficientnet) (2.8.2)\n",
      "Requirement already satisfied: packaging>=20.0 in c:\\users\\dominik\\anaconda3\\envs\\tensorflow\\lib\\site-packages (from matplotlib!=3.0.0,>=2.0.0->scikit-image->efficientnet) (21.3)\n"
     ]
    }
   ],
   "source": [
    "%pip install fast_ml\n",
    "%pip install -U efficientnet"
   ]
  },
  {
   "cell_type": "code",
   "execution_count": 8,
   "metadata": {},
   "outputs": [
    {
     "name": "stdout",
     "output_type": "stream",
     "text": [
      "Collecting protobuf==3.19.0\n",
      "  Downloading protobuf-3.19.0-cp38-cp38-win_amd64.whl (895 kB)\n",
      "Installing collected packages: protobuf\n",
      "  Attempting uninstall: protobuf\n",
      "    Found existing installation: protobuf 3.20.0\n",
      "    Uninstalling protobuf-3.20.0:\n",
      "      Successfully uninstalled protobuf-3.20.0\n",
      "Successfully installed protobuf-3.19.0\n",
      "Note: you may need to restart the kernel to use updated packages.\n"
     ]
    },
    {
     "name": "stderr",
     "output_type": "stream",
     "text": [
      "WARNING: Ignoring invalid distribution -rotobuf (c:\\users\\dominik\\anaconda3\\envs\\tensorflow\\lib\\site-packages)\n",
      "WARNING: Ignoring invalid distribution -rotobuf (c:\\users\\dominik\\anaconda3\\envs\\tensorflow\\lib\\site-packages)\n",
      "WARNING: Ignoring invalid distribution -rotobuf (c:\\users\\dominik\\anaconda3\\envs\\tensorflow\\lib\\site-packages)\n",
      "    WARNING: Ignoring invalid distribution -rotobuf (c:\\users\\dominik\\anaconda3\\envs\\tensorflow\\lib\\site-packages)\n",
      "WARNING: Ignoring invalid distribution -rotobuf (c:\\users\\dominik\\anaconda3\\envs\\tensorflow\\lib\\site-packages)\n",
      "ERROR: pip's dependency resolver does not currently take into account all the packages that are installed. This behaviour is the source of the following dependency conflicts.\n",
      "tensorflow 2.3.0 requires gast==0.3.3, but you have gast 0.4.0 which is incompatible.\n",
      "tensorflow 2.3.0 requires numpy<1.19.0,>=1.16.0, but you have numpy 1.19.2 which is incompatible.\n",
      "tensorflow 2.3.0 requires scipy==1.4.1, but you have scipy 1.6.2 which is incompatible.\n",
      "tensorflow 2.3.0 requires tensorflow-estimator<2.4.0,>=2.3.0, but you have tensorflow-estimator 2.6.0 which is incompatible.\n",
      "tensorflow-hub 0.13.0 requires protobuf>=3.19.6, but you have protobuf 3.19.0 which is incompatible.\n",
      "WARNING: Ignoring invalid distribution -rotobuf (c:\\users\\dominik\\anaconda3\\envs\\tensorflow\\lib\\site-packages)\n",
      "WARNING: Ignoring invalid distribution -rotobuf (c:\\users\\dominik\\anaconda3\\envs\\tensorflow\\lib\\site-packages)\n",
      "WARNING: Ignoring invalid distribution -rotobuf (c:\\users\\dominik\\anaconda3\\envs\\tensorflow\\lib\\site-packages)\n"
     ]
    }
   ],
   "source": [
    "%pip install protobuf==3.19.0"
   ]
  },
  {
   "cell_type": "code",
   "execution_count": 1,
   "metadata": {},
   "outputs": [],
   "source": [
    "# import the necessary packages\n",
    "import os\n",
    "import zipfile\n",
    "# import matplotlib as plt\n",
    "import matplotlib.pyplot as plt\n",
    "import cv2\n",
    "import glob\n",
    "import tensorflow as tf\n",
    "\n",
    "# from pyimagesearch.resnet import ResNet\n",
    "from sklearn.preprocessing import LabelEncoder\n",
    "from sklearn.model_selection import train_test_split\n",
    "from sklearn.metrics import classification_report\n",
    "from tensorflow.keras.preprocessing.image import ImageDataGenerator\n",
    "from tensorflow.keras.optimizers import SGD\n",
    "from tensorflow.keras import layers, Model\n",
    "from tensorflow.keras.layers import Dropout, Flatten, Dense\n",
    "#from keras import optimizers\n",
    "from tensorflow.keras import optimizers\n",
    "\n",
    "from numpy import expand_dims\n",
    "from keras.preprocessing.image import load_img\n",
    "from keras.preprocessing.image import img_to_array, array_to_img\n",
    "from matplotlib import pyplot\n",
    "import efficientnet.keras as efn\n",
    "\n",
    "from tensorflow.keras.applications.vgg16 import VGG16\n",
    "from tensorflow.keras.applications import ResNet50, ResNet101, InceptionV3\n",
    "\n",
    "import numpy as np\n",
    "from keras.preprocessing import image\n",
    "import pandas as pd\n",
    "from PIL import Image\n",
    "from PIL import Image, ImageOps"
   ]
  },
  {
   "cell_type": "code",
   "execution_count": 24,
   "metadata": {},
   "outputs": [
    {
     "name": "stdout",
     "output_type": "stream",
     "text": [
      "unzipping data/dataset.zip\n",
      "Dominik : 250 image paths\n",
      "Unknown : 300 image paths\n"
     ]
    }
   ],
   "source": [
    "################ Unzip the dataset in the Colab runtime #################\n",
    "zip_file_path = 'data/dataset.zip'\n",
    "pathToZip = os.path.join(zip_file_path)\n",
    "print(\"unzipping {}\".format(pathToZip))\n",
    "\n",
    "pathToData = \"/tmp\"\n",
    "with zipfile.ZipFile(pathToZip, 'r') as zip_ref:\n",
    "    zip_ref.extractall(pathToData)\n",
    "\n",
    "# images\n",
    "data_dominik    = glob.glob(os.path.join(pathToData, \"dataset/Dominik/\" + \"*.jpeg\"))\n",
    "data_unknown    = glob.glob(os.path.join(pathToData, \"dataset/Unknown/\" + \"*.jpg\"))\n",
    "\n",
    "print(\"Dominik : {} image paths\".format(len(data_dominik)))\n",
    "print(\"Unknown : {} image paths\".format(len(data_unknown)))"
   ]
  },
  {
   "cell_type": "code",
   "execution_count": 19,
   "metadata": {},
   "outputs": [
    {
     "name": "stdout",
     "output_type": "stream",
     "text": [
      "251\n",
      "251\n",
      "251\n",
      "251\n",
      "251\n",
      "251\n",
      "251\n",
      "251\n",
      "251\n",
      "251\n",
      "251\n",
      "251\n",
      "251\n",
      "251\n",
      "251\n",
      "251\n",
      "251\n",
      "251\n",
      "251\n",
      "251\n",
      "251\n",
      "251\n",
      "251\n",
      "251\n",
      "251\n",
      "251\n",
      "251\n",
      "251\n",
      "251\n",
      "251\n",
      "251\n",
      "251\n",
      "251\n",
      "251\n",
      "251\n",
      "251\n",
      "251\n",
      "251\n",
      "251\n",
      "251\n",
      "251\n",
      "251\n",
      "251\n",
      "251\n",
      "251\n",
      "251\n",
      "251\n",
      "251\n",
      "251\n",
      "251\n",
      "251\n",
      "251\n",
      "251\n",
      "251\n",
      "251\n",
      "251\n",
      "251\n",
      "251\n",
      "251\n",
      "251\n",
      "251\n",
      "251\n",
      "251\n",
      "251\n",
      "251\n",
      "251\n",
      "251\n",
      "251\n",
      "251\n",
      "251\n",
      "251\n",
      "251\n",
      "251\n",
      "251\n",
      "251\n",
      "251\n",
      "251\n",
      "251\n",
      "251\n",
      "251\n",
      "251\n",
      "251\n",
      "251\n",
      "251\n",
      "251\n",
      "251\n",
      "251\n",
      "251\n",
      "251\n",
      "251\n",
      "251\n",
      "251\n",
      "251\n",
      "251\n",
      "251\n",
      "251\n",
      "251\n",
      "251\n",
      "251\n",
      "251\n",
      "251\n",
      "251\n",
      "251\n",
      "251\n",
      "251\n",
      "251\n",
      "251\n",
      "251\n",
      "251\n",
      "251\n",
      "251\n",
      "251\n",
      "251\n",
      "251\n",
      "251\n",
      "251\n",
      "251\n",
      "251\n",
      "251\n",
      "251\n",
      "251\n",
      "251\n",
      "251\n",
      "251\n",
      "251\n",
      "251\n",
      "251\n",
      "251\n",
      "251\n",
      "251\n",
      "251\n",
      "251\n",
      "251\n",
      "251\n",
      "251\n",
      "251\n",
      "251\n",
      "251\n",
      "251\n",
      "251\n",
      "251\n",
      "251\n",
      "251\n",
      "251\n",
      "251\n",
      "251\n",
      "251\n",
      "251\n",
      "251\n",
      "251\n",
      "251\n",
      "251\n",
      "251\n",
      "251\n",
      "251\n",
      "251\n",
      "251\n",
      "251\n",
      "251\n",
      "251\n",
      "251\n",
      "251\n",
      "251\n",
      "251\n",
      "251\n",
      "251\n",
      "251\n",
      "251\n",
      "251\n",
      "251\n",
      "251\n",
      "251\n",
      "251\n",
      "251\n",
      "251\n",
      "251\n",
      "251\n",
      "251\n",
      "251\n",
      "251\n",
      "251\n",
      "251\n",
      "251\n",
      "251\n",
      "251\n",
      "251\n",
      "251\n",
      "251\n",
      "251\n",
      "251\n",
      "251\n",
      "251\n",
      "251\n",
      "251\n",
      "251\n",
      "251\n",
      "251\n",
      "251\n",
      "251\n",
      "251\n",
      "251\n",
      "251\n",
      "251\n",
      "251\n",
      "251\n",
      "251\n",
      "251\n",
      "251\n",
      "251\n",
      "251\n",
      "251\n",
      "251\n",
      "251\n",
      "251\n",
      "251\n",
      "251\n",
      "251\n",
      "251\n",
      "251\n",
      "251\n",
      "251\n",
      "251\n",
      "251\n",
      "251\n",
      "251\n",
      "251\n",
      "251\n",
      "251\n",
      "251\n",
      "251\n",
      "251\n",
      "251\n",
      "251\n",
      "251\n",
      "251\n",
      "251\n",
      "251\n",
      "251\n",
      "251\n",
      "251\n",
      "251\n",
      "251\n",
      "251\n",
      "251\n",
      "251\n",
      "251\n",
      "251\n",
      "251\n",
      "251\n",
      "251\n",
      "251\n"
     ]
    }
   ],
   "source": [
    "for i in range(len(data_unknown)):\n",
    "    print(data_unknown[i])"
   ]
  },
  {
   "cell_type": "code",
   "execution_count": 20,
   "metadata": {},
   "outputs": [
    {
     "data": {
      "image/png": "[encoded data removed]",
      "text/plain": [
       "<Figure size 648x216 with 1 Axes>"
      ]
     },
     "metadata": {
      "needs_background": "light"
     },
     "output_type": "display_data"
    }
   ],
   "source": [
    "names = ['Dominik', 'unknown']\n",
    "values = [len(data_dominik), len(data_unknown)]\n",
    "\n",
    "plt.figure(figsize=(9, 3))\n",
    "plt.bar(names, values, color='blue',edgecolor='black')\n",
    "plt.ylabel('Number Images')\n",
    "plt.title('Data comparison of the two classes')\n",
    "plt.show()"
   ]
  },
  {
   "cell_type": "code",
   "execution_count": 6,
   "metadata": {},
   "outputs": [
    {
     "name": "stdout",
     "output_type": "stream",
     "text": [
      "list:  250\n",
      "<PIL.Image.Image image mode=RGB size=224x224 at 0x284561B3190>\n",
      "list:  300\n",
      "<PIL.Image.Image image mode=RGB size=224x224 at 0x284698AD7F0>\n"
     ]
    }
   ],
   "source": [
    "images_dominik = []\n",
    "for filename in glob.glob(\"/tmp/dataset/Dominik/\" + \"*.jpeg\"): #assuming gif\n",
    "    im=Image.open(filename)\n",
    "    im = ImageOps.exif_transpose(im)\n",
    "    images_dominik.append(im.resize([224,224]))\n",
    "\n",
    "print(\"list: \", len(images_dominik))\n",
    "print(images_dominik[0])\n",
    "\n",
    "\n",
    "images_unknown = []\n",
    "for filename in glob.glob(\"/tmp/dataset/Unknown/\" + \"*.jpg\"): #assuming gif\n",
    "    im=Image.open(filename)\n",
    "    im = ImageOps.exif_transpose(im)\n",
    "    images_unknown.append(im.resize([224,224]))\n",
    "\n",
    "print(\"list: \", len(images_unknown))\n",
    "print(images_unknown[0])\n"
   ]
  },
  {
   "cell_type": "code",
   "execution_count": 5,
   "metadata": {},
   "outputs": [],
   "source": [
    "# Let's say we want to split the data in 80:10:10 for train:valid:test dataset\n",
    "y_unknown = []\n",
    "for i in range(len(images_unknown)):\n",
    "    y_unknown.append('unknown')\n",
    "\n",
    "y_dominik = []\n",
    "for i in range(len(images_dominik)):\n",
    "    y_dominik.append('Dominik')\n",
    "\n",
    "# In the first step we will split the data in training and remaining dataset\n",
    "X_train_unknown, X_rem_unknown, y_train_unknown, y_rem_unknown = train_test_split(images_unknown,y_unknown, train_size=0.7)\n",
    "X_train_dominik, X_rem_dominik, y_train_dominik, y_rem_dominik = train_test_split(images_dominik,y_dominik, train_size=0.7)\n",
    "\n",
    "# Now since we want the valid and test size to be equal (10% each of overall data). \n",
    "# we have to define valid_size=0.5 (that is 50% of remaining data)\n",
    "X_valid_unknown, X_test_unknown, y_valid_unknown, y_test_unknown = train_test_split(X_rem_unknown,y_rem_unknown, test_size=0.3)\n",
    "X_valid_dominik, X_test_dominik, y_valid__dominik, y_test__dominik = train_test_split(X_rem_dominik,y_rem_dominik, test_size=0.3)"
   ]
  },
  {
   "cell_type": "code",
   "execution_count": 6,
   "metadata": {},
   "outputs": [
    {
     "data": {
      "image/png": "[encoded data removed]",
      "text/plain": [
       "<Figure size 432x288 with 1 Axes>"
      ]
     },
     "metadata": {
      "needs_background": "light"
     },
     "output_type": "display_data"
    }
   ],
   "source": [
    "split=['train', 'validation', 'test']\n",
    "data_origin=['Dominik','unknown']\n",
    "pos = np.arange(len(split))\n",
    "vales_dominik = [len(X_train_dominik), len(X_valid_dominik), len(X_test_dominik)]\n",
    "values_unknown = [len(X_train_unknown), len(X_valid_unknown), len(X_test_unknown)]\n",
    "\n",
    "plt.bar(pos,vales_dominik,color='blue',edgecolor='black')\n",
    "plt.bar(pos,values_unknown,color='orange',edgecolor='black',bottom=vales_dominik)\n",
    "plt.xticks(pos, split)\n",
    "plt.ylabel('Number of Images', fontsize=16)\n",
    "plt.title('Splitted dataset',fontsize=18)\n",
    "plt.legend(data_origin)\n",
    "plt.show()"
   ]
  },
  {
   "cell_type": "code",
   "execution_count": 7,
   "metadata": {},
   "outputs": [],
   "source": [
    "for i in range(len(X_train_unknown)):\n",
    "    X_train_unknown[i].save(r'data\\train\\unknown\\image_' +str(i) +'.jpg', 'JPEG')\n",
    "for i in range(len(X_valid_unknown)):\n",
    "    X_valid_unknown[i].save(r'data\\validation\\unknown\\image_' +str(i) +'.jpg', 'JPEG')\n",
    "for i in range(len(X_test_unknown)):\n",
    "    X_test_unknown[i].save(r'data\\test\\unknown\\image_' +str(i) +'.jpg', 'JPEG')"
   ]
  },
  {
   "cell_type": "code",
   "execution_count": 8,
   "metadata": {},
   "outputs": [],
   "source": [
    "for i in range(len(X_train_dominik)):\n",
    "    X_train_dominik[i].save(r'data\\train\\Dominik\\image_' +str(i) +'.jpg', 'JPEG')\n",
    "for i in range(len(X_valid_dominik)):\n",
    "    X_valid_dominik[i].save(r'data\\validation\\Dominik\\image_' +str(i) +'.jpg', 'JPEG')\n",
    "for i in range(len(X_test_dominik)):\n",
    "    X_test_dominik[i].save(r'data\\test\\Dominik\\image_' +str(i) +'.jpg', 'JPEG')"
   ]
  },
  {
   "cell_type": "code",
   "execution_count": 9,
   "metadata": {},
   "outputs": [],
   "source": [
    "train_unknown_array = []\n",
    "for i in range(len(X_train_unknown)):\n",
    "    train_unknown_array.append(np.expand_dims(img_to_array(X_train_unknown[i]),axis=0))\n",
    "\n",
    "valid_unknown_array = []\n",
    "for i in range(len(X_valid_unknown)):\n",
    "    valid_unknown_array.append(np.expand_dims(img_to_array(X_valid_unknown[i]), axis=0))\n",
    "\n",
    "train_dominik_array = []\n",
    "for i in range(len(X_train_dominik)):\n",
    "    train_dominik_array.append(np.expand_dims(img_to_array(X_train_dominik[i]), axis=0))\n",
    "\n",
    "valid_dominik_array = []\n",
    "for i in range(len(X_valid_dominik)):\n",
    "    valid_dominik_array.append(np.expand_dims(img_to_array(X_valid_dominik[i]), axis=0))"
   ]
  },
  {
   "cell_type": "code",
   "execution_count": 10,
   "metadata": {},
   "outputs": [],
   "source": [
    "train_unknown_datagen = ImageDataGenerator(width_shift_range = 0.1, height_shift_range = 0.1, horizontal_flip = True ,rotation_range=30, brightness_range=[0.4,1.2], zoom_range=[0.6,1.0], fill_mode='reflect')\n",
    "validation_unknown_datagen = ImageDataGenerator(width_shift_range = 0.1, height_shift_range = 0.1, horizontal_flip = True ,rotation_range=30, brightness_range=[0.4,1.2], zoom_range=[0.6,1.0], fill_mode='reflect')\n",
    "train_dominik_datagen = ImageDataGenerator(width_shift_range = 0.1, height_shift_range = 0.1, horizontal_flip = True ,rotation_range=30, brightness_range=[0.4,1.2], zoom_range=[0.6,1.0], fill_mode='reflect')\n",
    "validation_dominik_datagen = ImageDataGenerator(width_shift_range = 0.1, height_shift_range = 0.1, horizontal_flip = True ,rotation_range=30, brightness_range=[0.4,1.2], zoom_range=[0.6,1.0], fill_mode='reflect')\n",
    "\n",
    "\n",
    "for i in range(len(train_unknown_array)):\n",
    "    train_generator_unknown = train_unknown_datagen.flow(train_unknown_array[i], batch_size = 1)\n",
    "    # generate batch of images\n",
    "    batch = train_generator_unknown.next()\n",
    "    im = array_to_img(batch[0], scale=False)\n",
    "    im.save(r'data\\train\\unknown\\augmented_image_'+ str(i)+ '.jpg')\n",
    "\n",
    "for i in range(len(valid_unknown_array)):\n",
    "    valid_generator_unknown = validation_unknown_datagen.flow(valid_unknown_array[i], batch_size = 1)\n",
    "    # generate batch of images\n",
    "    batch = valid_generator_unknown.next()\n",
    "    im = array_to_img(batch[0], scale=False)\n",
    "    im.save(r'data\\validation\\unknown\\augmented_image_'+ str(i)+ '.jpg')\n",
    "\n",
    "for i in range(len(train_dominik_array)):\n",
    "    train_generator_dominik = train_dominik_datagen.flow(train_dominik_array[i], batch_size = 1)\n",
    "    # generate batch of images\n",
    "    batch = train_generator_dominik.next()\n",
    "    im = array_to_img(batch[0], scale=False)\n",
    "    im.save(r'data\\train\\Dominik\\augmented_image_'+ str(i)+ '.jpg')\n",
    "\n",
    "for i in range(len(valid_dominik_array)):\n",
    "    valid_generator_dominik = validation_dominik_datagen.flow(valid_dominik_array[i], batch_size = 1)\n",
    "    # generate batch of images\n",
    "    batch = valid_generator_dominik.next()\n",
    "    im = array_to_img(batch[0], scale=False)\n",
    "    im.save(r'data\\validation\\Dominik\\augmented_image_'+ str(i)+ '.jpg')"
   ]
  },
  {
   "cell_type": "code",
   "execution_count": 11,
   "metadata": {},
   "outputs": [
    {
     "data": {
      "image/png": "[encoded data removed]",
      "text/plain": [
       "<Figure size 432x288 with 1 Axes>"
      ]
     },
     "metadata": {
      "needs_background": "light"
     },
     "output_type": "display_data"
    }
   ],
   "source": [
    "split=['train', 'validation']\n",
    "data_origin=['Dominik','unknown']\n",
    "pos = np.arange(len(split))\n",
    "vales_train = [len(train_dominik_array), len(valid_dominik_array)]\n",
    "values_valid = [len(train_unknown_array), len(valid_unknown_array)]\n",
    "\n",
    "plt.bar(pos,vales_train,color='blue',edgecolor='black')\n",
    "plt.bar(pos,values_valid,color='orange',edgecolor='black',bottom=vales_train)\n",
    "plt.xticks(pos, split)\n",
    "plt.ylabel('Number of Images', fontsize=16)\n",
    "plt.title('Number of augmented images',fontsize=18)\n",
    "plt.legend(data_origin)\n",
    "plt.show()"
   ]
  },
  {
   "cell_type": "code",
   "execution_count": 12,
   "metadata": {},
   "outputs": [
    {
     "data": {
      "image/png": "[encoded data removed]",
      "text/plain": [
       "<Figure size 432x288 with 1 Axes>"
      ]
     },
     "metadata": {
      "needs_background": "light"
     },
     "output_type": "display_data"
    }
   ],
   "source": [
    "split=['train', 'validation', 'test']\n",
    "data_origin=['Original data','Augmented data']\n",
    "pos = np.arange(len(split))\n",
    "vales_og = [len(train_dominik_array+train_unknown_array), len(valid_dominik_array+valid_unknown_array), len(X_test_unknown+X_test_dominik)]\n",
    "values_augmented = [len(train_dominik_array+train_unknown_array), len(valid_dominik_array+valid_unknown_array), 0]\n",
    "\n",
    "plt.bar(pos,vales_og,color='blue',edgecolor='black')\n",
    "plt.bar(pos,values_augmented,color='orange',edgecolor='black',bottom=vales_og)\n",
    "plt.xticks(pos, split)\n",
    "plt.ylabel('Number of Images', fontsize=16)\n",
    "plt.title('Dataset with augmented data',fontsize=18)\n",
    "plt.legend(data_origin)\n",
    "plt.show()"
   ]
  },
  {
   "cell_type": "code",
   "execution_count": 13,
   "metadata": {},
   "outputs": [],
   "source": [
    "# Bild-Daten-Generator für Data Augmentation\n",
    "train_datagen = ImageDataGenerator(\n",
    "    rotation_range=20,\n",
    "    width_shift_range=0.2,\n",
    "    height_shift_range=0.2,\n",
    "    shear_range=0.2,\n",
    "    zoom_range=0.2,\n",
    "    horizontal_flip=True\n",
    ")\n",
    "\n",
    "validation_datagen = ImageDataGenerator()"
   ]
  },
  {
   "cell_type": "code",
   "execution_count": 14,
   "metadata": {},
   "outputs": [
    {
     "name": "stdout",
     "output_type": "stream",
     "text": [
      "Found 560 images belonging to 2 classes.\n",
      "Found 195 images belonging to 2 classes.\n"
     ]
    }
   ],
   "source": [
    "# Daten-Generatoren für Trainings- und Validierungsdaten erstellen\n",
    "batch_size = 16\n",
    "train_dir = \"data/train/\"\n",
    "val_dir = \"data/validation/\"\n",
    "train_generator = train_datagen.flow_from_directory(\n",
    "    train_dir,\n",
    "    target_size=(224, 224),\n",
    "    batch_size=batch_size,\n",
    "    class_mode='categorical'\n",
    ")\n",
    "\n",
    "validation_generator = validation_datagen.flow_from_directory(\n",
    "    val_dir,\n",
    "    target_size=(224, 224),\n",
    "    batch_size=batch_size,\n",
    "    class_mode='categorical'\n",
    ")"
   ]
  },
  {
   "attachments": {},
   "cell_type": "markdown",
   "metadata": {},
   "source": [
    "**Models**"
   ]
  },
  {
   "cell_type": "code",
   "execution_count": 15,
   "metadata": {},
   "outputs": [],
   "source": [
    "ResNet50_base_model = ResNet50(weights='imagenet', include_top=False, input_shape=(224, 224, 3))\n",
    "# Again, let us freeze the layers:\n",
    "for layer in ResNet50_base_model.layers:\n",
    "    layer.trainable = False\n",
    "    \n",
    "# Füge einen Klassifikationskopf hinzu\n",
    "ResNet50_model = tf.keras.Sequential([\n",
    "    ResNet50_base_model,\n",
    "    tf.keras.layers.GlobalAveragePooling2D(),\n",
    "    tf.keras.layers.Dense(2, activation='softmax')\n",
    "])"
   ]
  },
  {
   "cell_type": "code",
   "execution_count": 16,
   "metadata": {},
   "outputs": [],
   "source": [
    "# Erstelle das ResNet101-Modell\n",
    "ResNet101_base_model = ResNet101(include_top=False, input_shape=(224, 224, 3))\n",
    "# Again, let us freeze the layers:\n",
    "for layer in ResNet101_base_model.layers:\n",
    "    layer.trainable = False\n",
    "    \n",
    "# Füge einen Klassifikationskopf hinzu\n",
    "ResNet101_model = tf.keras.Sequential([\n",
    "    ResNet101_base_model,\n",
    "    tf.keras.layers.GlobalAveragePooling2D(),\n",
    "    tf.keras.layers.Dense(2, activation='softmax')\n",
    "])"
   ]
  },
  {
   "cell_type": "code",
   "execution_count": 17,
   "metadata": {},
   "outputs": [],
   "source": [
    "# Erstelle das EfficientNetB0-Modell\n",
    "EfficientNetB0_base_model = efn.EfficientNetB0(include_top=False, input_shape=(224, 224, 3), weights = 'imagenet')\n",
    "# Again, let us freeze the layers:\n",
    "for layer in EfficientNetB0_base_model.layers:\n",
    "    layer.trainable = False\n",
    "\n",
    "# Füge einen Klassifikationskopf hinzu\n",
    "EfficientNetB0_model = tf.keras.Sequential([\n",
    "    EfficientNetB0_base_model,\n",
    "    tf.keras.layers.GlobalAveragePooling2D(),\n",
    "    tf.keras.layers.Dense(2, activation='softmax')\n",
    "])"
   ]
  },
  {
   "cell_type": "code",
   "execution_count": 18,
   "metadata": {},
   "outputs": [],
   "source": [
    "# Erstelle das VGG16-Modell\n",
    "VGG16_base_model = VGG16(include_top=False, input_shape=(224, 224, 3))\n",
    "# Again, let us freeze the layers:\n",
    "for layer in VGG16_base_model.layers:\n",
    "    layer.trainable = False\n",
    "    \n",
    "# Füge einen Klassifikationskopf hinzu\n",
    "VGG16_model = tf.keras.Sequential([\n",
    "    VGG16_base_model,\n",
    "    tf.keras.layers.GlobalAveragePooling2D(),\n",
    "    tf.keras.layers.Dense(2, activation='softmax')\n",
    "])"
   ]
  },
  {
   "cell_type": "code",
   "execution_count": 19,
   "metadata": {},
   "outputs": [],
   "source": [
    "# Erstelle das InceptionNetV3-Modell\n",
    "InceptionV3_base_model = InceptionV3(include_top=False, input_shape=(224, 224, 3))\n",
    "# Again, let us freeze the layers:\n",
    "for layer in InceptionV3_base_model.layers:\n",
    "    layer.trainable = True\n",
    "\n",
    "# Füge einen Klassifikationskopf hinzu\n",
    "InceptionV3_model = tf.keras.Sequential([\n",
    "    InceptionV3_base_model,\n",
    "    tf.keras.layers.GlobalAveragePooling2D(),\n",
    "    tf.keras.layers.Dense(2, activation='softmax')\n",
    "])\n"
   ]
  },
  {
   "cell_type": "code",
   "execution_count": 20,
   "metadata": {},
   "outputs": [],
   "source": [
    "# Modell kompilieren\n",
    "VGG16_model.compile(optimizer='adam', loss='categorical_crossentropy', metrics=['accuracy'])\n",
    "ResNet50_model.compile(optimizer='adam', loss='categorical_crossentropy', metrics=['accuracy'])\n",
    "ResNet101_model.compile(optimizer='adam', loss='categorical_crossentropy', metrics=['accuracy'])\n",
    "EfficientNetB0_model.compile(optimizer='adam', loss='categorical_crossentropy', metrics=['accuracy'])\n",
    "InceptionV3_model.compile(optimizer='adam', loss='categorical_crossentropy', metrics=['accuracy'])\n"
   ]
  },
  {
   "cell_type": "code",
   "execution_count": 21,
   "metadata": {},
   "outputs": [
    {
     "name": "stdout",
     "output_type": "stream",
     "text": [
      "VGG16:\n",
      "Epoch 1/10\n",
      "10/10 [==============================] - 21s 1s/step - loss: 1.9536 - accuracy: 0.5875 - val_loss: 1.5281 - val_accuracy: 0.6250\n",
      "Epoch 2/10\n",
      "10/10 [==============================] - 13s 1s/step - loss: 1.2256 - accuracy: 0.6500 - val_loss: 1.0353 - val_accuracy: 0.7312\n",
      "Epoch 3/10\n",
      "10/10 [==============================] - 7s 622ms/step - loss: 1.0321 - accuracy: 0.7000 - val_loss: 1.0904 - val_accuracy: 0.7625\n",
      "Epoch 4/10\n",
      "10/10 [==============================] - 5s 490ms/step - loss: 0.5106 - accuracy: 0.8375 - val_loss: 0.5316 - val_accuracy: 0.8562\n",
      "Epoch 5/10\n",
      "10/10 [==============================] - 5s 488ms/step - loss: 0.4238 - accuracy: 0.8500 - val_loss: 0.3970 - val_accuracy: 0.8687\n",
      "Epoch 6/10\n",
      "10/10 [==============================] - 12s 1s/step - loss: 0.2700 - accuracy: 0.8875 - val_loss: 0.6355 - val_accuracy: 0.8438\n",
      "Epoch 7/10\n",
      "10/10 [==============================] - 9s 916ms/step - loss: 0.4003 - accuracy: 0.8313 - val_loss: 0.2409 - val_accuracy: 0.9250\n",
      "Epoch 8/10\n",
      "10/10 [==============================] - 5s 488ms/step - loss: 0.2306 - accuracy: 0.8813 - val_loss: 0.2619 - val_accuracy: 0.9062\n",
      "Epoch 9/10\n",
      "10/10 [==============================] - 5s 463ms/step - loss: 0.1794 - accuracy: 0.9125 - val_loss: 0.3918 - val_accuracy: 0.9062\n",
      "Epoch 10/10\n",
      "10/10 [==============================] - 5s 514ms/step - loss: 0.3193 - accuracy: 0.8938 - val_loss: 0.2579 - val_accuracy: 0.9312\n",
      "ResNet50:\n",
      "Epoch 1/10\n",
      "15/15 [==============================] - 23s 1s/step - loss: 0.4531 - accuracy: 0.7875 - val_loss: 0.4336 - val_accuracy: 0.7812\n",
      "Epoch 2/10\n",
      "15/15 [==============================] - 12s 743ms/step - loss: 0.2359 - accuracy: 0.9125 - val_loss: 0.2285 - val_accuracy: 0.9125\n",
      "Epoch 3/10\n",
      "15/15 [==============================] - 7s 494ms/step - loss: 0.1360 - accuracy: 0.9458 - val_loss: 0.1265 - val_accuracy: 0.9438\n",
      "Epoch 4/10\n",
      "15/15 [==============================] - 17s 1s/step - loss: 0.1242 - accuracy: 0.9625 - val_loss: 0.1022 - val_accuracy: 0.9563\n",
      "Epoch 5/10\n",
      "15/15 [==============================] - 6s 414ms/step - loss: 0.0717 - accuracy: 0.9792 - val_loss: 0.0533 - val_accuracy: 0.9937\n",
      "Epoch 6/10\n",
      "15/15 [==============================] - 6s 410ms/step - loss: 0.0671 - accuracy: 0.9792 - val_loss: 0.0798 - val_accuracy: 0.9688\n",
      "Epoch 7/10\n",
      "15/15 [==============================] - 6s 412ms/step - loss: 0.0634 - accuracy: 0.9833 - val_loss: 0.0567 - val_accuracy: 0.9750\n",
      "Epoch 8/10\n",
      "15/15 [==============================] - 13s 854ms/step - loss: 0.0661 - accuracy: 0.9833 - val_loss: 0.0476 - val_accuracy: 0.9875\n",
      "Epoch 9/10\n",
      "15/15 [==============================] - 16s 1s/step - loss: 0.0551 - accuracy: 0.9833 - val_loss: 0.0296 - val_accuracy: 0.9937\n",
      "Epoch 10/10\n",
      "15/15 [==============================] - 6s 400ms/step - loss: 0.0747 - accuracy: 0.9708 - val_loss: 0.0384 - val_accuracy: 0.9875\n",
      "ResNet101:\n",
      "Epoch 1/10\n",
      "10/10 [==============================] - 28s 2s/step - loss: 0.5143 - accuracy: 0.7625 - val_loss: 0.2209 - val_accuracy: 0.9500\n",
      "Epoch 2/10\n",
      "10/10 [==============================] - 6s 566ms/step - loss: 0.2824 - accuracy: 0.8750 - val_loss: 0.1493 - val_accuracy: 0.9438\n",
      "Epoch 3/10\n",
      "10/10 [==============================] - 9s 880ms/step - loss: 0.1773 - accuracy: 0.9312 - val_loss: 0.1387 - val_accuracy: 0.9312\n",
      "Epoch 4/10\n",
      "10/10 [==============================] - 14s 1s/step - loss: 0.1265 - accuracy: 0.9563 - val_loss: 0.1017 - val_accuracy: 0.9625\n",
      "Epoch 5/10\n",
      "10/10 [==============================] - 7s 706ms/step - loss: 0.0766 - accuracy: 0.9812 - val_loss: 0.1221 - val_accuracy: 0.9375\n",
      "Epoch 6/10\n",
      "10/10 [==============================] - 8s 782ms/step - loss: 0.1020 - accuracy: 0.9688 - val_loss: 0.1080 - val_accuracy: 0.9563\n",
      "Epoch 7/10\n",
      "10/10 [==============================] - 8s 843ms/step - loss: 0.1157 - accuracy: 0.9625 - val_loss: 0.0715 - val_accuracy: 0.9812\n",
      "Epoch 8/10\n",
      "10/10 [==============================] - 8s 807ms/step - loss: 0.0963 - accuracy: 0.9688 - val_loss: 0.0704 - val_accuracy: 0.9812\n",
      "Epoch 9/10\n",
      "10/10 [==============================] - 15s 2s/step - loss: 0.0832 - accuracy: 0.9688 - val_loss: 0.0674 - val_accuracy: 0.9812\n",
      "Epoch 10/10\n",
      "10/10 [==============================] - 8s 779ms/step - loss: 0.0812 - accuracy: 0.9750 - val_loss: 0.0828 - val_accuracy: 0.9688\n",
      "EfficientNetB0:\n",
      "Epoch 1/10\n",
      "10/10 [==============================] - 16s 629ms/step - loss: 84.4658 - accuracy: 0.6438 - val_loss: 83.0610 - val_accuracy: 0.5813\n",
      "Epoch 2/10\n",
      "10/10 [==============================] - 5s 467ms/step - loss: 130.3300 - accuracy: 0.5312 - val_loss: 70.0538 - val_accuracy: 0.6125\n",
      "Epoch 3/10\n",
      "10/10 [==============================] - 4s 377ms/step - loss: 59.8564 - accuracy: 0.6750 - val_loss: 83.8083 - val_accuracy: 0.6500\n",
      "Epoch 4/10\n",
      "10/10 [==============================] - 4s 392ms/step - loss: 51.9138 - accuracy: 0.6625 - val_loss: 63.0610 - val_accuracy: 0.6313\n",
      "Epoch 5/10\n",
      "10/10 [==============================] - 4s 417ms/step - loss: 101.3845 - accuracy: 0.6938 - val_loss: 58.2783 - val_accuracy: 0.7188\n",
      "Epoch 6/10\n",
      "10/10 [==============================] - 5s 508ms/step - loss: 71.5460 - accuracy: 0.6438 - val_loss: 39.6833 - val_accuracy: 0.6875\n",
      "Epoch 7/10\n",
      "10/10 [==============================] - 4s 437ms/step - loss: 65.7314 - accuracy: 0.5938 - val_loss: 74.4047 - val_accuracy: 0.7063\n",
      "Epoch 8/10\n",
      "10/10 [==============================] - 4s 398ms/step - loss: 100.6138 - accuracy: 0.5875 - val_loss: 63.2576 - val_accuracy: 0.6375\n",
      "Epoch 9/10\n",
      "10/10 [==============================] - 10s 1s/step - loss: 65.5319 - accuracy: 0.6375 - val_loss: 55.2489 - val_accuracy: 0.7125\n",
      "Epoch 10/10\n",
      "10/10 [==============================] - 12s 1s/step - loss: 78.1785 - accuracy: 0.6187 - val_loss: 61.5300 - val_accuracy: 0.6375\n",
      "InceptionV3:\n",
      "Epoch 1/10\n",
      "10/10 [==============================] - 26s 853ms/step - loss: 0.3920 - accuracy: 0.8250 - val_loss: 19.6137 - val_accuracy: 0.6250\n",
      "Epoch 2/10\n",
      "10/10 [==============================] - 13s 1s/step - loss: 0.4045 - accuracy: 0.8813 - val_loss: 746.8929 - val_accuracy: 0.3625\n",
      "Epoch 3/10\n",
      "10/10 [==============================] - 8s 757ms/step - loss: 0.2404 - accuracy: 0.9000 - val_loss: 480.8516 - val_accuracy: 0.6438\n",
      "Epoch 4/10\n",
      "10/10 [==============================] - 8s 848ms/step - loss: 0.1703 - accuracy: 0.9312 - val_loss: 60.6065 - val_accuracy: 0.3875\n",
      "Epoch 5/10\n",
      "10/10 [==============================] - 13s 1s/step - loss: 0.1654 - accuracy: 0.9438 - val_loss: 0.8763 - val_accuracy: 0.6562\n",
      "Epoch 6/10\n",
      "10/10 [==============================] - 7s 664ms/step - loss: 0.0977 - accuracy: 0.9625 - val_loss: 0.8497 - val_accuracy: 0.6687\n",
      "Epoch 7/10\n",
      "10/10 [==============================] - 7s 659ms/step - loss: 0.1639 - accuracy: 0.9438 - val_loss: 2.9801 - val_accuracy: 0.6313\n",
      "Epoch 8/10\n",
      "10/10 [==============================] - 12s 1s/step - loss: 0.1186 - accuracy: 0.9625 - val_loss: 2.7565 - val_accuracy: 0.6125\n",
      "Epoch 9/10\n",
      "10/10 [==============================] - 12s 1s/step - loss: 0.0863 - accuracy: 0.9563 - val_loss: 0.7465 - val_accuracy: 0.8438\n",
      "Epoch 10/10\n",
      "10/10 [==============================] - 7s 685ms/step - loss: 0.0641 - accuracy: 0.9812 - val_loss: 0.6575 - val_accuracy: 0.8562\n"
     ]
    }
   ],
   "source": [
    "# Modell trainieren\n",
    "total_val = 2*len(valid_dominik_array+valid_unknown_array)\n",
    "epochs = 10\n",
    "\n",
    "print('VGG16:')\n",
    "history_VGG16 = VGG16_model.fit(train_generator, steps_per_epoch=10, epochs=10, validation_data=validation_generator, validation_steps=total_val // batch_size)\n",
    "print('ResNet50:')\n",
    "history_ResNet50 = ResNet50_model.fit(train_generator, epochs=epochs, steps_per_epoch= 15, validation_data=validation_generator, validation_steps=total_val // batch_size)\n",
    "print('ResNet101:')\n",
    "history_ResNet101 = ResNet101_model.fit(train_generator, epochs=epochs, steps_per_epoch= 10, validation_data=validation_generator, validation_steps=total_val // batch_size)\n",
    "print('EfficientNetB0:')\n",
    "history_EfficientNetB0 = EfficientNetB0_model.fit(train_generator, steps_per_epoch=10, epochs=10, validation_data=validation_generator, validation_steps=total_val // batch_size)\n",
    "print('InceptionV3:')\n",
    "history_InceptionV3 = InceptionV3_model.fit(train_generator, steps_per_epoch=10, epochs=10, validation_data=validation_generator, validation_steps=total_val // batch_size)\n"
   ]
  },
  {
   "cell_type": "code",
   "execution_count": 22,
   "metadata": {},
   "outputs": [
    {
     "name": "stderr",
     "output_type": "stream",
     "text": [
      "c:\\Users\\domin\\anaconda3\\envs\\tensorflow1\\lib\\site-packages\\tensorflow\\python\\keras\\utils\\generic_utils.py:494: CustomMaskWarning: Custom mask layers require a config and must override get_config. When loading, the custom mask layer must be passed to the custom_objects argument.\n",
      "  warnings.warn('Custom mask layers require a config and must override '\n"
     ]
    }
   ],
   "source": [
    "# # Speichere die Gewichte des trainierten Modells\n",
    "# VGG16_model.save_weights('models/VGG16_model_weights.h5')\n",
    "# ResNet50_model.save_weights('models/ResNet50_model_weights.h5')\n",
    "# ResNet101_model.save_weights('models/ResNet101_model_weights.h5')\n",
    "# EfficientNetB0_model.save_weights('models/EfficientNetB0_model_weights.h5')\n",
    "# InceptionV3_model.save_weights('models/InceptionV3_model_weights.h5')\n",
    "\n",
    "# Speichere das gesamte trainierte Modell\n",
    "VGG16_model.save('models/VGG16_model.h5')\n",
    "ResNet50_model.save('models/ResNet50_model.h5')\n",
    "ResNet101_model.save('models/ResNet101_model.h5')\n",
    "EfficientNetB0_model.save('models/EfficientNetB0_model.h5')\n",
    "InceptionV3_model.save('models/InceptionV3_model.h5')\n",
    "\n",
    "\n",
    "# # Speichere das gesamte trainierte Modell\n",
    "# VGG16_model.save('models/VGG16_model.h')\n",
    "# ResNet50_model.save('models/ResNet50_model.h')\n",
    "# ResNet101_model.save('models/ResNet101_model.h')\n",
    "# EfficientNetB0_model.save('models/EfficientNetB0_model.h')\n",
    "# InceptionV3_model.save('models/InceptionV3_model.h')"
   ]
  },
  {
   "cell_type": "code",
   "execution_count": 23,
   "metadata": {},
   "outputs": [
    {
     "name": "stdout",
     "output_type": "stream",
     "text": [
      "dict_keys(['loss', 'accuracy', 'val_loss', 'val_accuracy'])\n"
     ]
    },
    {
     "data": {
      "image/png": "[encoded data removed]",
      "text/plain": [
       "<Figure size 432x288 with 1 Axes>"
      ]
     },
     "metadata": {
      "needs_background": "light"
     },
     "output_type": "display_data"
    },
    {
     "data": {
      "image/png": "[encoded data removed]",
      "text/plain": [
       "<Figure size 432x288 with 1 Axes>"
      ]
     },
     "metadata": {
      "needs_background": "light"
     },
     "output_type": "display_data"
    }
   ],
   "source": [
    "# Plot training & validation accuracy values of VGG16\n",
    "print(history_VGG16.history.keys())\n",
    "#  \"Accuracy\"\n",
    "plt.plot(history_VGG16.history['accuracy'])\n",
    "plt.plot(history_VGG16.history['val_accuracy'])\n",
    "plt.title('model accuracy')\n",
    "plt.ylabel('accuracy')\n",
    "plt.xlabel('epoch')\n",
    "plt.legend(['train', 'validation'], loc='upper left')\n",
    "plt.show()\n",
    "# \"Loss\"\n",
    "plt.plot(history_VGG16.history['loss'])\n",
    "plt.plot(history_VGG16.history['val_loss'])\n",
    "plt.title('model loss')\n",
    "plt.ylabel('loss')\n",
    "plt.xlabel('epoch')\n",
    "plt.legend(['train', 'validation'], loc='upper left')\n",
    "plt.show()"
   ]
  },
  {
   "cell_type": "code",
   "execution_count": 24,
   "metadata": {},
   "outputs": [
    {
     "name": "stdout",
     "output_type": "stream",
     "text": [
      "dict_keys(['loss', 'accuracy', 'val_loss', 'val_accuracy'])\n"
     ]
    },
    {
     "data": {
      "image/png": "[encoded data removed]",
      "text/plain": [
       "<Figure size 432x288 with 1 Axes>"
      ]
     },
     "metadata": {
      "needs_background": "light"
     },
     "output_type": "display_data"
    },
    {
     "data": {
      "image/png": "[encoded data removed]",
      "text/plain": [
       "<Figure size 432x288 with 1 Axes>"
      ]
     },
     "metadata": {
      "needs_background": "light"
     },
     "output_type": "display_data"
    },
    {
     "data": {
      "image/png": "[encoded data removed]",
      "text/plain": [
       "<Figure size 432x288 with 1 Axes>"
      ]
     },
     "metadata": {
      "needs_background": "light"
     },
     "output_type": "display_data"
    },
    {
     "data": {
      "image/png": "[encoded data removed]",
      "text/plain": [
       "<Figure size 432x288 with 1 Axes>"
      ]
     },
     "metadata": {
      "needs_background": "light"
     },
     "output_type": "display_data"
    }
   ],
   "source": [
    "# Plot training & validation accuracy values of VGG16\n",
    "print(history_VGG16.history.keys())\n",
    "#  \"Accuracy\"\n",
    "plt.plot(history_VGG16.history['accuracy'], label = \"VGG16\")\n",
    "plt.plot(history_ResNet50.history['accuracy'], label = \"ResNet50\")\n",
    "plt.plot(history_ResNet101.history['accuracy'], label = \"ResNet101\")\n",
    "plt.plot(history_EfficientNetB0.history['accuracy'], label = \"EfficientNetB0\")\n",
    "plt.plot(history_InceptionV3.history['accuracy'], label = \"InceptionV3\")\n",
    "plt.title('model accuracy')\n",
    "plt.ylabel('accuracy')\n",
    "plt.xlabel('epoch')\n",
    "plt.legend(['VGG16', 'ResNet50', 'ResNet101', 'EfficientNetB0', 'InceptionV3'], loc='upper left')\n",
    "plt.show()\n",
    "\n",
    "#  \"val_accuracy\"\n",
    "plt.plot(history_VGG16.history['val_accuracy'], label = \"VGG16\")\n",
    "plt.plot(history_ResNet50.history['val_accuracy'], label = \"ResNet50\")\n",
    "plt.plot(history_ResNet101.history['val_accuracy'], label = \"ResNet101\")\n",
    "plt.plot(history_EfficientNetB0.history['val_accuracy'], label = \"EfficientNetB0\")\n",
    "plt.plot(history_InceptionV3.history['val_accuracy'], label = \"InceptionV3\")\n",
    "plt.title('model accuracy')\n",
    "plt.ylabel('accuracy')\n",
    "plt.xlabel('epoch')\n",
    "plt.legend(['VGG16', 'ResNet50', 'ResNet101', 'EfficientNetB0', 'InceptionV3'], loc='upper left')\n",
    "plt.show()\n",
    "\n",
    "\n",
    "# \"Loss\"\n",
    "plt.plot(history_VGG16.history['loss'], label = \"VGG16\")\n",
    "plt.plot(history_ResNet50.history['loss'], label = \"ResNet50\")\n",
    "plt.plot(history_ResNet101.history['loss'], label = \"ResNet101\")\n",
    "plt.plot(history_EfficientNetB0.history['loss'], label = \"EfficientNetB0\")\n",
    "plt.plot(history_InceptionV3.history['loss'], label = \"InceptionV3\")\n",
    "plt.title('model loss')\n",
    "plt.ylabel('loss')\n",
    "plt.xlabel('epoch')\n",
    "plt.legend(['VGG16', 'ResNet50', 'ResNet101', 'EfficientNetB0', 'InceptionV3'], loc='upper left')\n",
    "plt.show()\n",
    "\n",
    "# \"val_loss\"\n",
    "plt.plot(history_VGG16.history['val_loss'], label = \"VGG16\")\n",
    "plt.plot(history_ResNet50.history['val_loss'], label = \"ResNet50\")\n",
    "plt.plot(history_ResNet101.history['val_loss'], label = \"ResNet101\")\n",
    "plt.plot(history_EfficientNetB0.history['val_loss'], label = \"EfficientNetB0\")\n",
    "plt.plot(history_InceptionV3.history['val_loss'], label = \"InceptionV3\")\n",
    "plt.title('model loss')\n",
    "plt.ylabel('loss')\n",
    "plt.xlabel('epoch')\n",
    "plt.legend(['VGG16', 'ResNet50', 'ResNet101', 'EfficientNetB0', 'InceptionV3'], loc='upper left')\n",
    "plt.show()"
   ]
  },
  {
   "cell_type": "code",
   "execution_count": null,
   "metadata": {},
   "outputs": [],
   "source": [
    "\n",
    "# Trainiere das Modell\n",
    "history = model.fit(\n",
    "    train_generator,\n",
    "    steps_per_epoch=10,\n",
    "    epochs=10,\n",
    "    validation_data=valid_generator,\n",
    "    validation_steps=num_valid // batch_size\n",
    ")\n",
    "\n",
    "# Zeige den Verlauf des Trainings an\n",
    "plt.plot(history.history['accuracy'])\n",
    "plt.plot(history.history['val_accuracy'])\n",
    "plt.title('Modellgenauigkeit')\n",
    "plt.xlabel('Epochen')\n",
    "plt.ylabel('Genauigkeit')\n",
    "plt.legend(['Training', 'Validierung'], loc='upper left')\n",
    "plt.show()\n",
    "\n",
    "# Speichere die Gewichte des trainierten Modells\n",
    "model.save_weights('trained_model_weights.h5')\n",
    "\n",
    "# Speichere das gesamte trainierte Modell\n",
    "model.save('trained_model.h"
   ]
  }
 ],
 "metadata": {
  "kernelspec": {
   "display_name": "tensorflow",
   "language": "python",
   "name": "python3"
  },
  "language_info": {
   "codemirror_mode": {
    "name": "ipython",
    "version": 3
   },
   "file_extension": ".py",
   "mimetype": "text/x-python",
   "name": "python",
   "nbconvert_exporter": "python",
   "pygments_lexer": "ipython3",
   "version": "3.9.13"
  },
  "orig_nbformat": 4
 },
 "nbformat": 4,
 "nbformat_minor": 2
}
