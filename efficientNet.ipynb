{
 "cells": [
  {
   "attachments": {},
   "cell_type": "markdown",
   "metadata": {},
   "source": [
    "https://data-science-blog.com/blog/2022/04/11/how-to-choose-the-best-pre-trained-model-for-your-convolutional-neural-network/\n",
    "https://www.analyticsvidhya.com/blog/2020/08/top-4-pre-trained-models-for-image-classification-with-python-code/"
   ]
  },
  {
   "attachments": {},
   "cell_type": "markdown",
   "metadata": {},
   "source": [
    "![test](data\\train\\Dominik\\augmented_image_0.jpg)"
   ]
  },
  {
   "cell_type": "code",
   "execution_count": 2,
   "metadata": {},
   "outputs": [
    {
     "name": "stdout",
     "output_type": "stream",
     "text": [
      "Collecting fast_ml\n",
      "  Using cached fast_ml-3.68-py3-none-any.whl (42 kB)\n",
      "Installing collected packages: fast-ml\n",
      "Successfully installed fast-ml-3.68\n",
      "Note: you may need to restart the kernel to use updated packages.\n"
     ]
    }
   ],
   "source": [
    "%pip install fast_ml"
   ]
  },
  {
   "cell_type": "code",
   "execution_count": 3,
   "metadata": {},
   "outputs": [
    {
     "name": "stdout",
     "output_type": "stream",
     "text": [
      "Collecting efficientnet\n",
      "  Using cached efficientnet-1.1.1-py3-none-any.whl (18 kB)\n",
      "Requirement already satisfied: keras-applications<=1.0.8,>=1.0.7 in c:\\users\\dominik\\anaconda3\\envs\\tensorflow\\lib\\site-packages (from efficientnet) (1.0.8)\n",
      "Requirement already satisfied: scikit-image in c:\\users\\dominik\\anaconda3\\envs\\tensorflow\\lib\\site-packages (from efficientnet) (0.18.3)\n",
      "Requirement already satisfied: numpy>=1.9.1 in c:\\users\\dominik\\anaconda3\\envs\\tensorflow\\lib\\site-packages (from keras-applications<=1.0.8,>=1.0.7->efficientnet) (1.19.2)\n",
      "Requirement already satisfied: h5py in c:\\users\\dominik\\anaconda3\\envs\\tensorflow\\lib\\site-packages (from keras-applications<=1.0.8,>=1.0.7->efficientnet) (2.10.0)\n",
      "Requirement already satisfied: six in c:\\users\\dominik\\anaconda3\\envs\\tensorflow\\lib\\site-packages (from h5py->keras-applications<=1.0.8,>=1.0.7->efficientnet) (1.16.0)\n",
      "Requirement already satisfied: scipy>=1.0.1 in c:\\users\\dominik\\anaconda3\\envs\\tensorflow\\lib\\site-packages (from scikit-image->efficientnet) (1.6.2)\n",
      "Requirement already satisfied: matplotlib!=3.0.0,>=2.0.0 in c:\\users\\dominik\\anaconda3\\envs\\tensorflow\\lib\\site-packages (from scikit-image->efficientnet) (3.5.1)\n",
      "Requirement already satisfied: networkx>=2.0 in c:\\users\\dominik\\anaconda3\\envs\\tensorflow\\lib\\site-packages (from scikit-image->efficientnet) (2.6.3)\n",
      "Requirement already satisfied: pillow!=7.1.0,!=7.1.1,>=4.3.0 in c:\\users\\dominik\\anaconda3\\envs\\tensorflow\\lib\\site-packages (from scikit-image->efficientnet) (8.4.0)\n",
      "Requirement already satisfied: imageio>=2.3.0 in c:\\users\\dominik\\anaconda3\\envs\\tensorflow\\lib\\site-packages (from scikit-image->efficientnet) (2.9.0)\n",
      "Requirement already satisfied: tifffile>=2019.7.26 in c:\\users\\dominik\\anaconda3\\envs\\tensorflow\\lib\\site-packages (from scikit-image->efficientnet) (2021.7.2)\n",
      "Requirement already satisfied: PyWavelets>=1.1.1 in c:\\users\\dominik\\anaconda3\\envs\\tensorflow\\lib\\site-packages (from scikit-image->efficientnet) (1.1.1)\n",
      "Requirement already satisfied: packaging>=20.0 in c:\\users\\dominik\\anaconda3\\envs\\tensorflow\\lib\\site-packages (from matplotlib!=3.0.0,>=2.0.0->scikit-image->efficientnet) (21.3)\n",
      "Requirement already satisfied: pyparsing>=2.2.1 in c:\\users\\dominik\\anaconda3\\envs\\tensorflow\\lib\\site-packages (from matplotlib!=3.0.0,>=2.0.0->scikit-image->efficientnet) (3.0.4)\n",
      "Requirement already satisfied: kiwisolver>=1.0.1 in c:\\users\\dominik\\anaconda3\\envs\\tensorflow\\lib\\site-packages (from matplotlib!=3.0.0,>=2.0.0->scikit-image->efficientnet) (1.3.2)\n",
      "Requirement already satisfied: python-dateutil>=2.7 in c:\\users\\dominik\\anaconda3\\envs\\tensorflow\\lib\\site-packages (from matplotlib!=3.0.0,>=2.0.0->scikit-image->efficientnet) (2.8.2)\n",
      "Requirement already satisfied: cycler>=0.10 in c:\\users\\dominik\\anaconda3\\envs\\tensorflow\\lib\\site-packages (from matplotlib!=3.0.0,>=2.0.0->scikit-image->efficientnet) (0.11.0)\n",
      "Requirement already satisfied: fonttools>=4.22.0 in c:\\users\\dominik\\anaconda3\\envs\\tensorflow\\lib\\site-packages (from matplotlib!=3.0.0,>=2.0.0->scikit-image->efficientnet) (4.25.0)\n",
      "Installing collected packages: efficientnet\n",
      "Successfully installed efficientnet-1.1.1\n",
      "Note: you may need to restart the kernel to use updated packages.\n"
     ]
    }
   ],
   "source": [
    "%pip install -U efficientnet\n"
   ]
  },
  {
   "cell_type": "code",
   "execution_count": 1,
   "metadata": {},
   "outputs": [],
   "source": [
    "# import the necessary packages\n",
    "import os\n",
    "import zipfile\n",
    "# import matplotlib as plt\n",
    "import matplotlib.pyplot as plt\n",
    "import tensorflow as tf\n",
    "import cv2\n",
    "import glob\n",
    "\n",
    "# from pyimagesearch.resnet import ResNet\n",
    "from sklearn.preprocessing import LabelEncoder\n",
    "from sklearn.model_selection import train_test_split\n",
    "from sklearn.metrics import classification_report\n",
    "from tensorflow.keras.preprocessing.image import ImageDataGenerator\n",
    "from tensorflow.keras.optimizers import SGD\n",
    "from tensorflow.keras import layers, Model\n",
    "from tensorflow.keras.layers import Dropout, Flatten, Dense\n",
    "#from keras import optimizers\n",
    "from tensorflow.keras import optimizers\n",
    "\n",
    "from numpy import expand_dims\n",
    "from keras.preprocessing.image import load_img\n",
    "from keras.preprocessing.image import img_to_array, array_to_img\n",
    "from matplotlib import pyplot\n",
    "import efficientnet.keras as efn\n",
    "\n",
    "from tensorflow.keras.applications.vgg16 import VGG16\n",
    "\n",
    "import matplotlib.pyplot as plt\n",
    "import numpy as np\n",
    "import glob\n",
    "import zipfile\n",
    "import numpy as np\n",
    "from keras.preprocessing import image\n",
    "import glob, random\n",
    "import pandas as pd\n",
    "from sklearn.model_selection import train_test_split\n"
   ]
  },
  {
   "cell_type": "code",
   "execution_count": 169,
   "metadata": {},
   "outputs": [],
   "source": [
    "# https://qmul-tinyface.github.io/\n",
    "# selet 500 random images from the tinyface Dataset\n",
    "# from that dataset get the Gallery_Match folder from the Testing_set because its the samllest folder\n",
    "# C:\\Users\\domin\\Documents\\Studium\\Master\\Deep-Learning\\Projekt\\tinyface\\Testing_Set\\Gallery_Match\n",
    "\n",
    "\n",
    "random_image_path =[]\n",
    "random_resized = []\n",
    "#file_path_type = [r\"C:\\Users\\Dominik\\Documents\\Studium\\Master\\Deep-Learning\\tinyface\\Testing_Set\\Gallery_Match/*.jpg\"]\n",
    "file_path_type = [r\"C:\\Users\\Dominik\\Documents\\Studium\\Master\\Deep-Learning\\tinyface\\Testing_Set\\Gallery_Match/*.jpg\"]\n",
    "\n",
    "\n",
    "for i in range(50):\n",
    "    images = glob.glob(random.choice(file_path_type))\n",
    "    random_image_path.append(random.choice(images))\n",
    "\n",
    "for i in range(len(random_image_path)): #assuming gif\n",
    "    random_images = image.load_img(random_image_path[i])\n",
    "    random_resized.append(random_images.resize([224,224]))\n",
    "    #random_resized.save(r'data\\dataset\\unknown\\random_image_' +str(i) +'.jpg', 'JPEG')\n"
   ]
  },
  {
   "cell_type": "code",
   "execution_count": 170,
   "metadata": {},
   "outputs": [],
   "source": [
    "image_path =[]\n",
    "dominik_resized = []\n",
    "#file_path_type = [r\"C:\\Users\\domin\\Documents\\Studium\\Master\\Deep-Learning\\Projekt\\Datensatz\\Dominik/*.jpeg\"]\n",
    "file_path_type = [r\"C:\\Users\\Dominik\\Documents\\Studium\\Master\\Deep-Learning\\Datensatz/*.jpeg\"]\n",
    "\n",
    "for i in range(100):\n",
    "    images = glob.glob(random.choice(file_path_type))\n",
    "    image_path.append(random.choice(images))\n",
    "\n",
    "for i in range(len(image_path)): #assuming gif\n",
    "    dominik_images = image.load_img(image_path[i])\n",
    "    dominik_resized.append(dominik_images.resize([224,224]))\n",
    "\n",
    "    #dominik_resized[i].save(r'data\\dataset\\Dominik\\image_' +str(i) +'.jpg', 'JPEG')\n"
   ]
  },
  {
   "cell_type": "code",
   "execution_count": 171,
   "metadata": {},
   "outputs": [
    {
     "data": {
      "image/png": "[encoded data removed]",
      "text/plain": [
       "<Figure size 900x300 with 1 Axes>"
      ]
     },
     "metadata": {},
     "output_type": "display_data"
    }
   ],
   "source": [
    "names = ['Dominik', 'unknown']\n",
    "values = [len(dominik_resized), len(random_resized)]\n",
    "\n",
    "plt.figure(figsize=(9, 3))\n",
    "plt.bar(names, values, color='blue',edgecolor='black')\n",
    "plt.ylabel('Number Images')\n",
    "plt.title('Data comparison of the two classes')\n",
    "plt.show()"
   ]
  },
  {
   "cell_type": "code",
   "execution_count": 173,
   "metadata": {},
   "outputs": [],
   "source": [
    "# Let's say we want to split the data in 80:10:10 for train:valid:test dataset\n",
    "y_unknown = []\n",
    "for i in range(len(random_resized)):\n",
    "    y_unknown.append('unknown')\n",
    "\n",
    "y_dominik = []\n",
    "for i in range(len(dominik_resized)):\n",
    "    y_dominik.append('Dominik')\n",
    "\n",
    "# In the first step we will split the data in training and remaining dataset\n",
    "X_train_unknown, X_rem_unknown, y_train_unknown, y_rem_unknown = train_test_split(random_resized,y_unknown, train_size=0.6)\n",
    "X_train_dominik, X_rem_dominik, y_train_dominik, y_rem_dominik = train_test_split(dominik_resized,y_dominik, train_size=0.6)\n",
    "\n",
    "# Now since we want the valid and test size to be equal (10% each of overall data). \n",
    "# we have to define valid_size=0.5 (that is 50% of remaining data)\n",
    "X_valid_unknown, X_test_unknown, y_valid_unknown, y_test_unknown = train_test_split(X_rem_unknown,y_rem_unknown, test_size=0.5)\n",
    "X_valid_dominik, X_test_dominik, y_valid__dominik, y_test__dominik = train_test_split(X_rem_dominik,y_rem_dominik, test_size=0.5)"
   ]
  },
  {
   "cell_type": "code",
   "execution_count": 174,
   "metadata": {},
   "outputs": [
    {
     "data": {
      "image/png": "[encoded data removed]",
      "text/plain": [
       "<Figure size 640x480 with 1 Axes>"
      ]
     },
     "metadata": {},
     "output_type": "display_data"
    }
   ],
   "source": [
    "split=['train', 'validation', 'test']\n",
    "data_origin=['Dominik','unknown']\n",
    "pos = np.arange(len(split))\n",
    "vales_dominik = [len(X_train_dominik), len(X_valid_dominik), len(X_test_dominik)]\n",
    "values_unknown = [len(X_train_unknown), len(X_valid_unknown), len(X_test_unknown)]\n",
    "\n",
    "plt.bar(pos,vales_dominik,color='blue',edgecolor='black')\n",
    "plt.bar(pos,values_unknown,color='orange',edgecolor='black',bottom=vales_dominik)\n",
    "plt.xticks(pos, split)\n",
    "plt.ylabel('Number of Images', fontsize=16)\n",
    "plt.title('Splitted dataset',fontsize=18)\n",
    "plt.legend(data_origin)\n",
    "plt.show()"
   ]
  },
  {
   "cell_type": "code",
   "execution_count": 175,
   "metadata": {},
   "outputs": [],
   "source": [
    "for i in range(len(X_train_unknown)):\n",
    "    X_train_unknown[i].save(r'data\\train\\unknown\\image_' +str(i) +'.jpg', 'JPEG')\n",
    "   \n",
    "for i in range(len(X_valid_unknown)):\n",
    "    X_valid_unknown[i].save(r'data\\validation\\unknown\\image_' +str(i) +'.jpg', 'JPEG')\n",
    "\n",
    "for i in range(len(X_test_unknown)):\n",
    "    X_test_unknown[i].save(r'data\\test\\unknown\\image_' +str(i) +'.jpg', 'JPEG')"
   ]
  },
  {
   "cell_type": "code",
   "execution_count": 176,
   "metadata": {},
   "outputs": [],
   "source": [
    "for i in range(len(X_train_dominik)):\n",
    "    X_train_dominik[i].save(r'data\\train\\Dominik\\image_' +str(i) +'.jpg', 'JPEG')\n",
    "   \n",
    "for i in range(len(X_valid_dominik)):\n",
    "    X_valid_dominik[i].save(r'data\\validation\\Dominik\\image_' +str(i) +'.jpg', 'JPEG')\n",
    "\n",
    "for i in range(len(X_test_dominik)):\n",
    "    X_test_dominik[i].save(r'data\\test\\Dominik\\image_' +str(i) +'.jpg', 'JPEG')"
   ]
  },
  {
   "cell_type": "code",
   "execution_count": 177,
   "metadata": {},
   "outputs": [],
   "source": [
    "# X_train_unknown\n",
    "# X_valid_unknown\n",
    "# X_train_dominik\n",
    "# X_valid__dominik\n",
    "train_unknown_array = []\n",
    "for i in range(len(X_train_unknown)):\n",
    "    train_unknown_array.append(np.expand_dims(img_to_array(X_train_unknown[i]),axis=0))\n",
    "\n",
    "valid_unknown_array = []\n",
    "for i in range(len(X_valid_unknown)):\n",
    "    valid_unknown_array.append(np.expand_dims(img_to_array(X_valid_unknown[i]), axis=0))\n",
    "\n",
    "train_dominik_array = []\n",
    "for i in range(len(X_train_dominik)):\n",
    "    train_dominik_array.append(np.expand_dims(img_to_array(X_train_dominik[i]), axis=0))\n",
    "\n",
    "valid_dominik_array = []\n",
    "for i in range(len(X_valid_dominik)):\n",
    "    valid_dominik_array.append(np.expand_dims(img_to_array(X_valid_dominik[i]), axis=0))\n",
    "\n"
   ]
  },
  {
   "cell_type": "code",
   "execution_count": 178,
   "metadata": {},
   "outputs": [],
   "source": [
    "train_unknown_datagen = ImageDataGenerator(width_shift_range = 0.1, height_shift_range = 0.1, horizontal_flip = True ,rotation_range=30, brightness_range=[0.4,1.2], zoom_range=[0.6,1.0], fill_mode='reflect')\n",
    "validation_unknown_datagen = ImageDataGenerator(width_shift_range = 0.1, height_shift_range = 0.1, horizontal_flip = True ,rotation_range=30, brightness_range=[0.4,1.2], zoom_range=[0.6,1.0], fill_mode='reflect')\n",
    "train_dominik_datagen = ImageDataGenerator(width_shift_range = 0.1, height_shift_range = 0.1, horizontal_flip = True ,rotation_range=30, brightness_range=[0.4,1.2], zoom_range=[0.6,1.0], fill_mode='reflect')\n",
    "validation_dominik_datagen = ImageDataGenerator(width_shift_range = 0.1, height_shift_range = 0.1, horizontal_flip = True ,rotation_range=30, brightness_range=[0.4,1.2], zoom_range=[0.6,1.0], fill_mode='reflect')\n",
    "\n",
    "\n",
    "for i in range(len(train_unknown_array)):\n",
    "    train_generator_unknown = train_unknown_datagen.flow(train_unknown_array[i], batch_size = 1)\n",
    "    # generate batch of images\n",
    "    batch = train_generator_unknown.next()\n",
    "    im = array_to_img(batch[0], scale=False)\n",
    "    im.save(r'data\\train\\unknown\\augmented_image_'+ str(i)+ '.jpg')\n",
    "\n",
    "for i in range(len(valid_unknown_array)):\n",
    "    valid_generator_unknown = validation_unknown_datagen.flow(valid_unknown_array[i], batch_size = 1)\n",
    "    # generate batch of images\n",
    "    batch = valid_generator_unknown.next()\n",
    "    im = array_to_img(batch[0], scale=False)\n",
    "    im.save(r'data\\validation\\unknown\\augmented_image_'+ str(i)+ '.jpg')\n",
    "\n",
    "for i in range(len(train_dominik_array)):\n",
    "    train_generator_dominik = train_dominik_datagen.flow(train_dominik_array[i], batch_size = 1)\n",
    "    # generate batch of images\n",
    "    batch = train_generator_dominik.next()\n",
    "    im = array_to_img(batch[0], scale=False)\n",
    "    im.save(r'data\\train\\Dominik\\augmented_image_'+ str(i)+ '.jpg')\n",
    "\n",
    "for i in range(len(valid_dominik_array)):\n",
    "    valid_generator_dominik = validation_dominik_datagen.flow(valid_dominik_array[i], batch_size = 1)\n",
    "    # generate batch of images\n",
    "    batch = valid_generator_dominik.next()\n",
    "    im = array_to_img(batch[0], scale=False)\n",
    "    im.save(r'data\\validation\\Dominik\\augmented_image_'+ str(i)+ '.jpg')\n"
   ]
  },
  {
   "cell_type": "code",
   "execution_count": 179,
   "metadata": {},
   "outputs": [
    {
     "data": {
      "image/png": "[encoded data removed]",
      "text/plain": [
       "<Figure size 640x480 with 1 Axes>"
      ]
     },
     "metadata": {},
     "output_type": "display_data"
    }
   ],
   "source": [
    "split=['train', 'validation']\n",
    "data_origin=['Dominik','unknown']\n",
    "pos = np.arange(len(split))\n",
    "vales_train = [len(train_dominik_array), len(valid_dominik_array)]\n",
    "values_valid = [len(train_unknown_array), len(valid_unknown_array)]\n",
    "\n",
    "plt.bar(pos,vales_train,color='blue',edgecolor='black')\n",
    "plt.bar(pos,values_valid,color='orange',edgecolor='black',bottom=vales_train)\n",
    "plt.xticks(pos, split)\n",
    "plt.ylabel('Number of Images', fontsize=16)\n",
    "plt.title('Number of augmented images',fontsize=18)\n",
    "plt.legend(data_origin)\n",
    "plt.show()"
   ]
  },
  {
   "cell_type": "code",
   "execution_count": 180,
   "metadata": {},
   "outputs": [
    {
     "data": {
      "image/png": "[encoded data removed]",
      "text/plain": [
       "<Figure size 640x480 with 1 Axes>"
      ]
     },
     "metadata": {},
     "output_type": "display_data"
    }
   ],
   "source": [
    "split=['train', 'validation', 'test']\n",
    "data_origin=['Original data','Augmented data']\n",
    "pos = np.arange(len(split))\n",
    "vales_og = [len(train_dominik_array+train_unknown_array), len(valid_dominik_array+valid_unknown_array), len(X_test_unknown+X_test_dominik)]\n",
    "values_augmented = [len(train_dominik_array+train_unknown_array), len(valid_dominik_array+valid_unknown_array), 0]\n",
    "\n",
    "plt.bar(pos,vales_og,color='blue',edgecolor='black')\n",
    "plt.bar(pos,values_augmented,color='orange',edgecolor='black',bottom=vales_og)\n",
    "plt.xticks(pos, split)\n",
    "plt.ylabel('Number of Images', fontsize=16)\n",
    "plt.title('Dataset with augmented data',fontsize=18)\n",
    "plt.legend(data_origin)\n",
    "plt.show()"
   ]
  },
  {
   "cell_type": "code",
   "execution_count": 126,
   "metadata": {},
   "outputs": [
    {
     "name": "stdout",
     "output_type": "stream",
     "text": [
      "list:  0\n",
      "list:  30\n"
     ]
    }
   ],
   "source": [
    "#load dominik images\n",
    "images_dominik = []\n",
    "for filename in glob.glob(\"dataset/Dominik/\" + \"*.jpg\"): #assuming gif\n",
    "    im=image.load_img(filename)\n",
    "   \n",
    "    #array_list_train.append(img_to_array(im))\n",
    "    images_dominik.append(np.expand_dims(img_to_array(im), axis=0))\n",
    "print(\"list: \", len(images_dominik))\n",
    "\n",
    "\n",
    "#load unknown images\n",
    "images_unknown = []\n",
    "for filename in glob.glob(\"data/validation/Dominik/\" + \"*.jpg\"): #assuming gif\n",
    "    im=image.load_img(filename)\n",
    "    \n",
    "    #array_list_val.append(img_to_array(im))\n",
    "    images_unknown.append(np.expand_dims(img_to_array(im), axis=0))\n",
    "print(\"list: \", len(images_unknown))"
   ]
  },
  {
   "cell_type": "code",
   "execution_count": 13,
   "metadata": {},
   "outputs": [
    {
     "name": "stdout",
     "output_type": "stream",
     "text": [
      "unzipping C:\\Users\\domin\\Documents\\Studium\\Master\\Deep-Learning\\Projekt\\Datensatz.zip\n",
      "/tmp/Datensatz/Datensatz/\n",
      "train    : 535 image paths\n"
     ]
    }
   ],
   "source": [
    "################ Unzip the dataset in the Colab runtime #################\n",
    "\n",
    "#zip_file_path = \"C:/Users/Dominik/Documents/Studium/Master/Deep-Learning/Datensatz.zip\"\n",
    "zip_file_path = r'C:\\Users\\domin\\Documents\\Studium\\Master\\Deep-Learning\\Projekt\\Datensatz.zip'\n",
    "pathToZip = os.path.join(zip_file_path)\n",
    "\n",
    "print(\"unzipping {}\".format(pathToZip))\n",
    "\n",
    "pathToData = \"/tmp/Datensatz\"\n",
    "with zipfile.ZipFile(pathToZip, 'r') as zip_ref:\n",
    "    zip_ref.extractall(pathToData)\n",
    "\n",
    "# training images\n",
    "data    = glob.glob(os.path.join(pathToData, \"Datensatz/\" + \"*.jpeg\"))\n",
    "# test images\n",
    "#test    = glob.glob(os.path.join(pathToData, \"Datensatz/test/\" + \"*.jpg\"))\n",
    "\n",
    "print(pathToData + \"/Datensatz/\") #/train\n",
    "print(\"train    : {} image paths\".format(len(data)))\n",
    "#print(\"train    : {} image paths\".format(len(test)))\n"
   ]
  },
  {
   "cell_type": "code",
   "execution_count": null,
   "metadata": {},
   "outputs": [],
   "source": [
    "from PIL import Image\n",
    "import glob\n",
    "image_list = []\n",
    "for filename in glob.glob(\"/tmp/Datensatz/Datensatz/\" + \"*.jpeg\"): #assuming gif\n",
    "    im=Image.open(filename)\n",
    "    \n",
    "    image_list.append(im)\n",
    "\n",
    "print(\"list: \", len(image_list))\n",
    "print(image_list[0])\n"
   ]
  },
  {
   "attachments": {},
   "cell_type": "markdown",
   "metadata": {},
   "source": [
    "https://qmul-tinyface.github.io/"
   ]
  },
  {
   "cell_type": "code",
   "execution_count": 5,
   "metadata": {},
   "outputs": [],
   "source": [
    "\n",
    "samples = []\n",
    "for i in range(len(image_list)):\n",
    "        temp_data = img_to_array(image_list[i])\n",
    "        # normalize image\n",
    "        # print(\"data: \", data)\n",
    "        # normalize image\n",
    "        img_norm = cv2.normalize(temp_data, None, alpha=0, beta=1, norm_type=cv2.NORM_MINMAX, dtype=cv2.CV_32F)\n",
    "        \n",
    "        # print(\"norm: \", img_norm)\n",
    "        # expand dimension to one sample\n",
    "        # samples.append(expand_dims(img_norm, 0))\n",
    "        samples.append(array_to_img(img_norm))\n",
    "       \n"
   ]
  },
  {
   "cell_type": "code",
   "execution_count": 15,
   "metadata": {},
   "outputs": [],
   "source": [
    "import pandas as pd\n",
    "from sklearn.model_selection import train_test_split\n",
    "\n",
    "# Let's say we want to split the data in 80:10:10 for train:valid:test dataset\n",
    "train_size=0.8\n",
    "y = []\n",
    "samples = image_list\n",
    "for i in range(len(samples)):\n",
    "    y.append('Dominik')\n",
    "\n",
    "\n",
    "# In the first step we will split the data in training and remaining dataset\n",
    "X_train, X_rem, y_train, y_rem = train_test_split(samples,y, train_size=0.7)\n",
    "\n",
    "# Now since we want the valid and test size to be equal (10% each of overall data). \n",
    "# we have to define valid_size=0.5 (that is 50% of remaining data)\n",
    "test_size = 0.5\n",
    "X_valid, X_test, y_valid, y_test = train_test_split(X_rem,y_rem, test_size=0.5)\n"
   ]
  },
  {
   "cell_type": "code",
   "execution_count": 16,
   "metadata": {},
   "outputs": [],
   "source": [
    "X_train_resized = []\n",
    "X_val_resized = []\n",
    "\n",
    "for i in range(len(X_train)):\n",
    "    X_train_resized.append(X_train[i].resize([224,224]))\n",
    "\n",
    "for i in range(len(X_valid)):\n",
    "    X_val_resized.append(X_valid[i].resize([224,224]))"
   ]
  },
  {
   "cell_type": "code",
   "execution_count": 17,
   "metadata": {},
   "outputs": [
    {
     "data": {
      "image/png": "[encoded data removed]",
      "text/plain": [
       "<Figure size 648x216 with 1 Axes>"
      ]
     },
     "metadata": {
      "needs_background": "light"
     },
     "output_type": "display_data"
    }
   ],
   "source": [
    "names = ['train', 'validation', 'test']\n",
    "values = [len(X_train), len(X_valid), len(X_test)]\n",
    "\n",
    "plt.figure(figsize=(9, 3))\n",
    "plt.bar(names, values, color='blue',edgecolor='black')\n",
    "plt.show()"
   ]
  },
  {
   "cell_type": "code",
   "execution_count": 18,
   "metadata": {},
   "outputs": [],
   "source": [
    "for i in range(len(X_train)):\n",
    "    X_train_resized[i].save(r'data\\train\\Dominik\\image_' +str(i) +'.jpg', 'JPEG')\n",
    "\n",
    "    \n",
    "for i in range(len(X_valid)):\n",
    "    X_val_resized[i].save(r'data\\validation\\Dominik\\image_' +str(i) +'.jpg', 'JPEG')\n",
    "\n",
    "for i in range(len(X_test)):\n",
    "    X_test[i].save(r'data\\test\\Dominik\\image_' +str(i) +'.jpg', 'JPEG')\n",
    "    "
   ]
  },
  {
   "cell_type": "code",
   "execution_count": 69,
   "metadata": {},
   "outputs": [
    {
     "name": "stdout",
     "output_type": "stream",
     "text": [
      "Found 376 images belonging to 2 classes.\n",
      "Found 81 images belonging to 2 classes.\n"
     ]
    }
   ],
   "source": [
    "train_datagen = ImageDataGenerator(width_shift_range = 0.1, height_shift_range = 0.1, horizontal_flip = True ,rotation_range=30, brightness_range=[0.4,1.2], zoom_range=[0.6,1.0], fill_mode='reflect')\n",
    "validation_datagen = ImageDataGenerator(width_shift_range = 0.1, height_shift_range = 0.1, horizontal_flip = True ,rotation_range=30, brightness_range=[0.4,1.2], zoom_range=[0.6,1.0], fill_mode='reflect')\n",
    "\n",
    "path_train = \"data/train/\"\n",
    "train_generator = train_datagen.flow_from_directory(path_train, batch_size = 1, target_size = (224, 224))\n",
    "_, _, files_train = next(os.walk(\"data/train/Dominik\"))\n",
    "number_augmented_train = len(files_train)*3\n",
    "\n",
    "for i in range(len(files_train)*3):\n",
    "    # generate batch of images\n",
    "    batch = train_generator.next()\n",
    "    squeeze_array = np.squeeze(batch[0], axis=(0))\n",
    "    im = array_to_img(squeeze_array, scale=False)\n",
    "    im.save(r'data\\train\\Dominik\\augmented_image_'+ str(i)+ '.jpg')\n",
    "\n",
    "\n",
    "\n",
    "path_validation = \"data/validation/\"\n",
    "validation_generator = validation_datagen.flow_from_directory(path_validation, batch_size = 1, target_size = (224, 224))\n",
    "_, _, files_validation = next(os.walk(\"data/validation/Dominik\"))\n",
    "number_augmented_validation = len(files_validation)*2\n",
    "\n",
    "for i in range(len(files_validation)*2):\n",
    "    # generate batch of images\n",
    "    batch = train_generator.next()\n",
    "    squeeze_array = np.squeeze(batch[0], axis=(0))\n",
    "    im = array_to_img(squeeze_array, scale=False)\n",
    "    im.save(r'data\\validation\\Dominik\\augmented_image_'+ str(i)+ '.jpg')\n",
    "\n"
   ]
  },
  {
   "cell_type": "code",
   "execution_count": 93,
   "metadata": {},
   "outputs": [],
   "source": [
    "# Step 2: Loading the Base Model\n",
    "base_model = efn.EfficientNetB7(input_shape = (224, 224, 3), include_top = False, weights = 'imagenet')"
   ]
  },
  {
   "cell_type": "code",
   "execution_count": 94,
   "metadata": {},
   "outputs": [],
   "source": [
    "# Again, let us freeze the layers:\n",
    "for layer in base_model.layers:\n",
    "    layer.trainable = False"
   ]
  },
  {
   "cell_type": "code",
   "execution_count": 95,
   "metadata": {},
   "outputs": [],
   "source": [
    "# Step 3: Build the model\n",
    "\n",
    "x = base_model.output\n",
    "y = base_model.input\n",
    "x = Flatten()(x)\n",
    "x = Dense(1024, activation=\"relu\")(x)\n",
    "x = Dropout(0.5)(x)\n",
    "\n",
    "# Add a final sigmoid layer with 1 node for classification output\n",
    "predictions = Dense(1, activation=\"sigmoid\")(x)\n",
    "model_final = Model(y, predictions) #base_model.input"
   ]
  },
  {
   "cell_type": "code",
   "execution_count": 96,
   "metadata": {},
   "outputs": [],
   "source": [
    "# Step 4: Compile and Fit\n",
    "\n",
    "model_final.compile(optimizers.RMSprop(lr=0.0001, decay=1e-6),loss='binary_crossentropy',metrics=['accuracy'])"
   ]
  },
  {
   "cell_type": "code",
   "execution_count": 58,
   "metadata": {},
   "outputs": [
    {
     "name": "stdout",
     "output_type": "stream",
     "text": [
      "list:  1496\n",
      "list:  240\n",
      "(1, 224, 224, 3)\n"
     ]
    }
   ],
   "source": [
    "\n",
    "\n",
    "train_arr = []\n",
    "for filename in glob.glob(\"data/train/Dominik/\" + \"*.jpg\"): #assuming gif\n",
    "    im=image.load_img(filename)\n",
    "   \n",
    "    #array_list_train.append(img_to_array(im))\n",
    "    train_arr.append(np.expand_dims(img_to_array(im), axis=0))\n",
    "print(\"list: \", len(train_arr))\n",
    "\n",
    "\n",
    "\n",
    "\n",
    "val_arr = []\n",
    "for filename in glob.glob(\"data/validation/Dominik/\" + \"*.jpg\"): #assuming gif\n",
    "    im=image.load_img(filename)\n",
    "    \n",
    "    #array_list_val.append(img_to_array(im))\n",
    "    val_arr.append(np.expand_dims(img_to_array(im), axis=0))\n",
    "print(\"list: \", len(val_arr))\n",
    "print(val_arr[0].shape)\n"
   ]
  },
  {
   "cell_type": "code",
   "execution_count": 97,
   "metadata": {},
   "outputs": [
    {
     "name": "stdout",
     "output_type": "stream",
     "text": [
      "Found 1050 images belonging to 2 classes.\n",
      "Found 224 images belonging to 2 classes.\n"
     ]
    }
   ],
   "source": [
    "train_dir = \"data/train/\"\n",
    "train_datagen = ImageDataGenerator()\n",
    "train_generator = train_datagen.flow_from_directory(train_dir, batch_size = 20, class_mode = 'binary', target_size = (224, 224))\n",
    "\n",
    "val_dir = \"data/validation/\"\n",
    "val_datagen = ImageDataGenerator()\n",
    "val_generator = val_datagen.flow_from_directory(val_dir, batch_size = 20, class_mode = 'binary', target_size = (224, 224))\n"
   ]
  },
  {
   "cell_type": "code",
   "execution_count": 98,
   "metadata": {},
   "outputs": [
    {
     "name": "stdout",
     "output_type": "stream",
     "text": [
      "Epoch 1/20\n",
      "40/40 [==============================] - 107s 3s/step - loss: 5697.3833 - accuracy: 0.5418 - val_loss: 4.4167 - val_accuracy: 0.6607\n",
      "Epoch 2/20\n",
      "40/40 [==============================] - 105s 3s/step - loss: 1845.8047 - accuracy: 0.5937 - val_loss: 2.8724 - val_accuracy: 0.6429\n",
      "Epoch 3/20\n",
      "40/40 [==============================] - 106s 3s/step - loss: 3465.1309 - accuracy: 0.5400 - val_loss: 2.1261 - val_accuracy: 0.6786\n",
      "Epoch 4/20\n",
      "23/40 [================>.............] - ETA: 35s - loss: 1782.3256 - accuracy: 0.5844"
     ]
    },
    {
     "ename": "KeyboardInterrupt",
     "evalue": "",
     "output_type": "error",
     "traceback": [
      "\u001b[1;31m---------------------------------------------------------------------------\u001b[0m",
      "\u001b[1;31mKeyboardInterrupt\u001b[0m                         Traceback (most recent call last)",
      "\u001b[1;32mc:\\Users\\Dominik\\Documents\\Studium\\Master\\Deep-Learning\\face_recognition\\efficientNet.ipynb Cell 33\u001b[0m in \u001b[0;36m<cell line: 1>\u001b[1;34m()\u001b[0m\n\u001b[1;32m----> <a href='vscode-notebook-cell:/c%3A/Users/Dominik/Documents/Studium/Master/Deep-Learning/face_recognition/efficientNet.ipynb#X45sZmlsZQ%3D%3D?line=0'>1</a>\u001b[0m eff_history \u001b[39m=\u001b[39m model_final\u001b[39m.\u001b[39;49mfit(train_generator, validation_data \u001b[39m=\u001b[39;49m val_generator, steps_per_epoch \u001b[39m=\u001b[39;49m \u001b[39m40\u001b[39;49m, epochs \u001b[39m=\u001b[39;49m \u001b[39m20\u001b[39;49m)\n",
      "File \u001b[1;32mc:\\Users\\Dominik\\anaconda3\\envs\\tensorflow\\lib\\site-packages\\tensorflow\\python\\keras\\engine\\training.py:108\u001b[0m, in \u001b[0;36menable_multi_worker.<locals>._method_wrapper\u001b[1;34m(self, *args, **kwargs)\u001b[0m\n\u001b[0;32m    106\u001b[0m \u001b[39mdef\u001b[39;00m \u001b[39m_method_wrapper\u001b[39m(\u001b[39mself\u001b[39m, \u001b[39m*\u001b[39margs, \u001b[39m*\u001b[39m\u001b[39m*\u001b[39mkwargs):\n\u001b[0;32m    107\u001b[0m   \u001b[39mif\u001b[39;00m \u001b[39mnot\u001b[39;00m \u001b[39mself\u001b[39m\u001b[39m.\u001b[39m_in_multi_worker_mode():  \u001b[39m# pylint: disable=protected-access\u001b[39;00m\n\u001b[1;32m--> 108\u001b[0m     \u001b[39mreturn\u001b[39;00m method(\u001b[39mself\u001b[39;49m, \u001b[39m*\u001b[39;49margs, \u001b[39m*\u001b[39;49m\u001b[39m*\u001b[39;49mkwargs)\n\u001b[0;32m    110\u001b[0m   \u001b[39m# Running inside `run_distribute_coordinator` already.\u001b[39;00m\n\u001b[0;32m    111\u001b[0m   \u001b[39mif\u001b[39;00m dc_context\u001b[39m.\u001b[39mget_current_worker_context():\n",
      "File \u001b[1;32mc:\\Users\\Dominik\\anaconda3\\envs\\tensorflow\\lib\\site-packages\\tensorflow\\python\\keras\\engine\\training.py:1098\u001b[0m, in \u001b[0;36mModel.fit\u001b[1;34m(self, x, y, batch_size, epochs, verbose, callbacks, validation_split, validation_data, shuffle, class_weight, sample_weight, initial_epoch, steps_per_epoch, validation_steps, validation_batch_size, validation_freq, max_queue_size, workers, use_multiprocessing)\u001b[0m\n\u001b[0;32m   1091\u001b[0m \u001b[39mwith\u001b[39;00m trace\u001b[39m.\u001b[39mTrace(\n\u001b[0;32m   1092\u001b[0m     \u001b[39m'\u001b[39m\u001b[39mTraceContext\u001b[39m\u001b[39m'\u001b[39m,\n\u001b[0;32m   1093\u001b[0m     graph_type\u001b[39m=\u001b[39m\u001b[39m'\u001b[39m\u001b[39mtrain\u001b[39m\u001b[39m'\u001b[39m,\n\u001b[0;32m   1094\u001b[0m     epoch_num\u001b[39m=\u001b[39mepoch,\n\u001b[0;32m   1095\u001b[0m     step_num\u001b[39m=\u001b[39mstep,\n\u001b[0;32m   1096\u001b[0m     batch_size\u001b[39m=\u001b[39mbatch_size):\n\u001b[0;32m   1097\u001b[0m   callbacks\u001b[39m.\u001b[39mon_train_batch_begin(step)\n\u001b[1;32m-> 1098\u001b[0m   tmp_logs \u001b[39m=\u001b[39m train_function(iterator)\n\u001b[0;32m   1099\u001b[0m   \u001b[39mif\u001b[39;00m data_handler\u001b[39m.\u001b[39mshould_sync:\n\u001b[0;32m   1100\u001b[0m     context\u001b[39m.\u001b[39masync_wait()\n",
      "File \u001b[1;32mc:\\Users\\Dominik\\anaconda3\\envs\\tensorflow\\lib\\site-packages\\tensorflow\\python\\eager\\def_function.py:780\u001b[0m, in \u001b[0;36mFunction.__call__\u001b[1;34m(self, *args, **kwds)\u001b[0m\n\u001b[0;32m    778\u001b[0m \u001b[39melse\u001b[39;00m:\n\u001b[0;32m    779\u001b[0m   compiler \u001b[39m=\u001b[39m \u001b[39m\"\u001b[39m\u001b[39mnonXla\u001b[39m\u001b[39m\"\u001b[39m\n\u001b[1;32m--> 780\u001b[0m   result \u001b[39m=\u001b[39m \u001b[39mself\u001b[39;49m\u001b[39m.\u001b[39;49m_call(\u001b[39m*\u001b[39;49margs, \u001b[39m*\u001b[39;49m\u001b[39m*\u001b[39;49mkwds)\n\u001b[0;32m    782\u001b[0m new_tracing_count \u001b[39m=\u001b[39m \u001b[39mself\u001b[39m\u001b[39m.\u001b[39m_get_tracing_count()\n\u001b[0;32m    783\u001b[0m without_tracing \u001b[39m=\u001b[39m (tracing_count \u001b[39m==\u001b[39m new_tracing_count)\n",
      "File \u001b[1;32mc:\\Users\\Dominik\\anaconda3\\envs\\tensorflow\\lib\\site-packages\\tensorflow\\python\\eager\\def_function.py:807\u001b[0m, in \u001b[0;36mFunction._call\u001b[1;34m(self, *args, **kwds)\u001b[0m\n\u001b[0;32m    804\u001b[0m   \u001b[39mself\u001b[39m\u001b[39m.\u001b[39m_lock\u001b[39m.\u001b[39mrelease()\n\u001b[0;32m    805\u001b[0m   \u001b[39m# In this case we have created variables on the first call, so we run the\u001b[39;00m\n\u001b[0;32m    806\u001b[0m   \u001b[39m# defunned version which is guaranteed to never create variables.\u001b[39;00m\n\u001b[1;32m--> 807\u001b[0m   \u001b[39mreturn\u001b[39;00m \u001b[39mself\u001b[39;49m\u001b[39m.\u001b[39;49m_stateless_fn(\u001b[39m*\u001b[39;49margs, \u001b[39m*\u001b[39;49m\u001b[39m*\u001b[39;49mkwds)  \u001b[39m# pylint: disable=not-callable\u001b[39;00m\n\u001b[0;32m    808\u001b[0m \u001b[39melif\u001b[39;00m \u001b[39mself\u001b[39m\u001b[39m.\u001b[39m_stateful_fn \u001b[39mis\u001b[39;00m \u001b[39mnot\u001b[39;00m \u001b[39mNone\u001b[39;00m:\n\u001b[0;32m    809\u001b[0m   \u001b[39m# Release the lock early so that multiple threads can perform the call\u001b[39;00m\n\u001b[0;32m    810\u001b[0m   \u001b[39m# in parallel.\u001b[39;00m\n\u001b[0;32m    811\u001b[0m   \u001b[39mself\u001b[39m\u001b[39m.\u001b[39m_lock\u001b[39m.\u001b[39mrelease()\n",
      "File \u001b[1;32mc:\\Users\\Dominik\\anaconda3\\envs\\tensorflow\\lib\\site-packages\\tensorflow\\python\\eager\\function.py:2829\u001b[0m, in \u001b[0;36mFunction.__call__\u001b[1;34m(self, *args, **kwargs)\u001b[0m\n\u001b[0;32m   2827\u001b[0m \u001b[39mwith\u001b[39;00m \u001b[39mself\u001b[39m\u001b[39m.\u001b[39m_lock:\n\u001b[0;32m   2828\u001b[0m   graph_function, args, kwargs \u001b[39m=\u001b[39m \u001b[39mself\u001b[39m\u001b[39m.\u001b[39m_maybe_define_function(args, kwargs)\n\u001b[1;32m-> 2829\u001b[0m \u001b[39mreturn\u001b[39;00m graph_function\u001b[39m.\u001b[39;49m_filtered_call(args, kwargs)\n",
      "File \u001b[1;32mc:\\Users\\Dominik\\anaconda3\\envs\\tensorflow\\lib\\site-packages\\tensorflow\\python\\eager\\function.py:1843\u001b[0m, in \u001b[0;36mConcreteFunction._filtered_call\u001b[1;34m(self, args, kwargs, cancellation_manager)\u001b[0m\n\u001b[0;32m   1827\u001b[0m \u001b[39mdef\u001b[39;00m \u001b[39m_filtered_call\u001b[39m(\u001b[39mself\u001b[39m, args, kwargs, cancellation_manager\u001b[39m=\u001b[39m\u001b[39mNone\u001b[39;00m):\n\u001b[0;32m   1828\u001b[0m \u001b[39m  \u001b[39m\u001b[39m\"\"\"Executes the function, filtering arguments from the Python function.\u001b[39;00m\n\u001b[0;32m   1829\u001b[0m \n\u001b[0;32m   1830\u001b[0m \u001b[39m  Objects aside from Tensors, CompositeTensors, and Variables are ignored.\u001b[39;00m\n\u001b[1;32m   (...)\u001b[0m\n\u001b[0;32m   1841\u001b[0m \u001b[39m    `args` and `kwargs`.\u001b[39;00m\n\u001b[0;32m   1842\u001b[0m \u001b[39m  \"\"\"\u001b[39;00m\n\u001b[1;32m-> 1843\u001b[0m   \u001b[39mreturn\u001b[39;00m \u001b[39mself\u001b[39;49m\u001b[39m.\u001b[39;49m_call_flat(\n\u001b[0;32m   1844\u001b[0m       [t \u001b[39mfor\u001b[39;49;00m t \u001b[39min\u001b[39;49;00m nest\u001b[39m.\u001b[39;49mflatten((args, kwargs), expand_composites\u001b[39m=\u001b[39;49m\u001b[39mTrue\u001b[39;49;00m)\n\u001b[0;32m   1845\u001b[0m        \u001b[39mif\u001b[39;49;00m \u001b[39misinstance\u001b[39;49m(t, (ops\u001b[39m.\u001b[39;49mTensor,\n\u001b[0;32m   1846\u001b[0m                          resource_variable_ops\u001b[39m.\u001b[39;49mBaseResourceVariable))],\n\u001b[0;32m   1847\u001b[0m       captured_inputs\u001b[39m=\u001b[39;49m\u001b[39mself\u001b[39;49m\u001b[39m.\u001b[39;49mcaptured_inputs,\n\u001b[0;32m   1848\u001b[0m       cancellation_manager\u001b[39m=\u001b[39;49mcancellation_manager)\n",
      "File \u001b[1;32mc:\\Users\\Dominik\\anaconda3\\envs\\tensorflow\\lib\\site-packages\\tensorflow\\python\\eager\\function.py:1923\u001b[0m, in \u001b[0;36mConcreteFunction._call_flat\u001b[1;34m(self, args, captured_inputs, cancellation_manager)\u001b[0m\n\u001b[0;32m   1918\u001b[0m possible_gradient_type \u001b[39m=\u001b[39m (\n\u001b[0;32m   1919\u001b[0m     pywrap_tfe\u001b[39m.\u001b[39mTFE_Py_TapeSetPossibleGradientTypes(args))\n\u001b[0;32m   1920\u001b[0m \u001b[39mif\u001b[39;00m (possible_gradient_type \u001b[39m==\u001b[39m _POSSIBLE_GRADIENT_TYPES_NONE\n\u001b[0;32m   1921\u001b[0m     \u001b[39mand\u001b[39;00m executing_eagerly):\n\u001b[0;32m   1922\u001b[0m   \u001b[39m# No tape is watching; skip to running the function.\u001b[39;00m\n\u001b[1;32m-> 1923\u001b[0m   \u001b[39mreturn\u001b[39;00m \u001b[39mself\u001b[39m\u001b[39m.\u001b[39m_build_call_outputs(\u001b[39mself\u001b[39;49m\u001b[39m.\u001b[39;49m_inference_function\u001b[39m.\u001b[39;49mcall(\n\u001b[0;32m   1924\u001b[0m       ctx, args, cancellation_manager\u001b[39m=\u001b[39;49mcancellation_manager))\n\u001b[0;32m   1925\u001b[0m forward_backward \u001b[39m=\u001b[39m \u001b[39mself\u001b[39m\u001b[39m.\u001b[39m_select_forward_and_backward_functions(\n\u001b[0;32m   1926\u001b[0m     args,\n\u001b[0;32m   1927\u001b[0m     possible_gradient_type,\n\u001b[0;32m   1928\u001b[0m     executing_eagerly)\n\u001b[0;32m   1929\u001b[0m forward_function, args_with_tangents \u001b[39m=\u001b[39m forward_backward\u001b[39m.\u001b[39mforward()\n",
      "File \u001b[1;32mc:\\Users\\Dominik\\anaconda3\\envs\\tensorflow\\lib\\site-packages\\tensorflow\\python\\eager\\function.py:545\u001b[0m, in \u001b[0;36m_EagerDefinedFunction.call\u001b[1;34m(self, ctx, args, cancellation_manager)\u001b[0m\n\u001b[0;32m    543\u001b[0m \u001b[39mwith\u001b[39;00m _InterpolateFunctionError(\u001b[39mself\u001b[39m):\n\u001b[0;32m    544\u001b[0m   \u001b[39mif\u001b[39;00m cancellation_manager \u001b[39mis\u001b[39;00m \u001b[39mNone\u001b[39;00m:\n\u001b[1;32m--> 545\u001b[0m     outputs \u001b[39m=\u001b[39m execute\u001b[39m.\u001b[39;49mexecute(\n\u001b[0;32m    546\u001b[0m         \u001b[39mstr\u001b[39;49m(\u001b[39mself\u001b[39;49m\u001b[39m.\u001b[39;49msignature\u001b[39m.\u001b[39;49mname),\n\u001b[0;32m    547\u001b[0m         num_outputs\u001b[39m=\u001b[39;49m\u001b[39mself\u001b[39;49m\u001b[39m.\u001b[39;49m_num_outputs,\n\u001b[0;32m    548\u001b[0m         inputs\u001b[39m=\u001b[39;49margs,\n\u001b[0;32m    549\u001b[0m         attrs\u001b[39m=\u001b[39;49mattrs,\n\u001b[0;32m    550\u001b[0m         ctx\u001b[39m=\u001b[39;49mctx)\n\u001b[0;32m    551\u001b[0m   \u001b[39melse\u001b[39;00m:\n\u001b[0;32m    552\u001b[0m     outputs \u001b[39m=\u001b[39m execute\u001b[39m.\u001b[39mexecute_with_cancellation(\n\u001b[0;32m    553\u001b[0m         \u001b[39mstr\u001b[39m(\u001b[39mself\u001b[39m\u001b[39m.\u001b[39msignature\u001b[39m.\u001b[39mname),\n\u001b[0;32m    554\u001b[0m         num_outputs\u001b[39m=\u001b[39m\u001b[39mself\u001b[39m\u001b[39m.\u001b[39m_num_outputs,\n\u001b[1;32m   (...)\u001b[0m\n\u001b[0;32m    557\u001b[0m         ctx\u001b[39m=\u001b[39mctx,\n\u001b[0;32m    558\u001b[0m         cancellation_manager\u001b[39m=\u001b[39mcancellation_manager)\n",
      "File \u001b[1;32mc:\\Users\\Dominik\\anaconda3\\envs\\tensorflow\\lib\\site-packages\\tensorflow\\python\\eager\\execute.py:59\u001b[0m, in \u001b[0;36mquick_execute\u001b[1;34m(op_name, num_outputs, inputs, attrs, ctx, name)\u001b[0m\n\u001b[0;32m     57\u001b[0m \u001b[39mtry\u001b[39;00m:\n\u001b[0;32m     58\u001b[0m   ctx\u001b[39m.\u001b[39mensure_initialized()\n\u001b[1;32m---> 59\u001b[0m   tensors \u001b[39m=\u001b[39m pywrap_tfe\u001b[39m.\u001b[39;49mTFE_Py_Execute(ctx\u001b[39m.\u001b[39;49m_handle, device_name, op_name,\n\u001b[0;32m     60\u001b[0m                                       inputs, attrs, num_outputs)\n\u001b[0;32m     61\u001b[0m \u001b[39mexcept\u001b[39;00m core\u001b[39m.\u001b[39m_NotOkStatusException \u001b[39mas\u001b[39;00m e:\n\u001b[0;32m     62\u001b[0m   \u001b[39mif\u001b[39;00m name \u001b[39mis\u001b[39;00m \u001b[39mnot\u001b[39;00m \u001b[39mNone\u001b[39;00m:\n",
      "\u001b[1;31mKeyboardInterrupt\u001b[0m: "
     ]
    }
   ],
   "source": [
    "eff_history = model_final.fit(train_generator, validation_data = val_generator, steps_per_epoch = 40, epochs = 20)"
   ]
  },
  {
   "cell_type": "code",
   "execution_count": 39,
   "metadata": {},
   "outputs": [
    {
     "data": {
      "image/png": "[encoded data removed]",
      "text/plain": [
       "<Figure size 432x288 with 1 Axes>"
      ]
     },
     "metadata": {
      "needs_background": "light"
     },
     "output_type": "display_data"
    }
   ],
   "source": [
    "def plot_hist(eff_history):\n",
    "    plt.plot(eff_history.history[\"accuracy\"])\n",
    "    plt.plot(eff_history.history[\"val_accuracy\"])\n",
    "    plt.title(\"model accuracy\")\n",
    "    plt.ylabel(\"accuracy\")\n",
    "    plt.xlabel(\"epoch\")\n",
    "    plt.legend([\"train\", \"validation\"], loc=\"upper left\")\n",
    "    plt.show()\n",
    "\n",
    "\n",
    "plot_hist(eff_history)"
   ]
  },
  {
   "cell_type": "code",
   "execution_count": 46,
   "metadata": {},
   "outputs": [
    {
     "name": "stdout",
     "output_type": "stream",
     "text": [
      "[[0.08831871]]\n"
     ]
    }
   ],
   "source": [
    "# predicting images\n",
    "img = image.load_img(r'data\\test\\unknown\\image_60.jpg', target_size=(224, 224))\n",
    "x = image.img_to_array(img)\n",
    "x = np.expand_dims(x, axis=0)\n",
    "\n",
    "images = np.vstack([x])\n",
    "classes = model_final.predict(images, batch_size=10)\n",
    "print(classes)"
   ]
  },
  {
   "cell_type": "code",
   "execution_count": 99,
   "metadata": {},
   "outputs": [],
   "source": [
    "import tensorflow as tf\n",
    "from tensorflow import keras\n",
    "from tensorflow.keras import layers\n",
    "from tensorflow.python.keras.layers import Dense, Flatten\n",
    "from keras.models import Sequential"
   ]
  },
  {
   "cell_type": "code",
   "execution_count": 181,
   "metadata": {},
   "outputs": [],
   "source": [
    "training_batch_size=32\n",
    "height,width=240,240"
   ]
  },
  {
   "cell_type": "code",
   "execution_count": 182,
   "metadata": {},
   "outputs": [],
   "source": [
    "train_data = \"data/train\"\n",
    "valid_data = \"data/validation\""
   ]
  },
  {
   "cell_type": "code",
   "execution_count": 183,
   "metadata": {},
   "outputs": [
    {
     "name": "stdout",
     "output_type": "stream",
     "text": [
      "Found 180 files belonging to 2 classes.\n",
      "Using 144 files for training.\n"
     ]
    }
   ],
   "source": [
    "train_set = tf.keras.preprocessing.image_dataset_from_directory(\n",
    "train_data,\n",
    "validation_split=0.2,\n",
    "subset=\"training\",\n",
    "seed=123,\n",
    "image_size=(height,width),\n",
    "batch_size=training_batch_size)"
   ]
  },
  {
   "cell_type": "code",
   "execution_count": 184,
   "metadata": {},
   "outputs": [
    {
     "name": "stdout",
     "output_type": "stream",
     "text": [
      "Found 60 files belonging to 2 classes.\n",
      "Using 12 files for validation.\n"
     ]
    }
   ],
   "source": [
    "validation_set = tf.keras.preprocessing.image_dataset_from_directory(\n",
    "valid_data,\n",
    "validation_split=0.2,\n",
    "subset=\"validation\",\n",
    "seed=123,\n",
    "image_size=(height, width),\n",
    "batch_size=training_batch_size)"
   ]
  },
  {
   "cell_type": "code",
   "execution_count": 185,
   "metadata": {},
   "outputs": [
    {
     "name": "stdout",
     "output_type": "stream",
     "text": [
      "['Dominik', 'unknown']\n",
      "['Dominik', 'unknown']\n"
     ]
    }
   ],
   "source": [
    "image_name_train = train_set.class_names\n",
    "print(image_name_train)\n",
    "image_name_valid = validation_set.class_names\n",
    "print(image_name_valid)"
   ]
  },
  {
   "cell_type": "code",
   "execution_count": 186,
   "metadata": {},
   "outputs": [],
   "source": [
    "dnn_model = Sequential()"
   ]
  },
  {
   "cell_type": "code",
   "execution_count": 187,
   "metadata": {},
   "outputs": [],
   "source": [
    "imported_model= tf.keras.applications.ResNet50(include_top=False,\n",
    "input_shape=(240,240,3),\n",
    "pooling='avg',classes=2,\n",
    "weights='imagenet')\n",
    "for layer in imported_model.layers:\n",
    "    layer.trainable=False"
   ]
  },
  {
   "cell_type": "code",
   "execution_count": 188,
   "metadata": {},
   "outputs": [],
   "source": [
    "dnn_model.add(imported_model)\n",
    "dnn_model.add(Flatten())\n",
    "dnn_model.add(Dense(512, activation='relu'))\n",
    "dnn_model.add(Dense(5, activation='softmax'))"
   ]
  },
  {
   "cell_type": "code",
   "execution_count": 189,
   "metadata": {},
   "outputs": [
    {
     "name": "stdout",
     "output_type": "stream",
     "text": [
      "Model: \"sequential_4\"\n",
      "_________________________________________________________________\n",
      "Layer (type)                 Output Shape              Param #   \n",
      "=================================================================\n",
      "resnet50 (Functional)        (None, 2048)              23587712  \n",
      "_________________________________________________________________\n",
      "flatten_8 (Flatten)          (None, 2048)              0         \n",
      "_________________________________________________________________\n",
      "dense_16 (Dense)             (None, 512)               1049088   \n",
      "_________________________________________________________________\n",
      "dense_17 (Dense)             (None, 5)                 2565      \n",
      "=================================================================\n",
      "Total params: 24,639,365\n",
      "Trainable params: 1,051,653\n",
      "Non-trainable params: 23,587,712\n",
      "_________________________________________________________________\n"
     ]
    }
   ],
   "source": [
    "dnn_model.summary()"
   ]
  },
  {
   "cell_type": "code",
   "execution_count": 190,
   "metadata": {},
   "outputs": [],
   "source": [
    "from tensorflow.keras.optimizers import Adam\n",
    "dnn_model.compile(optimizer=Adam(lr=0.001),loss='sparse_categorical_crossentropy',metrics=['accuracy'])"
   ]
  },
  {
   "cell_type": "code",
   "execution_count": 9,
   "metadata": {},
   "outputs": [],
   "source": [
    "train_set = []\n",
    "for img in glob.glob(\"data/train/Dominik/*.jpg\"):\n",
    "    im = image.load_img(img, target_size=(224, 224))\n",
    "    x = image.img_to_array(im)\n",
    "    train_set.append(image.img_to_array(im))\n",
    "    #train_set.append(np.expand_dims(x, axis=0))\n",
    "\n",
    "for img in glob.glob(\"data/train/unknown/*.jpg\"):\n",
    "    im = image.load_img(img, target_size=(224, 224))\n",
    "    x = image.img_to_array(im)\n",
    "    train_set.append(image.img_to_array(im))\n",
    "    #train_set.append(np.expand_dims(x, axis=0))\n",
    "\n",
    "    \n",
    "    \n",
    "\n",
    "valid_set = []\n",
    "for img in glob.glob(\"data/validation/Dominik/*.jpg\"):\n",
    "    im = image.load_img(img, target_size=(224, 224))\n",
    "    x = image.img_to_array(im)\n",
    "    valid_set.append(image.img_to_array(im))\n",
    "    #valid_set.append(np.expand_dims(x, axis=0))\n",
    "\n",
    "for img in glob.glob(\"data/validation/unknown/*.jpg\"):\n",
    "    im = image.load_img(img, target_size=(224, 224))\n",
    "    x = image.img_to_array(im)\n",
    "    valid_set.append(image.img_to_array(im))\n",
    "    #valid_set.append(np.expand_dims(x, axis=0))\n"
   ]
  },
  {
   "cell_type": "code",
   "execution_count": 191,
   "metadata": {},
   "outputs": [
    {
     "name": "stdout",
     "output_type": "stream",
     "text": [
      "Epoch 1/10\n",
      "5/5 [==============================] - 3s 676ms/step - loss: 0.2839 - accuracy: 0.9236 - val_loss: 3.8809e-05 - val_accuracy: 1.0000\n",
      "Epoch 2/10\n",
      "5/5 [==============================] - 3s 546ms/step - loss: 1.4702e-04 - accuracy: 1.0000 - val_loss: 4.0730e-07 - val_accuracy: 1.0000\n",
      "Epoch 3/10\n",
      "5/5 [==============================] - 3s 537ms/step - loss: 2.0869e-06 - accuracy: 1.0000 - val_loss: 2.9802e-08 - val_accuracy: 1.0000\n",
      "Epoch 4/10\n",
      "5/5 [==============================] - 3s 549ms/step - loss: 3.7335e-07 - accuracy: 1.0000 - val_loss: 0.0000e+00 - val_accuracy: 1.0000\n",
      "Epoch 5/10\n",
      "5/5 [==============================] - 3s 545ms/step - loss: 1.9040e-07 - accuracy: 1.0000 - val_loss: 0.0000e+00 - val_accuracy: 1.0000\n",
      "Epoch 6/10\n",
      "5/5 [==============================] - 3s 530ms/step - loss: 1.0596e-07 - accuracy: 1.0000 - val_loss: 0.0000e+00 - val_accuracy: 1.0000\n",
      "Epoch 7/10\n",
      "5/5 [==============================] - 3s 568ms/step - loss: 7.1194e-08 - accuracy: 1.0000 - val_loss: 0.0000e+00 - val_accuracy: 1.0000\n",
      "Epoch 8/10\n",
      "5/5 [==============================] - 3s 536ms/step - loss: 6.2916e-08 - accuracy: 1.0000 - val_loss: 0.0000e+00 - val_accuracy: 1.0000\n",
      "Epoch 9/10\n",
      "5/5 [==============================] - 3s 546ms/step - loss: 5.2982e-08 - accuracy: 1.0000 - val_loss: 0.0000e+00 - val_accuracy: 1.0000\n",
      "Epoch 10/10\n",
      "5/5 [==============================] - 3s 529ms/step - loss: 5.0498e-08 - accuracy: 1.0000 - val_loss: 0.0000e+00 - val_accuracy: 1.0000\n"
     ]
    }
   ],
   "source": [
    "history = dnn_model.fit(\n",
    "train_set,\n",
    "validation_data=validation_set,\n",
    "epochs=10\n",
    ")"
   ]
  },
  {
   "cell_type": "code",
   "execution_count": 15,
   "metadata": {},
   "outputs": [
    {
     "ename": "error",
     "evalue": "OpenCV(4.6.0) D:\\a\\opencv-python\\opencv-python\\opencv\\modules\\imgproc\\src\\color.cpp:182: error: (-215:Assertion failed) !_src.empty() in function 'cv::cvtColor'\n",
     "output_type": "error",
     "traceback": [
      "\u001b[1;31m---------------------------------------------------------------------------\u001b[0m",
      "\u001b[1;31merror\u001b[0m                                     Traceback (most recent call last)",
      "\u001b[1;32mc:\\Users\\domin\\Documents\\Studium\\Master\\Deep-Learning\\Projekt\\face_recognition\\efficientNet.ipynb Cell 27\u001b[0m in \u001b[0;36m<cell line: 8>\u001b[1;34m()\u001b[0m\n\u001b[0;32m      <a href='vscode-notebook-cell:/c%3A/Users/domin/Documents/Studium/Master/Deep-Learning/Projekt/face_recognition/efficientNet.ipynb#X35sZmlsZQ%3D%3D?line=4'>5</a>\u001b[0m img \u001b[39m=\u001b[39m cv2\u001b[39m.\u001b[39mimread(\u001b[39m'\u001b[39m\u001b[39mPhotos/cric4.jpg\u001b[39m\u001b[39m'\u001b[39m)\n\u001b[0;32m      <a href='vscode-notebook-cell:/c%3A/Users/domin/Documents/Studium/Master/Deep-Learning/Projekt/face_recognition/efficientNet.ipynb#X35sZmlsZQ%3D%3D?line=6'>7</a>\u001b[0m \u001b[39m# Converting image to grayscale\u001b[39;00m\n\u001b[1;32m----> <a href='vscode-notebook-cell:/c%3A/Users/domin/Documents/Studium/Master/Deep-Learning/Projekt/face_recognition/efficientNet.ipynb#X35sZmlsZQ%3D%3D?line=7'>8</a>\u001b[0m gray_img \u001b[39m=\u001b[39m cv2\u001b[39m.\u001b[39;49mcvtColor(img, cv2\u001b[39m.\u001b[39;49mCOLOR_BGR2GRAY)\n\u001b[0;32m     <a href='vscode-notebook-cell:/c%3A/Users/domin/Documents/Studium/Master/Deep-Learning/Projekt/face_recognition/efficientNet.ipynb#X35sZmlsZQ%3D%3D?line=9'>10</a>\u001b[0m \u001b[39m# Loading the required haar-cascade xml classifier file\u001b[39;00m\n\u001b[0;32m     <a href='vscode-notebook-cell:/c%3A/Users/domin/Documents/Studium/Master/Deep-Learning/Projekt/face_recognition/efficientNet.ipynb#X35sZmlsZQ%3D%3D?line=10'>11</a>\u001b[0m haar_cascade \u001b[39m=\u001b[39m cv2\u001b[39m.\u001b[39mCascadeClassifier(\u001b[39m'\u001b[39m\u001b[39mHaarcascade_frontalface_default.xml\u001b[39m\u001b[39m'\u001b[39m)\n",
      "\u001b[1;31merror\u001b[0m: OpenCV(4.6.0) D:\\a\\opencv-python\\opencv-python\\opencv\\modules\\imgproc\\src\\color.cpp:182: error: (-215:Assertion failed) !_src.empty() in function 'cv::cvtColor'\n"
     ]
    }
   ],
   "source": [
    "# Importing OpenCV package\n",
    "import cv2\n",
    "  \n",
    "# Reading the image\n",
    "img = cv2.imread('Photos/cric4.jpg')\n",
    "  \n",
    "# Converting image to grayscale\n",
    "gray_img = cv2.cvtColor(img, cv2.COLOR_BGR2GRAY)\n",
    "  \n",
    "# Loading the required haar-cascade xml classifier file\n",
    "haar_cascade = cv2.CascadeClassifier('Haarcascade_frontalface_default.xml')\n",
    "  \n",
    "# Applying the face detection method on the grayscale image\n",
    "faces_rect = haar_cascade.detectMultiScale(gray_img, 1.1, 9)\n",
    "  \n",
    "# Iterating through rectangles of detected faces\n",
    "for (x, y, w, h) in faces_rect:\n",
    "    cv2.rectangle(img, (x, y), (x+w, y+h), (0, 255, 0), 2)\n",
    "  \n",
    "cv2.imshow('Detected faces', img)\n",
    "  \n",
    "cv2.waitKey(0)"
   ]
  }
 ],
 "metadata": {
  "interpreter": {
   "hash": "9d66b2642a2b12d1d050684366351f1fa3139f1d9f94f759added0be57a80a92"
  },
  "kernelspec": {
   "display_name": "Python 3.8.12 ('tensorflow')",
   "language": "python",
   "name": "python3"
  },
  "language_info": {
   "codemirror_mode": {
    "name": "ipython",
    "version": 3
   },
   "file_extension": ".py",
   "mimetype": "text/x-python",
   "name": "python",
   "nbconvert_exporter": "python",
   "pygments_lexer": "ipython3",
   "version": "3.8.12"
  },
  "orig_nbformat": 4
 },
 "nbformat": 4,
 "nbformat_minor": 2
}
