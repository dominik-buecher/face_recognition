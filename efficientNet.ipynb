{
 "cells": [
  {
   "attachments": {},
   "cell_type": "markdown",
   "metadata": {},
   "source": [
    "https://data-science-blog.com/blog/2022/04/11/how-to-choose-the-best-pre-trained-model-for-your-convolutional-neural-network/\n",
    "https://www.analyticsvidhya.com/blog/2020/08/top-4-pre-trained-models-for-image-classification-with-python-code/"
   ]
  },
  {
   "cell_type": "code",
   "execution_count": 2,
   "metadata": {},
   "outputs": [
    {
     "name": "stdout",
     "output_type": "stream",
     "text": [
      "Collecting fast_ml\n",
      "  Using cached fast_ml-3.68-py3-none-any.whl (42 kB)\n",
      "Installing collected packages: fast-ml\n",
      "Successfully installed fast-ml-3.68\n",
      "Note: you may need to restart the kernel to use updated packages.\n"
     ]
    }
   ],
   "source": [
    "%pip install fast_ml"
   ]
  },
  {
   "cell_type": "code",
   "execution_count": 3,
   "metadata": {},
   "outputs": [
    {
     "name": "stdout",
     "output_type": "stream",
     "text": [
      "Collecting efficientnet\n",
      "  Using cached efficientnet-1.1.1-py3-none-any.whl (18 kB)\n",
      "Requirement already satisfied: keras-applications<=1.0.8,>=1.0.7 in c:\\users\\dominik\\anaconda3\\envs\\tensorflow\\lib\\site-packages (from efficientnet) (1.0.8)\n",
      "Requirement already satisfied: scikit-image in c:\\users\\dominik\\anaconda3\\envs\\tensorflow\\lib\\site-packages (from efficientnet) (0.18.3)\n",
      "Requirement already satisfied: numpy>=1.9.1 in c:\\users\\dominik\\anaconda3\\envs\\tensorflow\\lib\\site-packages (from keras-applications<=1.0.8,>=1.0.7->efficientnet) (1.19.2)\n",
      "Requirement already satisfied: h5py in c:\\users\\dominik\\anaconda3\\envs\\tensorflow\\lib\\site-packages (from keras-applications<=1.0.8,>=1.0.7->efficientnet) (2.10.0)\n",
      "Requirement already satisfied: six in c:\\users\\dominik\\anaconda3\\envs\\tensorflow\\lib\\site-packages (from h5py->keras-applications<=1.0.8,>=1.0.7->efficientnet) (1.16.0)\n",
      "Requirement already satisfied: scipy>=1.0.1 in c:\\users\\dominik\\anaconda3\\envs\\tensorflow\\lib\\site-packages (from scikit-image->efficientnet) (1.6.2)\n",
      "Requirement already satisfied: matplotlib!=3.0.0,>=2.0.0 in c:\\users\\dominik\\anaconda3\\envs\\tensorflow\\lib\\site-packages (from scikit-image->efficientnet) (3.5.1)\n",
      "Requirement already satisfied: networkx>=2.0 in c:\\users\\dominik\\anaconda3\\envs\\tensorflow\\lib\\site-packages (from scikit-image->efficientnet) (2.6.3)\n",
      "Requirement already satisfied: pillow!=7.1.0,!=7.1.1,>=4.3.0 in c:\\users\\dominik\\anaconda3\\envs\\tensorflow\\lib\\site-packages (from scikit-image->efficientnet) (8.4.0)\n",
      "Requirement already satisfied: imageio>=2.3.0 in c:\\users\\dominik\\anaconda3\\envs\\tensorflow\\lib\\site-packages (from scikit-image->efficientnet) (2.9.0)\n",
      "Requirement already satisfied: tifffile>=2019.7.26 in c:\\users\\dominik\\anaconda3\\envs\\tensorflow\\lib\\site-packages (from scikit-image->efficientnet) (2021.7.2)\n",
      "Requirement already satisfied: PyWavelets>=1.1.1 in c:\\users\\dominik\\anaconda3\\envs\\tensorflow\\lib\\site-packages (from scikit-image->efficientnet) (1.1.1)\n",
      "Requirement already satisfied: packaging>=20.0 in c:\\users\\dominik\\anaconda3\\envs\\tensorflow\\lib\\site-packages (from matplotlib!=3.0.0,>=2.0.0->scikit-image->efficientnet) (21.3)\n",
      "Requirement already satisfied: pyparsing>=2.2.1 in c:\\users\\dominik\\anaconda3\\envs\\tensorflow\\lib\\site-packages (from matplotlib!=3.0.0,>=2.0.0->scikit-image->efficientnet) (3.0.4)\n",
      "Requirement already satisfied: kiwisolver>=1.0.1 in c:\\users\\dominik\\anaconda3\\envs\\tensorflow\\lib\\site-packages (from matplotlib!=3.0.0,>=2.0.0->scikit-image->efficientnet) (1.3.2)\n",
      "Requirement already satisfied: python-dateutil>=2.7 in c:\\users\\dominik\\anaconda3\\envs\\tensorflow\\lib\\site-packages (from matplotlib!=3.0.0,>=2.0.0->scikit-image->efficientnet) (2.8.2)\n",
      "Requirement already satisfied: cycler>=0.10 in c:\\users\\dominik\\anaconda3\\envs\\tensorflow\\lib\\site-packages (from matplotlib!=3.0.0,>=2.0.0->scikit-image->efficientnet) (0.11.0)\n",
      "Requirement already satisfied: fonttools>=4.22.0 in c:\\users\\dominik\\anaconda3\\envs\\tensorflow\\lib\\site-packages (from matplotlib!=3.0.0,>=2.0.0->scikit-image->efficientnet) (4.25.0)\n",
      "Installing collected packages: efficientnet\n",
      "Successfully installed efficientnet-1.1.1\n",
      "Note: you may need to restart the kernel to use updated packages.\n"
     ]
    }
   ],
   "source": [
    "%pip install -U efficientnet\n"
   ]
  },
  {
   "cell_type": "code",
   "execution_count": 1,
   "metadata": {},
   "outputs": [],
   "source": [
    "# import the necessary packages\n",
    "import os\n",
    "import zipfile\n",
    "# import matplotlib as plt\n",
    "import matplotlib.pyplot as plt\n",
    "import tensorflow as tf\n",
    "import cv2\n",
    "\n",
    "# from pyimagesearch.resnet import ResNet\n",
    "from sklearn.preprocessing import LabelEncoder\n",
    "from sklearn.model_selection import train_test_split\n",
    "from sklearn.metrics import classification_report\n",
    "from tensorflow.keras.preprocessing.image import ImageDataGenerator\n",
    "from tensorflow.keras.optimizers import SGD\n",
    "from tensorflow.keras import layers, Model\n",
    "from tensorflow.keras.layers import Dropout, Flatten, Dense\n",
    "#from keras import optimizers\n",
    "from tensorflow.keras import optimizers\n",
    "\n",
    "from numpy import expand_dims\n",
    "from keras.preprocessing.image import load_img\n",
    "from keras.preprocessing.image import img_to_array, array_to_img\n",
    "from matplotlib import pyplot\n",
    "import efficientnet.keras as efn\n",
    "\n",
    "from tensorflow.keras.applications.vgg16 import VGG16\n"
   ]
  },
  {
   "cell_type": "code",
   "execution_count": 2,
   "metadata": {},
   "outputs": [
    {
     "name": "stdout",
     "output_type": "stream",
     "text": [
      "unzipping C:/Users/Dominik/Documents/Studium/Master/Deep-Learning/Datensatz.zip\n",
      "/tmp/Datensatz/Datensatz/\n",
      "train    : 535 image paths\n"
     ]
    }
   ],
   "source": [
    "################ Unzip the dataset in the Colab runtime #################\n",
    "import glob\n",
    "import zipfile\n",
    "zip_file_path = \"C:/Users/Dominik/Documents/Studium/Master/Deep-Learning/Datensatz.zip\"\n",
    "\n",
    "pathToZip = os.path.join(zip_file_path)\n",
    "\n",
    "print(\"unzipping {}\".format(pathToZip))\n",
    "\n",
    "pathToData = \"/tmp/Datensatz\"\n",
    "with zipfile.ZipFile(pathToZip, 'r') as zip_ref:\n",
    "    zip_ref.extractall(pathToData)\n",
    "\n",
    "# training images\n",
    "data    = glob.glob(os.path.join(pathToData, \"Datensatz/\" + \"*.jpeg\"))\n",
    "# test images\n",
    "#test    = glob.glob(os.path.join(pathToData, \"Datensatz/test/\" + \"*.jpg\"))\n",
    "\n",
    "print(pathToData + \"/Datensatz/\") #/train\n",
    "print(\"train    : {} image paths\".format(len(data)))\n",
    "#print(\"train    : {} image paths\".format(len(test)))\n"
   ]
  },
  {
   "cell_type": "code",
   "execution_count": 4,
   "metadata": {},
   "outputs": [
    {
     "name": "stdout",
     "output_type": "stream",
     "text": [
      "list:  535\n",
      "<PIL.JpegImagePlugin.JpegImageFile image mode=RGB size=2316x2316 at 0x28505B4B5E0>\n"
     ]
    }
   ],
   "source": [
    "from PIL import Image\n",
    "import glob\n",
    "image_list = []\n",
    "for filename in glob.glob(\"/tmp/Datensatz/Datensatz/\" + \"*.jpeg\"): #assuming gif\n",
    "    im=Image.open(filename)\n",
    "    \n",
    "    image_list.append(im)\n",
    "\n",
    "print(\"list: \", len(image_list))\n",
    "print(image_list[0])"
   ]
  },
  {
   "attachments": {},
   "cell_type": "markdown",
   "metadata": {},
   "source": [
    "https://qmul-tinyface.github.io/"
   ]
  },
  {
   "cell_type": "code",
   "execution_count": null,
   "metadata": {},
   "outputs": [],
   "source": []
  },
  {
   "cell_type": "code",
   "execution_count": 5,
   "metadata": {},
   "outputs": [],
   "source": [
    "import numpy as np\n",
    "samples = []\n",
    "for i in range(len(image_list)):\n",
    "        temp_data = img_to_array(image_list[i])\n",
    "        # normalize image\n",
    "        # print(\"data: \", data)\n",
    "        # normalize image\n",
    "        img_norm = cv2.normalize(temp_data, None, alpha=0, beta=1, norm_type=cv2.NORM_MINMAX, dtype=cv2.CV_32F)\n",
    "        \n",
    "        # print(\"norm: \", img_norm)\n",
    "        # expand dimension to one sample\n",
    "        # samples.append(expand_dims(img_norm, 0))\n",
    "        samples.append(array_to_img(img_norm))\n",
    "       \n"
   ]
  },
  {
   "cell_type": "code",
   "execution_count": 6,
   "metadata": {},
   "outputs": [
    {
     "name": "stdout",
     "output_type": "stream",
     "text": [
      "<PIL.Image.Image image mode=RGB size=1170x2532 at 0x2850660B3A0>\n"
     ]
    }
   ],
   "source": [
    "import pandas as pd\n",
    "from sklearn.model_selection import train_test_split\n",
    "\n",
    "# Let's say we want to split the data in 80:10:10 for train:valid:test dataset\n",
    "train_size=0.8\n",
    "y = []\n",
    "\n",
    "for i in range(len(samples)):\n",
    "    y.append('Dominik')\n",
    "\n",
    "\n",
    "# In the first step we will split the data in training and remaining dataset\n",
    "X_train, X_rem, y_train, y_rem = train_test_split(samples,y, train_size=0.7)\n",
    "\n",
    "# Now since we want the valid and test size to be equal (10% each of overall data). \n",
    "# we have to define valid_size=0.5 (that is 50% of remaining data)\n",
    "test_size = 0.5\n",
    "X_valid, X_test, y_valid, y_test = train_test_split(X_rem,y_rem, test_size=0.5)\n"
   ]
  },
  {
   "cell_type": "code",
   "execution_count": 7,
   "metadata": {},
   "outputs": [],
   "source": [
    "X_train_resized = []\n",
    "X_val_resized = []\n",
    "\n",
    "for i in range(len(X_train)):\n",
    "    X_train_resized.append(X_train[i].resize([224,224]))\n",
    "\n",
    "for i in range(len(X_valid)):\n",
    "    X_val_resized.append(X_valid[i].resize([224,224]))"
   ]
  },
  {
   "cell_type": "code",
   "execution_count": 8,
   "metadata": {},
   "outputs": [
    {
     "data": {
      "image/png": "[encoded data removed]",
      "text/plain": [
       "<Figure size 900x300 with 1 Axes>"
      ]
     },
     "metadata": {},
     "output_type": "display_data"
    }
   ],
   "source": [
    "names = ['train', 'validation', 'test']\n",
    "values = [len(X_train), len(X_valid), len(X_test)]\n",
    "\n",
    "plt.figure(figsize=(9, 3))\n",
    "plt.bar(names, values, color='blue',edgecolor='black')\n",
    "plt.show()"
   ]
  },
  {
   "cell_type": "code",
   "execution_count": 9,
   "metadata": {},
   "outputs": [],
   "source": [
    "for i in range(len(X_train)):\n",
    "    X_train_resized[i].save(r'C:\\Users\\Dominik\\Documents\\Studium\\Master\\Deep-Learning\\face_recognition\\data\\train\\Dominik\\image_' +str(i) +'.jpg', 'JPEG')\n",
    "\n",
    "    \n",
    "for i in range(len(X_valid)):\n",
    "    X_val_resized[i].save(r'C:\\Users\\Dominik\\Documents\\Studium\\Master\\Deep-Learning\\face_recognition\\data\\validation\\Dominik\\image_' +str(i) +'.jpg', 'JPEG')\n",
    "\n",
    "for i in range(len(X_test)):\n",
    "    X_test[i].save(r'C:\\Users\\Dominik\\Documents\\Studium\\Master\\Deep-Learning\\face_recognition\\data\\test\\Dominik\\image_' +str(i) +'.jpg', 'JPEG')\n",
    "    "
   ]
  },
  {
   "cell_type": "code",
   "execution_count": 10,
   "metadata": {},
   "outputs": [
    {
     "name": "stdout",
     "output_type": "stream",
     "text": [
      "Found 374 images belonging to 2 classes.\n",
      "Found 80 images belonging to 2 classes.\n"
     ]
    }
   ],
   "source": [
    "train_datagen = ImageDataGenerator(width_shift_range = 0.1, height_shift_range = 0.1, horizontal_flip = True ,rotation_range=30, brightness_range=[0.4,1.2], zoom_range=[0.6,1.0], fill_mode='reflect')\n",
    "validation_datagen = ImageDataGenerator(width_shift_range = 0.1, height_shift_range = 0.1, horizontal_flip = True ,rotation_range=30, brightness_range=[0.4,1.2], zoom_range=[0.6,1.0], fill_mode='reflect')\n",
    "\n",
    "path_train = \"data/train/\"\n",
    "train_generator = train_datagen.flow_from_directory(path_train, batch_size = 1, class_mode = 'binary', target_size = (224, 224))\n",
    "_, _, files_train = next(os.walk(\"data/train/Dominik\"))\n",
    "number_augmented_train = len(files_train)*3\n",
    "\n",
    "for i in range(len(files_train)*3):\n",
    "    # generate batch of images\n",
    "    batch = train_generator.next()\n",
    "    squeeze_array = np.squeeze(batch[0], axis=(0))\n",
    "    im = array_to_img(squeeze_array, scale=False)\n",
    "    im.save(r'C:\\Users\\Dominik\\Documents\\Studium\\Master\\Deep-Learning\\face_recognition\\data\\train\\Dominik\\augmented_image_'+ str(i)+ '.jpg')\n",
    "\n",
    "\n",
    "\n",
    "path_validation = \"data/validation/\"\n",
    "validation_generator = validation_datagen.flow_from_directory(path_validation, batch_size = 1, class_mode = 'binary', target_size = (224, 224))\n",
    "_, _, files_validation = next(os.walk(\"data/validation/Dominik\"))\n",
    "number_augmented_validation = len(files_validation)*2\n",
    "\n",
    "for i in range(len(files_validation)*2):\n",
    "    # generate batch of images\n",
    "    batch = train_generator.next()\n",
    "    squeeze_array = np.squeeze(batch[0], axis=(0))\n",
    "    im = array_to_img(squeeze_array, scale=False)\n",
    "    im.save(r'C:\\Users\\Dominik\\Documents\\Studium\\Master\\Deep-Learning\\face_recognition\\data\\validation\\Dominik\\augmented_image_'+ str(i)+ '.jpg')\n",
    "\n"
   ]
  },
  {
   "cell_type": "markdown",
   "metadata": {},
   "source": []
  },
  {
   "cell_type": "code",
   "execution_count": 11,
   "metadata": {},
   "outputs": [
    {
     "data": {
      "image/png": "[encoded data removed]",
      "text/plain": [
       "<Figure size 900x300 with 1 Axes>"
      ]
     },
     "metadata": {},
     "output_type": "display_data"
    }
   ],
   "source": [
    "names = ['train', 'validation']\n",
    "values = [number_augmented_train, number_augmented_validation]\n",
    "\n",
    "plt.figure(figsize=(9, 3))\n",
    "plt.bar(names, values, color='blue',edgecolor='black')\n",
    "plt.ylabel('Number Images')\n",
    "plt.title('Augmented Data')\n",
    "plt.show()"
   ]
  },
  {
   "cell_type": "code",
   "execution_count": 12,
   "metadata": {},
   "outputs": [
    {
     "data": {
      "image/png": "[encoded data removed]",
      "text/plain": [
       "<Figure size 640x480 with 1 Axes>"
      ]
     },
     "metadata": {},
     "output_type": "display_data"
    }
   ],
   "source": [
    "import matplotlib.pyplot as plt\n",
    "import numpy as np\n",
    " \n",
    "split=['train', 'validation', 'test']\n",
    "data_origin=['Original data','Augmented data']\n",
    "pos = np.arange(len(split))\n",
    "vales_og = [len(X_train), len(X_valid), len(X_test)]\n",
    "values_augmented = [number_augmented_train, number_augmented_validation, 0]\n",
    "\n",
    "plt.bar(pos,vales_og,color='blue',edgecolor='black')\n",
    "plt.bar(pos,values_augmented,color='orange',edgecolor='black',bottom=vales_og)\n",
    "plt.xticks(pos, split)\n",
    "plt.ylabel('Number of Images', fontsize=16)\n",
    "plt.title('Dataset with augmented data',fontsize=18)\n",
    "plt.legend(data_origin)\n",
    "plt.show()"
   ]
  },
  {
   "cell_type": "code",
   "execution_count": 13,
   "metadata": {},
   "outputs": [],
   "source": [
    "# Step 2: Loading the Base Model\n",
    "# sampleImage = []\n",
    "# for i in range(len(train)):\n",
    "#     sampleImage.append(cv2.imread(train[i]))\n",
    "#print(\"sampleImage: \", sampleImage[2])\n",
    "#train_dat, train_generator = image_augmentation(sampleImage)\n",
    "\n",
    "base_model = efn.EfficientNetB7(input_shape = (224, 224, 3), include_top = False, weights = 'imagenet')"
   ]
  },
  {
   "cell_type": "code",
   "execution_count": 14,
   "metadata": {},
   "outputs": [],
   "source": [
    "# Again, let us freeze the layers:\n",
    "for layer in base_model.layers:\n",
    "    layer.trainable = False"
   ]
  },
  {
   "cell_type": "code",
   "execution_count": 15,
   "metadata": {},
   "outputs": [],
   "source": [
    "# Step 3: Build the model\n",
    "\n",
    "x = base_model.output\n",
    "y = base_model.input\n",
    "x = Flatten()(x)\n",
    "x = Dense(1024, activation=\"relu\")(x)\n",
    "x = Dropout(0.5)(x)\n",
    "\n",
    "# Add a final sigmoid layer with 1 node for classification output\n",
    "predictions = Dense(1, activation=\"sigmoid\")(x)\n",
    "model_final = Model(y, predictions) #base_model.input"
   ]
  },
  {
   "cell_type": "code",
   "execution_count": 16,
   "metadata": {},
   "outputs": [],
   "source": [
    "# Step 4: Compile and Fit\n",
    "\n",
    "model_final.compile(optimizers.RMSprop(lr=0.0001, decay=1e-6),loss='binary_crossentropy',metrics=['accuracy'])"
   ]
  },
  {
   "attachments": {},
   "cell_type": "markdown",
   "metadata": {},
   "source": [
    "Batch-Size: Think of a batch as a for-loop iterating over one or more samples and making predictions. At the end of the batch, the    predictions are compared to the expected output variables and an error is calculated. From this error, the update algorithm is used to improve the model, e.g. move down along the error gradient.\n",
    "-What if the dataset does not divide evenly by the batch size?\n",
    "    --> This can and does happen often when training a model. It simply means that the final batch has fewer samples than the other batches.\n",
    "\n",
    "Epochen: The number of epochs is a hyperparameter that defines the number times that the learning algorithm will work through the entire training dataset.\n",
    "\n",
    "One epoch means that each sample in the training dataset has had an opportunity to update the internal model parameters. An epoch is comprised of one or more batches. For example, as above, an epoch that has one batch is called the batch gradient descent learning algorithm.\n",
    "\n",
    "You can think of a for-loop over the number of epochs where each loop proceeds over the training dataset. Within this for-loop is another nested for-loop that iterates over each batch of samples, where one batch has the specified “batch size” number of samples.\n",
    "\n",
    "The batch size is a number of samples processed before the model is updated.\n",
    "\n",
    "The number of epochs is the number of complete passes through the training dataset.\n",
    "\n",
    "\n",
    "Steps_per_epoch: Total number of steps (batches of samples)\n",
    "            before declaring one epoch finished and starting the\n",
    "            next epoch. When training with input tensors such as\n",
    "            TensorFlow data tensors, the default `None` is equal to\n",
    "            the number of samples in your dataset divided by\n",
    "            the batch size, or 1 if that cannot be determined. If x is a\n",
    "            `tf.data` dataset, and 'steps_per_epoch'\n",
    "            is None, the epoch will run until the input dataset is exhausted.\n",
    "            When passing an infinitely repeating dataset, you must specify the\n",
    "            `steps_per_epoch` argument."
   ]
  },
  {
   "cell_type": "code",
   "execution_count": 27,
   "metadata": {},
   "outputs": [
    {
     "name": "stdout",
     "output_type": "stream",
     "text": [
      "list:  1496\n",
      "list:  240\n",
      "(1, 224, 224, 3)\n"
     ]
    }
   ],
   "source": [
    "\n",
    "array_list_train = []\n",
    "train_arr = []\n",
    "for filename in glob.glob(\"C:/Users/Dominik/Documents/Studium/Master/Deep-Learning/face_recognition/data/train/Dominik/\" + \"*.jpg\"): #assuming gif\n",
    "    im=Image.open(filename)\n",
    "   \n",
    "    #array_list_train.append(img_to_array(im))\n",
    "    train_arr.append(np.expand_dims(img_to_array(im), axis=0))\n",
    "print(\"list: \", len(train_arr))\n",
    "\n",
    "\n",
    "\n",
    "array_list_val= []\n",
    "val_arr = []\n",
    "for filename in glob.glob(\"C:/Users/Dominik/Documents/Studium/Master/Deep-Learning/face_recognition/data/validation/Dominik/\" + \"*.jpg\"): #assuming gif\n",
    "    im=Image.open(filename)\n",
    "    \n",
    "    #array_list_val.append(img_to_array(im))\n",
    "    val_arr.append(np.expand_dims(img_to_array(im), axis=0))\n",
    "print(\"list: \", len(val_arr))\n",
    "print(val_arr[0].shape)\n"
   ]
  },
  {
   "cell_type": "code",
   "execution_count": 37,
   "metadata": {},
   "outputs": [
    {
     "name": "stdout",
     "output_type": "stream",
     "text": [
      "Found 1496 images belonging to 2 classes.\n",
      "Found 240 images belonging to 2 classes.\n"
     ]
    }
   ],
   "source": [
    "train_dir = \"data/train/\"\n",
    "train_datagen = ImageDataGenerator()\n",
    "train_generator = train_datagen.flow_from_directory(train_dir, batch_size = 20, class_mode = 'binary', target_size = (224, 224))\n",
    "\n",
    "val_dir = \"data/validation/\"\n",
    "val_datagen = ImageDataGenerator()\n",
    "val_generator = val_datagen.flow_from_directory(val_dir, batch_size = 20, class_mode = 'binary', target_size = (224, 224))\n"
   ]
  },
  {
   "cell_type": "code",
   "execution_count": 38,
   "metadata": {},
   "outputs": [
    {
     "name": "stdout",
     "output_type": "stream",
     "text": [
      "Epoch 1/10\n"
     ]
    },
    {
     "ename": "ValueError",
     "evalue": "Creating variables on a non-first call to a function decorated with tf.function.",
     "output_type": "error",
     "traceback": [
      "\u001b[1;31m---------------------------------------------------------------------------\u001b[0m",
      "\u001b[1;31mValueError\u001b[0m                                Traceback (most recent call last)",
      "\u001b[1;32mc:\\Users\\Dominik\\Documents\\Studium\\Master\\Deep-Learning\\face_recognition\\efficientNet.ipynb Cell 23\u001b[0m in \u001b[0;36m<cell line: 1>\u001b[1;34m()\u001b[0m\n\u001b[1;32m----> <a href='vscode-notebook-cell:/c%3A/Users/Dominik/Documents/Studium/Master/Deep-Learning/face_recognition/efficientNet.ipynb#X30sZmlsZQ%3D%3D?line=0'>1</a>\u001b[0m eff_history \u001b[39m=\u001b[39m model_final\u001b[39m.\u001b[39;49mfit(train_generator, validation_data \u001b[39m=\u001b[39;49m val_generator, steps_per_epoch \u001b[39m=\u001b[39;49m \u001b[39m100\u001b[39;49m, epochs \u001b[39m=\u001b[39;49m \u001b[39m10\u001b[39;49m)\n",
      "File \u001b[1;32mc:\\Users\\Dominik\\anaconda3\\envs\\tensorflow\\lib\\site-packages\\tensorflow\\python\\keras\\engine\\training.py:108\u001b[0m, in \u001b[0;36menable_multi_worker.<locals>._method_wrapper\u001b[1;34m(self, *args, **kwargs)\u001b[0m\n\u001b[0;32m    106\u001b[0m \u001b[39mdef\u001b[39;00m \u001b[39m_method_wrapper\u001b[39m(\u001b[39mself\u001b[39m, \u001b[39m*\u001b[39margs, \u001b[39m*\u001b[39m\u001b[39m*\u001b[39mkwargs):\n\u001b[0;32m    107\u001b[0m   \u001b[39mif\u001b[39;00m \u001b[39mnot\u001b[39;00m \u001b[39mself\u001b[39m\u001b[39m.\u001b[39m_in_multi_worker_mode():  \u001b[39m# pylint: disable=protected-access\u001b[39;00m\n\u001b[1;32m--> 108\u001b[0m     \u001b[39mreturn\u001b[39;00m method(\u001b[39mself\u001b[39;49m, \u001b[39m*\u001b[39;49margs, \u001b[39m*\u001b[39;49m\u001b[39m*\u001b[39;49mkwargs)\n\u001b[0;32m    110\u001b[0m   \u001b[39m# Running inside `run_distribute_coordinator` already.\u001b[39;00m\n\u001b[0;32m    111\u001b[0m   \u001b[39mif\u001b[39;00m dc_context\u001b[39m.\u001b[39mget_current_worker_context():\n",
      "File \u001b[1;32mc:\\Users\\Dominik\\anaconda3\\envs\\tensorflow\\lib\\site-packages\\tensorflow\\python\\keras\\engine\\training.py:1098\u001b[0m, in \u001b[0;36mModel.fit\u001b[1;34m(self, x, y, batch_size, epochs, verbose, callbacks, validation_split, validation_data, shuffle, class_weight, sample_weight, initial_epoch, steps_per_epoch, validation_steps, validation_batch_size, validation_freq, max_queue_size, workers, use_multiprocessing)\u001b[0m\n\u001b[0;32m   1091\u001b[0m \u001b[39mwith\u001b[39;00m trace\u001b[39m.\u001b[39mTrace(\n\u001b[0;32m   1092\u001b[0m     \u001b[39m'\u001b[39m\u001b[39mTraceContext\u001b[39m\u001b[39m'\u001b[39m,\n\u001b[0;32m   1093\u001b[0m     graph_type\u001b[39m=\u001b[39m\u001b[39m'\u001b[39m\u001b[39mtrain\u001b[39m\u001b[39m'\u001b[39m,\n\u001b[0;32m   1094\u001b[0m     epoch_num\u001b[39m=\u001b[39mepoch,\n\u001b[0;32m   1095\u001b[0m     step_num\u001b[39m=\u001b[39mstep,\n\u001b[0;32m   1096\u001b[0m     batch_size\u001b[39m=\u001b[39mbatch_size):\n\u001b[0;32m   1097\u001b[0m   callbacks\u001b[39m.\u001b[39mon_train_batch_begin(step)\n\u001b[1;32m-> 1098\u001b[0m   tmp_logs \u001b[39m=\u001b[39m train_function(iterator)\n\u001b[0;32m   1099\u001b[0m   \u001b[39mif\u001b[39;00m data_handler\u001b[39m.\u001b[39mshould_sync:\n\u001b[0;32m   1100\u001b[0m     context\u001b[39m.\u001b[39masync_wait()\n",
      "File \u001b[1;32mc:\\Users\\Dominik\\anaconda3\\envs\\tensorflow\\lib\\site-packages\\tensorflow\\python\\eager\\def_function.py:780\u001b[0m, in \u001b[0;36mFunction.__call__\u001b[1;34m(self, *args, **kwds)\u001b[0m\n\u001b[0;32m    778\u001b[0m \u001b[39melse\u001b[39;00m:\n\u001b[0;32m    779\u001b[0m   compiler \u001b[39m=\u001b[39m \u001b[39m\"\u001b[39m\u001b[39mnonXla\u001b[39m\u001b[39m\"\u001b[39m\n\u001b[1;32m--> 780\u001b[0m   result \u001b[39m=\u001b[39m \u001b[39mself\u001b[39;49m\u001b[39m.\u001b[39;49m_call(\u001b[39m*\u001b[39;49margs, \u001b[39m*\u001b[39;49m\u001b[39m*\u001b[39;49mkwds)\n\u001b[0;32m    782\u001b[0m new_tracing_count \u001b[39m=\u001b[39m \u001b[39mself\u001b[39m\u001b[39m.\u001b[39m_get_tracing_count()\n\u001b[0;32m    783\u001b[0m without_tracing \u001b[39m=\u001b[39m (tracing_count \u001b[39m==\u001b[39m new_tracing_count)\n",
      "File \u001b[1;32mc:\\Users\\Dominik\\anaconda3\\envs\\tensorflow\\lib\\site-packages\\tensorflow\\python\\eager\\def_function.py:816\u001b[0m, in \u001b[0;36mFunction._call\u001b[1;34m(self, *args, **kwds)\u001b[0m\n\u001b[0;32m    814\u001b[0m   results \u001b[39m=\u001b[39m \u001b[39mself\u001b[39m\u001b[39m.\u001b[39m_stateful_fn(\u001b[39m*\u001b[39margs, \u001b[39m*\u001b[39m\u001b[39m*\u001b[39mkwds)\n\u001b[0;32m    815\u001b[0m   \u001b[39mif\u001b[39;00m \u001b[39mself\u001b[39m\u001b[39m.\u001b[39m_created_variables:\n\u001b[1;32m--> 816\u001b[0m     \u001b[39mraise\u001b[39;00m \u001b[39mValueError\u001b[39;00m(\u001b[39m\"\u001b[39m\u001b[39mCreating variables on a non-first call to a function\u001b[39m\u001b[39m\"\u001b[39m\n\u001b[0;32m    817\u001b[0m                      \u001b[39m\"\u001b[39m\u001b[39m decorated with tf.function.\u001b[39m\u001b[39m\"\u001b[39m)\n\u001b[0;32m    818\u001b[0m   \u001b[39mreturn\u001b[39;00m results\n\u001b[0;32m    820\u001b[0m \u001b[39mtry\u001b[39;00m:\n\u001b[0;32m    821\u001b[0m   \u001b[39m# This is the first call of __call__, so we have to initialize.\u001b[39;00m\n",
      "\u001b[1;31mValueError\u001b[0m: Creating variables on a non-first call to a function decorated with tf.function."
     ]
    }
   ],
   "source": [
    "eff_history = model_final.fit(train_generator, validation_data = val_generator, steps_per_epoch = 100, epochs = 10)"
   ]
  },
  {
   "cell_type": "code",
   "execution_count": 20,
   "metadata": {},
   "outputs": [
    {
     "name": "stdout",
     "output_type": "stream",
     "text": [
      "Epoch 1/10\n"
     ]
    },
    {
     "ename": "TypeError",
     "evalue": "'NoneType' object is not callable",
     "output_type": "error",
     "traceback": [
      "\u001b[1;31m---------------------------------------------------------------------------\u001b[0m",
      "\u001b[1;31mTypeError\u001b[0m                                 Traceback (most recent call last)",
      "\u001b[1;32mc:\\Users\\domin\\Documents\\Studium\\Master\\Deep-Learning\\Projekt\\face_recognition\\efficientNet.ipynb Cell 15\u001b[0m in \u001b[0;36m<cell line: 3>\u001b[1;34m()\u001b[0m\n\u001b[0;32m      <a href='vscode-notebook-cell:/c%3A/Users/domin/Documents/Studium/Master/Deep-Learning/Projekt/face_recognition/efficientNet.ipynb#X15sZmlsZQ%3D%3D?line=0'>1</a>\u001b[0m \u001b[39m# We finally fit the model on our data:\u001b[39;00m\n\u001b[1;32m----> <a href='vscode-notebook-cell:/c%3A/Users/domin/Documents/Studium/Master/Deep-Learning/Projekt/face_recognition/efficientNet.ipynb#X15sZmlsZQ%3D%3D?line=2'>3</a>\u001b[0m eff_history \u001b[39m=\u001b[39m model_final\u001b[39m.\u001b[39;49mfit(train_generator, validation_data \u001b[39m=\u001b[39;49m train_generator, steps_per_epoch \u001b[39m=\u001b[39;49m \u001b[39m2\u001b[39;49m, epochs \u001b[39m=\u001b[39;49m \u001b[39m10\u001b[39;49m)\n",
      "File \u001b[1;32mc:\\Users\\domin\\anaconda3\\envs\\tensorflow1\\lib\\site-packages\\tensorflow\\python\\keras\\engine\\training.py:1183\u001b[0m, in \u001b[0;36mModel.fit\u001b[1;34m(self, x, y, batch_size, epochs, verbose, callbacks, validation_split, validation_data, shuffle, class_weight, sample_weight, initial_epoch, steps_per_epoch, validation_steps, validation_batch_size, validation_freq, max_queue_size, workers, use_multiprocessing)\u001b[0m\n\u001b[0;32m   1176\u001b[0m \u001b[39mwith\u001b[39;00m trace\u001b[39m.\u001b[39mTrace(\n\u001b[0;32m   1177\u001b[0m     \u001b[39m'\u001b[39m\u001b[39mtrain\u001b[39m\u001b[39m'\u001b[39m,\n\u001b[0;32m   1178\u001b[0m     epoch_num\u001b[39m=\u001b[39mepoch,\n\u001b[0;32m   1179\u001b[0m     step_num\u001b[39m=\u001b[39mstep,\n\u001b[0;32m   1180\u001b[0m     batch_size\u001b[39m=\u001b[39mbatch_size,\n\u001b[0;32m   1181\u001b[0m     _r\u001b[39m=\u001b[39m\u001b[39m1\u001b[39m):\n\u001b[0;32m   1182\u001b[0m   callbacks\u001b[39m.\u001b[39mon_train_batch_begin(step)\n\u001b[1;32m-> 1183\u001b[0m   tmp_logs \u001b[39m=\u001b[39m \u001b[39mself\u001b[39;49m\u001b[39m.\u001b[39;49mtrain_function(iterator)\n\u001b[0;32m   1184\u001b[0m   \u001b[39mif\u001b[39;00m data_handler\u001b[39m.\u001b[39mshould_sync:\n\u001b[0;32m   1185\u001b[0m     context\u001b[39m.\u001b[39masync_wait()\n",
      "File \u001b[1;32mc:\\Users\\domin\\anaconda3\\envs\\tensorflow1\\lib\\site-packages\\tensorflow\\python\\eager\\def_function.py:889\u001b[0m, in \u001b[0;36mFunction.__call__\u001b[1;34m(self, *args, **kwds)\u001b[0m\n\u001b[0;32m    886\u001b[0m compiler \u001b[39m=\u001b[39m \u001b[39m\"\u001b[39m\u001b[39mxla\u001b[39m\u001b[39m\"\u001b[39m \u001b[39mif\u001b[39;00m \u001b[39mself\u001b[39m\u001b[39m.\u001b[39m_jit_compile \u001b[39melse\u001b[39;00m \u001b[39m\"\u001b[39m\u001b[39mnonXla\u001b[39m\u001b[39m\"\u001b[39m\n\u001b[0;32m    888\u001b[0m \u001b[39mwith\u001b[39;00m OptionalXlaContext(\u001b[39mself\u001b[39m\u001b[39m.\u001b[39m_jit_compile):\n\u001b[1;32m--> 889\u001b[0m   result \u001b[39m=\u001b[39m \u001b[39mself\u001b[39m\u001b[39m.\u001b[39m_call(\u001b[39m*\u001b[39margs, \u001b[39m*\u001b[39m\u001b[39m*\u001b[39mkwds)\n\u001b[0;32m    891\u001b[0m new_tracing_count \u001b[39m=\u001b[39m \u001b[39mself\u001b[39m\u001b[39m.\u001b[39mexperimental_get_tracing_count()\n\u001b[0;32m    892\u001b[0m without_tracing \u001b[39m=\u001b[39m (tracing_count \u001b[39m==\u001b[39m new_tracing_count)\n",
      "File \u001b[1;32mc:\\Users\\domin\\anaconda3\\envs\\tensorflow1\\lib\\site-packages\\tensorflow\\python\\eager\\def_function.py:917\u001b[0m, in \u001b[0;36mFunction._call\u001b[1;34m(self, *args, **kwds)\u001b[0m\n\u001b[0;32m    914\u001b[0m   \u001b[39mself\u001b[39m\u001b[39m.\u001b[39m_lock\u001b[39m.\u001b[39mrelease()\n\u001b[0;32m    915\u001b[0m   \u001b[39m# In this case we have created variables on the first call, so we run the\u001b[39;00m\n\u001b[0;32m    916\u001b[0m   \u001b[39m# defunned version which is guaranteed to never create variables.\u001b[39;00m\n\u001b[1;32m--> 917\u001b[0m   \u001b[39mreturn\u001b[39;00m \u001b[39mself\u001b[39m\u001b[39m.\u001b[39m_stateless_fn(\u001b[39m*\u001b[39margs, \u001b[39m*\u001b[39m\u001b[39m*\u001b[39mkwds)  \u001b[39m# pylint: disable=not-callable\u001b[39;00m\n\u001b[0;32m    918\u001b[0m \u001b[39melif\u001b[39;00m \u001b[39mself\u001b[39m\u001b[39m.\u001b[39m_stateful_fn \u001b[39mis\u001b[39;00m \u001b[39mnot\u001b[39;00m \u001b[39mNone\u001b[39;00m:\n\u001b[0;32m    919\u001b[0m   \u001b[39m# Release the lock early so that multiple threads can perform the call\u001b[39;00m\n\u001b[0;32m    920\u001b[0m   \u001b[39m# in parallel.\u001b[39;00m\n\u001b[0;32m    921\u001b[0m   \u001b[39mself\u001b[39m\u001b[39m.\u001b[39m_lock\u001b[39m.\u001b[39mrelease()\n",
      "\u001b[1;31mTypeError\u001b[0m: 'NoneType' object is not callable"
     ]
    }
   ],
   "source": [
    "# We finally fit the model on our data:\n",
    "\n",
    "eff_history = model_final.fit(train_generator, validation_data = train_generator, steps_per_epoch = 2, epochs = 10)"
   ]
  },
  {
   "cell_type": "code",
   "execution_count": null,
   "metadata": {},
   "outputs": [],
   "source": [
    "# Importing OpenCV package\n",
    "import cv2\n",
    "  \n",
    "# Reading the image\n",
    "img = cv2.imread('Photos/cric4.jpg')\n",
    "  \n",
    "# Converting image to grayscale\n",
    "gray_img = cv2.cvtColor(img, cv2.COLOR_BGR2GRAY)\n",
    "  \n",
    "# Loading the required haar-cascade xml classifier file\n",
    "haar_cascade = cv2.CascadeClassifier('Haarcascade_frontalface_default.xml')\n",
    "  \n",
    "# Applying the face detection method on the grayscale image\n",
    "faces_rect = haar_cascade.detectMultiScale(gray_img, 1.1, 9)\n",
    "  \n",
    "# Iterating through rectangles of detected faces\n",
    "for (x, y, w, h) in faces_rect:\n",
    "    cv2.rectangle(img, (x, y), (x+w, y+h), (0, 255, 0), 2)\n",
    "  \n",
    "cv2.imshow('Detected faces', img)\n",
    "  \n",
    "cv2.waitKey(0)"
   ]
  }
 ],
 "metadata": {
  "interpreter": {
   "hash": "9d66b2642a2b12d1d050684366351f1fa3139f1d9f94f759added0be57a80a92"
  },
  "kernelspec": {
   "display_name": "Python 3.8.12 ('tensorflow')",
   "language": "python",
   "name": "python3"
  },
  "language_info": {
   "codemirror_mode": {
    "name": "ipython",
    "version": 3
   },
   "file_extension": ".py",
   "mimetype": "text/x-python",
   "name": "python",
   "nbconvert_exporter": "python",
   "pygments_lexer": "ipython3",
   "version": "3.8.12"
  },
  "orig_nbformat": 4
 },
 "nbformat": 4,
 "nbformat_minor": 2
}
